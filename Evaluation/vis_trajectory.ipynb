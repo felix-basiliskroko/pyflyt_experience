{
 "cells": [
  {
   "cell_type": "code",
   "outputs": [],
   "source": [
    "import numpy as np\n",
    "import matplotlib.pyplot as plt\n",
    "from Envs import register\n",
    "import gymnasium as gym\n",
    "from stable_baselines3 import PPO\n",
    "from vis_model import aggregate_eval, plot_eval, plot_multiple_eval, plotly_vector_field, visualize_plotly_model\n",
    "import plotly.express as px"
   ],
   "metadata": {
    "collapsed": false,
    "ExecuteTime": {
     "end_time": "2024-11-15T23:29:15.665493Z",
     "start_time": "2024-11-15T23:29:15.658533Z"
    }
   },
   "id": "d3166218e0a488c1",
   "execution_count": 2
  },
  {
   "cell_type": "code",
   "outputs": [
    {
     "name": "stdout",
     "output_type": "stream",
     "text": [
      "\u001B[A                             \u001B[A\n",
      "\u001B[A                             \u001B[A\n"
     ]
    }
   ],
   "source": [
    "model_path = \"../checkpoints/StaticWaypointEnv/SingleWaypointNavigation/NudgeControl/best_model\"\n",
    "env_id = \"SingleWaypointQuadXEnv-v0\"\n",
    "\n",
    "render = False\n",
    "num_eval_eps = 1\n",
    "env = gym.make(env_id, render_mode=\"human\" if render else None)\n",
    "_ = env.reset()\n",
    "model = PPO.load(model_path, deterministic=True)"
   ],
   "metadata": {
    "collapsed": false,
    "ExecuteTime": {
     "end_time": "2024-11-15T23:31:43.257718Z",
     "start_time": "2024-11-15T23:31:43.167093Z"
    }
   },
   "id": "1462640f054cb010",
   "execution_count": 14
  },
  {
   "cell_type": "code",
   "outputs": [
    {
     "name": "stderr",
     "output_type": "stream",
     "text": [
      "/Users/felixunterleiter/Documents/GitHub/pyflyt_experience/Evaluation/evaluation.py:67: UserWarning:\n",
      "\n",
      "Evaluation environment is not wrapped with a ``Monitor`` wrapper. This may result in reporting modified episode lengths and rewards, if other wrappers happen to modify these. Consider wrapping environment first with ``Monitor`` wrapper.\n",
      "\n"
     ]
    },
    {
     "name": "stdout",
     "output_type": "stream",
     "text": [
      "\u001B[A                             \u001B[A\n",
      "\u001B[A                             \u001B[A\n",
      "\u001B[A                             \u001B[A\n",
      "\u001B[A                             \u001B[A\n"
     ]
    }
   ],
   "source": [
    "result = aggregate_eval(model, env, num_eval_eps, render=False, include_waypoints=True)"
   ],
   "metadata": {
    "collapsed": false,
    "ExecuteTime": {
     "end_time": "2024-11-15T23:31:45.183013Z",
     "start_time": "2024-11-15T23:31:43.895982Z"
    }
   },
   "id": "aa10466bbcb5f83d",
   "execution_count": 15
  },
  {
   "cell_type": "markdown",
   "source": [
    "# Visualizing Trajectory and Waypoints"
   ],
   "metadata": {
    "collapsed": false
   },
   "id": "179ba6491035c132"
  },
  {
   "cell_type": "code",
   "outputs": [
    {
     "data": {
      "application/vnd.plotly.v1+json": {
       "data": [
        {
         "customdata": [
          [
           0,
           "Step: 0"
          ],
          [
           1,
           "Step: 1"
          ],
          [
           2,
           "Step: 2"
          ],
          [
           3,
           "Step: 3"
          ],
          [
           4,
           "Step: 4"
          ],
          [
           5,
           "Step: 5"
          ],
          [
           6,
           "Step: 6"
          ],
          [
           7,
           "Step: 7"
          ],
          [
           8,
           "Step: 8"
          ],
          [
           9,
           "Step: 9"
          ],
          [
           10,
           "Step: 10"
          ],
          [
           11,
           "Step: 11"
          ],
          [
           12,
           "Step: 12"
          ],
          [
           13,
           "Step: 13"
          ],
          [
           14,
           "Step: 14"
          ],
          [
           15,
           "Step: 15"
          ],
          [
           16,
           "Step: 16"
          ],
          [
           17,
           "Step: 17"
          ],
          [
           18,
           "Step: 18"
          ],
          [
           19,
           "Step: 19"
          ],
          [
           20,
           "Step: 20"
          ],
          [
           21,
           "Step: 21"
          ],
          [
           22,
           "Step: 22"
          ],
          [
           23,
           "Step: 23"
          ],
          [
           24,
           "Step: 24"
          ],
          [
           25,
           "Step: 25"
          ],
          [
           26,
           "Step: 26"
          ],
          [
           27,
           "Step: 27"
          ],
          [
           28,
           "Step: 28"
          ],
          [
           29,
           "Step: 29"
          ],
          [
           30,
           "Step: 30"
          ],
          [
           31,
           "Step: 31"
          ],
          [
           32,
           "Step: 32"
          ],
          [
           33,
           "Step: 33"
          ],
          [
           34,
           "Step: 34"
          ],
          [
           35,
           "Step: 35"
          ],
          [
           36,
           "Step: 36"
          ],
          [
           37,
           "Step: 37"
          ],
          [
           38,
           "Step: 38"
          ],
          [
           39,
           "Step: 39"
          ],
          [
           40,
           "Step: 40"
          ],
          [
           41,
           "Step: 41"
          ],
          [
           42,
           "Step: 42"
          ],
          [
           43,
           "Step: 43"
          ],
          [
           44,
           "Step: 44"
          ],
          [
           45,
           "Step: 45"
          ],
          [
           46,
           "Step: 46"
          ],
          [
           47,
           "Step: 47"
          ],
          [
           48,
           "Step: 48"
          ],
          [
           49,
           "Step: 49"
          ],
          [
           50,
           "Step: 50"
          ],
          [
           51,
           "Step: 51"
          ],
          [
           52,
           "Step: 52"
          ],
          [
           53,
           "Step: 53"
          ],
          [
           54,
           "Step: 54"
          ],
          [
           55,
           "Step: 55"
          ],
          [
           56,
           "Step: 56"
          ],
          [
           57,
           "Step: 57"
          ],
          [
           58,
           "Step: 58"
          ],
          [
           59,
           "Step: 59"
          ],
          [
           60,
           "Step: 60"
          ],
          [
           61,
           "Step: 61"
          ],
          [
           62,
           "Step: 62"
          ],
          [
           63,
           "Step: 63"
          ],
          [
           64,
           "Step: 64"
          ],
          [
           65,
           "Step: 65"
          ],
          [
           66,
           "Step: 66"
          ],
          [
           67,
           "Step: 67"
          ],
          [
           68,
           "Step: 68"
          ],
          [
           69,
           "Step: 69"
          ],
          [
           70,
           "Step: 70"
          ],
          [
           71,
           "Step: 71"
          ],
          [
           72,
           "Step: 72"
          ],
          [
           73,
           "Step: 73"
          ],
          [
           74,
           "Step: 74"
          ],
          [
           75,
           "Step: 75"
          ],
          [
           76,
           "Step: 76"
          ],
          [
           77,
           "Step: 77"
          ],
          [
           78,
           "Step: 78"
          ],
          [
           79,
           "Step: 79"
          ],
          [
           80,
           "Step: 80"
          ],
          [
           81,
           "Step: 81"
          ],
          [
           82,
           "Step: 82"
          ],
          [
           83,
           "Step: 83"
          ],
          [
           84,
           "Step: 84"
          ],
          [
           85,
           "Step: 85"
          ],
          [
           86,
           "Step: 86"
          ],
          [
           87,
           "Step: 87"
          ],
          [
           88,
           "Step: 88"
          ],
          [
           89,
           "Step: 89"
          ]
         ],
         "hovertemplate": "Episode: %{customdata[0]}<br>Step: %{customdata[1]}<br>X: %{x}<br>Y: %{y}<br>Z: %{z}<br>%{customdata[2]}<extra></extra>",
         "legendgroup": "Position",
         "marker": {
          "color": [
           0,
           0,
           0,
           0,
           0,
           0,
           0,
           0,
           0,
           0,
           0,
           0,
           0,
           0,
           0,
           0,
           0,
           0,
           0,
           0,
           0,
           0,
           0,
           0,
           0,
           0,
           0,
           0,
           0,
           0,
           0,
           0,
           0,
           0,
           0,
           0,
           0,
           0,
           0,
           0,
           0,
           0,
           0,
           0,
           0,
           0,
           0,
           0,
           0,
           0,
           0,
           0,
           0,
           0,
           0,
           0,
           0,
           0,
           0,
           0,
           0,
           0,
           0,
           0,
           0,
           0,
           0,
           0,
           0,
           0,
           0,
           0,
           0,
           0,
           0,
           0,
           0,
           0,
           0,
           0,
           0,
           0,
           0,
           0,
           0,
           0,
           0,
           0,
           0,
           0
          ],
          "coloraxis": "coloraxis",
          "symbol": "circle",
          "size": 5
         },
         "mode": "markers",
         "name": "Position",
         "scene": "scene",
         "showlegend": true,
         "x": [
          1.9393597173200295E-4,
          4.911094785186607E-4,
          0.0015112347063061715,
          0.003574310646649911,
          0.00653861480633883,
          0.010708820343204292,
          0.017266126671372648,
          0.025513628299099294,
          0.03567088218969948,
          0.048655544185714585,
          0.06361067023602401,
          0.08269697886024283,
          0.10368061044165573,
          0.12695885052813813,
          0.153627374070081,
          0.1827532008406828,
          0.21661036834248126,
          0.25225861090272644,
          0.2897275956819999,
          0.33150807108848546,
          0.37499357997644245,
          0.4207001065489522,
          0.4709426541667006,
          0.5231444685915787,
          0.5780811844079926,
          0.6351685457123231,
          0.6970168295825988,
          0.7600960800893504,
          0.8254725155878045,
          0.8941004959889507,
          0.9663067975195991,
          1.0415440118753627,
          1.118772884243281,
          1.2004188634678374,
          1.286101058066253,
          1.3730774689571157,
          1.4618744201056808,
          1.5553964965467622,
          1.6502759006432839,
          1.7476004722773204,
          1.847220913669432,
          1.951524434973069,
          2.060256818419478,
          2.1700642974977584,
          2.281506674195744,
          2.397517005715175,
          2.5155533439129862,
          2.6360261268489795,
          2.758773396913693,
          2.8867923011803045,
          3.016663022793611,
          3.1478846133785363,
          3.2810999089756177,
          3.4186161659568723,
          3.5576807690411694,
          3.69852364171868,
          3.843809885456867,
          3.9895232105934992,
          4.135778366447617,
          4.285647732666037,
          4.439644782386133,
          4.593967772361827,
          4.749363760063724,
          4.908581150100913,
          5.072239765295292,
          5.236127506639443,
          5.399864587679921,
          5.567186137816162,
          5.737743920695337,
          5.910294693811613,
          6.087416597762232,
          6.264675923715061,
          6.441495726709156,
          6.621505343797961,
          6.8064064836853815,
          6.992198893414782,
          7.1800392306804195,
          7.369713395233696,
          7.564241297521809,
          7.7603802026233275,
          7.957696675116852,
          8.158719097647209,
          8.363587873132458,
          8.568940617980939,
          8.775408189678865,
          8.985844198814144,
          9.197715714632281,
          9.410253922735807,
          9.626258048405049,
          9.84282127901335
         ],
         "y": [
          1.5033336090408182E-4,
          4.810968959102854E-4,
          0.0011625468646689504,
          0.002086201657334832,
          0.0031997792957901717,
          0.004526813363607957,
          0.006160265511692685,
          0.00798444436291171,
          0.009941248946598322,
          0.011989861843715819,
          0.01408461136387926,
          0.016211331385641906,
          0.018376539741350038,
          0.020598522808737054,
          0.022824304680671585,
          0.02503617762129005,
          0.02711713435328036,
          0.029149235248370563,
          0.031128979103718875,
          0.032929382714451984,
          0.03465668040806367,
          0.03627506973155801,
          0.03759987998694389,
          0.03885159200568987,
          0.04001999210332013,
          0.041059577454050346,
          0.04177365861297812,
          0.04241895351822006,
          0.04300797775119601,
          0.04347502191738474,
          0.04376145116390239,
          0.04382929461514688,
          0.043724055505500875,
          0.04327815060561882,
          0.042387006852640643,
          0.041264659143309776,
          0.03977515919723779,
          0.037387399344055675,
          0.03469160057096824,
          0.03147949889588792,
          0.027734854425677608,
          0.022883176804848155,
          0.016921739385659954,
          0.01055440890039208,
          0.003556473228520613,
          -0.005038516868617054,
          -0.014470494157166879,
          -0.024937867925883032,
          -0.0364073267907959,
          -0.05000336468771636,
          -0.06455605475108897,
          -0.0799173604751079,
          -0.09640619221740664,
          -0.11508938087067384,
          -0.13470787433517706,
          -0.15537021189406183,
          -0.1783235934880479,
          -0.20174119187628858,
          -0.2257292634553136,
          -0.2519163213220411,
          -0.2806364868393694,
          -0.3098577224758454,
          -0.3400435259125255,
          -0.37282980116527825,
          -0.4085509446546632,
          -0.4447197069082534,
          -0.48105021888093724,
          -0.5188709949151576,
          -0.5579403786887882,
          -0.597863654196493,
          -0.6395108340701539,
          -0.6813990407828752,
          -0.7233377496356838,
          -0.7665200417525754,
          -0.8115441509637402,
          -0.8571120154023593,
          -0.9036713708188902,
          -0.9511212559092742,
          -1.0005249998099432,
          -1.050645754108029,
          -1.1013130270432379,
          -1.1533521812119822,
          -1.2068159383084407,
          -1.2606311129777623,
          -1.31504846954042,
          -1.3711398120984335,
          -1.4280401668341376,
          -1.485463361005097,
          -1.5445824118088165,
          -1.6041872546361606
         ],
         "z": [
          2.991132518424454,
          2.9935115561476304,
          3.001227848362829,
          3.0119693933482705,
          3.0199038356470056,
          3.025203132594698,
          3.0338288298063216,
          3.040169427327261,
          3.0442572792342095,
          3.04920135761997,
          3.050773799820592,
          3.0565663153525833,
          3.0583660846461744,
          3.0575492299992435,
          3.058010396831412,
          3.056151980400348,
          3.0600723839785045,
          3.0595054255209844,
          3.05454888886864,
          3.05419700988734,
          3.049019471940394,
          3.0407140213665813,
          3.037494902631424,
          3.03042122534329,
          3.022223466549221,
          3.010984101265788,
          3.0059557279129225,
          2.9944340919586683,
          2.9794850368045003,
          2.964386665891273,
          2.950470695791995,
          2.9362470850312814,
          2.9181828844437914,
          2.904194619156768,
          2.893244489216121,
          2.876187175886527,
          2.854745411479065,
          2.838704098412866,
          2.816798350769444,
          2.792353007351566,
          2.765265345236239,
          2.7436927482662092,
          2.727015809555471,
          2.7039292611468997,
          2.6762015622012716,
          2.653716433157461,
          2.6281154001216938,
          2.600746197987883,
          2.571091965670472,
          2.549172293931715,
          2.5239832031053697,
          2.493915935067116,
          2.461269576685188,
          2.4343440791408724,
          2.403578973868571,
          2.3699016616888016,
          2.343137815599075,
          2.3088005227168686,
          2.2671836795630456,
          2.2291500629356045,
          2.1966152862263817,
          2.156319509459864,
          2.1107730459748577,
          2.069986587006743,
          2.036895018821566,
          1.996064047869707,
          1.9460332158667806,
          1.8996426398522344,
          1.8553251245985014,
          1.809194585878743,
          1.7703356448914196,
          1.7235126126923674,
          1.666762728544037,
          1.6108296659992256,
          1.5621586037731456,
          1.508044768965333,
          1.4519690768649076,
          1.3934345489210276,
          1.3422187814068471,
          1.2881056723351691,
          1.2297088980218964,
          1.175138054038999,
          1.1253346976532823,
          1.069387704443469,
          1.0093869974569312,
          0.9549084746148193,
          0.8978477588037808,
          0.8356156476139279,
          0.77759904581575,
          0.7141441832696093
         ],
         "type": "scatter3d"
        },
        {
         "customdata": [
          [
           90,
           "Waypoint, Step: 90"
          ]
         ],
         "hovertemplate": "Episode: %{customdata[0]}<br>Step: %{customdata[1]}<br>X: %{x}<br>Y: %{y}<br>Z: %{z}<br>%{customdata[2]}<extra></extra>",
         "legendgroup": "Waypoint",
         "marker": {
          "color": [
           0
          ],
          "coloraxis": "coloraxis",
          "symbol": "diamond",
          "size": 5
         },
         "mode": "markers",
         "name": "Waypoint",
         "scene": "scene",
         "showlegend": true,
         "x": [
          4.170179182143064
         ],
         "y": [
          -0.044667100369540635
         ],
         "z": [
          8.5
         ],
         "type": "scatter3d"
        }
       ],
       "layout": {
        "template": {
         "data": {
          "histogram2dcontour": [
           {
            "type": "histogram2dcontour",
            "colorbar": {
             "outlinewidth": 0,
             "ticks": ""
            },
            "colorscale": [
             [
              0.0,
              "#0d0887"
             ],
             [
              0.1111111111111111,
              "#46039f"
             ],
             [
              0.2222222222222222,
              "#7201a8"
             ],
             [
              0.3333333333333333,
              "#9c179e"
             ],
             [
              0.4444444444444444,
              "#bd3786"
             ],
             [
              0.5555555555555556,
              "#d8576b"
             ],
             [
              0.6666666666666666,
              "#ed7953"
             ],
             [
              0.7777777777777778,
              "#fb9f3a"
             ],
             [
              0.8888888888888888,
              "#fdca26"
             ],
             [
              1.0,
              "#f0f921"
             ]
            ]
           }
          ],
          "choropleth": [
           {
            "type": "choropleth",
            "colorbar": {
             "outlinewidth": 0,
             "ticks": ""
            }
           }
          ],
          "histogram2d": [
           {
            "type": "histogram2d",
            "colorbar": {
             "outlinewidth": 0,
             "ticks": ""
            },
            "colorscale": [
             [
              0.0,
              "#0d0887"
             ],
             [
              0.1111111111111111,
              "#46039f"
             ],
             [
              0.2222222222222222,
              "#7201a8"
             ],
             [
              0.3333333333333333,
              "#9c179e"
             ],
             [
              0.4444444444444444,
              "#bd3786"
             ],
             [
              0.5555555555555556,
              "#d8576b"
             ],
             [
              0.6666666666666666,
              "#ed7953"
             ],
             [
              0.7777777777777778,
              "#fb9f3a"
             ],
             [
              0.8888888888888888,
              "#fdca26"
             ],
             [
              1.0,
              "#f0f921"
             ]
            ]
           }
          ],
          "heatmap": [
           {
            "type": "heatmap",
            "colorbar": {
             "outlinewidth": 0,
             "ticks": ""
            },
            "colorscale": [
             [
              0.0,
              "#0d0887"
             ],
             [
              0.1111111111111111,
              "#46039f"
             ],
             [
              0.2222222222222222,
              "#7201a8"
             ],
             [
              0.3333333333333333,
              "#9c179e"
             ],
             [
              0.4444444444444444,
              "#bd3786"
             ],
             [
              0.5555555555555556,
              "#d8576b"
             ],
             [
              0.6666666666666666,
              "#ed7953"
             ],
             [
              0.7777777777777778,
              "#fb9f3a"
             ],
             [
              0.8888888888888888,
              "#fdca26"
             ],
             [
              1.0,
              "#f0f921"
             ]
            ]
           }
          ],
          "heatmapgl": [
           {
            "type": "heatmapgl",
            "colorbar": {
             "outlinewidth": 0,
             "ticks": ""
            },
            "colorscale": [
             [
              0.0,
              "#0d0887"
             ],
             [
              0.1111111111111111,
              "#46039f"
             ],
             [
              0.2222222222222222,
              "#7201a8"
             ],
             [
              0.3333333333333333,
              "#9c179e"
             ],
             [
              0.4444444444444444,
              "#bd3786"
             ],
             [
              0.5555555555555556,
              "#d8576b"
             ],
             [
              0.6666666666666666,
              "#ed7953"
             ],
             [
              0.7777777777777778,
              "#fb9f3a"
             ],
             [
              0.8888888888888888,
              "#fdca26"
             ],
             [
              1.0,
              "#f0f921"
             ]
            ]
           }
          ],
          "contourcarpet": [
           {
            "type": "contourcarpet",
            "colorbar": {
             "outlinewidth": 0,
             "ticks": ""
            }
           }
          ],
          "contour": [
           {
            "type": "contour",
            "colorbar": {
             "outlinewidth": 0,
             "ticks": ""
            },
            "colorscale": [
             [
              0.0,
              "#0d0887"
             ],
             [
              0.1111111111111111,
              "#46039f"
             ],
             [
              0.2222222222222222,
              "#7201a8"
             ],
             [
              0.3333333333333333,
              "#9c179e"
             ],
             [
              0.4444444444444444,
              "#bd3786"
             ],
             [
              0.5555555555555556,
              "#d8576b"
             ],
             [
              0.6666666666666666,
              "#ed7953"
             ],
             [
              0.7777777777777778,
              "#fb9f3a"
             ],
             [
              0.8888888888888888,
              "#fdca26"
             ],
             [
              1.0,
              "#f0f921"
             ]
            ]
           }
          ],
          "surface": [
           {
            "type": "surface",
            "colorbar": {
             "outlinewidth": 0,
             "ticks": ""
            },
            "colorscale": [
             [
              0.0,
              "#0d0887"
             ],
             [
              0.1111111111111111,
              "#46039f"
             ],
             [
              0.2222222222222222,
              "#7201a8"
             ],
             [
              0.3333333333333333,
              "#9c179e"
             ],
             [
              0.4444444444444444,
              "#bd3786"
             ],
             [
              0.5555555555555556,
              "#d8576b"
             ],
             [
              0.6666666666666666,
              "#ed7953"
             ],
             [
              0.7777777777777778,
              "#fb9f3a"
             ],
             [
              0.8888888888888888,
              "#fdca26"
             ],
             [
              1.0,
              "#f0f921"
             ]
            ]
           }
          ],
          "mesh3d": [
           {
            "type": "mesh3d",
            "colorbar": {
             "outlinewidth": 0,
             "ticks": ""
            }
           }
          ],
          "scatter": [
           {
            "marker": {
             "line": {
              "color": "#283442"
             }
            },
            "type": "scatter"
           }
          ],
          "parcoords": [
           {
            "type": "parcoords",
            "line": {
             "colorbar": {
              "outlinewidth": 0,
              "ticks": ""
             }
            }
           }
          ],
          "scatterpolargl": [
           {
            "type": "scatterpolargl",
            "marker": {
             "colorbar": {
              "outlinewidth": 0,
              "ticks": ""
             }
            }
           }
          ],
          "bar": [
           {
            "error_x": {
             "color": "#f2f5fa"
            },
            "error_y": {
             "color": "#f2f5fa"
            },
            "marker": {
             "line": {
              "color": "rgb(17,17,17)",
              "width": 0.5
             },
             "pattern": {
              "fillmode": "overlay",
              "size": 10,
              "solidity": 0.2
             }
            },
            "type": "bar"
           }
          ],
          "scattergeo": [
           {
            "type": "scattergeo",
            "marker": {
             "colorbar": {
              "outlinewidth": 0,
              "ticks": ""
             }
            }
           }
          ],
          "scatterpolar": [
           {
            "type": "scatterpolar",
            "marker": {
             "colorbar": {
              "outlinewidth": 0,
              "ticks": ""
             }
            }
           }
          ],
          "histogram": [
           {
            "marker": {
             "pattern": {
              "fillmode": "overlay",
              "size": 10,
              "solidity": 0.2
             }
            },
            "type": "histogram"
           }
          ],
          "scattergl": [
           {
            "marker": {
             "line": {
              "color": "#283442"
             }
            },
            "type": "scattergl"
           }
          ],
          "scatter3d": [
           {
            "type": "scatter3d",
            "line": {
             "colorbar": {
              "outlinewidth": 0,
              "ticks": ""
             }
            },
            "marker": {
             "colorbar": {
              "outlinewidth": 0,
              "ticks": ""
             }
            }
           }
          ],
          "scattermapbox": [
           {
            "type": "scattermapbox",
            "marker": {
             "colorbar": {
              "outlinewidth": 0,
              "ticks": ""
             }
            }
           }
          ],
          "scatterternary": [
           {
            "type": "scatterternary",
            "marker": {
             "colorbar": {
              "outlinewidth": 0,
              "ticks": ""
             }
            }
           }
          ],
          "scattercarpet": [
           {
            "type": "scattercarpet",
            "marker": {
             "colorbar": {
              "outlinewidth": 0,
              "ticks": ""
             }
            }
           }
          ],
          "carpet": [
           {
            "aaxis": {
             "endlinecolor": "#A2B1C6",
             "gridcolor": "#506784",
             "linecolor": "#506784",
             "minorgridcolor": "#506784",
             "startlinecolor": "#A2B1C6"
            },
            "baxis": {
             "endlinecolor": "#A2B1C6",
             "gridcolor": "#506784",
             "linecolor": "#506784",
             "minorgridcolor": "#506784",
             "startlinecolor": "#A2B1C6"
            },
            "type": "carpet"
           }
          ],
          "table": [
           {
            "cells": {
             "fill": {
              "color": "#506784"
             },
             "line": {
              "color": "rgb(17,17,17)"
             }
            },
            "header": {
             "fill": {
              "color": "#2a3f5f"
             },
             "line": {
              "color": "rgb(17,17,17)"
             }
            },
            "type": "table"
           }
          ],
          "barpolar": [
           {
            "marker": {
             "line": {
              "color": "rgb(17,17,17)",
              "width": 0.5
             },
             "pattern": {
              "fillmode": "overlay",
              "size": 10,
              "solidity": 0.2
             }
            },
            "type": "barpolar"
           }
          ],
          "pie": [
           {
            "automargin": true,
            "type": "pie"
           }
          ]
         },
         "layout": {
          "autotypenumbers": "strict",
          "colorway": [
           "#636efa",
           "#EF553B",
           "#00cc96",
           "#ab63fa",
           "#FFA15A",
           "#19d3f3",
           "#FF6692",
           "#B6E880",
           "#FF97FF",
           "#FECB52"
          ],
          "font": {
           "color": "#f2f5fa"
          },
          "hovermode": "closest",
          "hoverlabel": {
           "align": "left"
          },
          "paper_bgcolor": "rgb(17,17,17)",
          "plot_bgcolor": "rgb(17,17,17)",
          "polar": {
           "bgcolor": "rgb(17,17,17)",
           "angularaxis": {
            "gridcolor": "#506784",
            "linecolor": "#506784",
            "ticks": ""
           },
           "radialaxis": {
            "gridcolor": "#506784",
            "linecolor": "#506784",
            "ticks": ""
           }
          },
          "ternary": {
           "bgcolor": "rgb(17,17,17)",
           "aaxis": {
            "gridcolor": "#506784",
            "linecolor": "#506784",
            "ticks": ""
           },
           "baxis": {
            "gridcolor": "#506784",
            "linecolor": "#506784",
            "ticks": ""
           },
           "caxis": {
            "gridcolor": "#506784",
            "linecolor": "#506784",
            "ticks": ""
           }
          },
          "coloraxis": {
           "colorbar": {
            "outlinewidth": 0,
            "ticks": ""
           }
          },
          "colorscale": {
           "sequential": [
            [
             0.0,
             "#0d0887"
            ],
            [
             0.1111111111111111,
             "#46039f"
            ],
            [
             0.2222222222222222,
             "#7201a8"
            ],
            [
             0.3333333333333333,
             "#9c179e"
            ],
            [
             0.4444444444444444,
             "#bd3786"
            ],
            [
             0.5555555555555556,
             "#d8576b"
            ],
            [
             0.6666666666666666,
             "#ed7953"
            ],
            [
             0.7777777777777778,
             "#fb9f3a"
            ],
            [
             0.8888888888888888,
             "#fdca26"
            ],
            [
             1.0,
             "#f0f921"
            ]
           ],
           "sequentialminus": [
            [
             0.0,
             "#0d0887"
            ],
            [
             0.1111111111111111,
             "#46039f"
            ],
            [
             0.2222222222222222,
             "#7201a8"
            ],
            [
             0.3333333333333333,
             "#9c179e"
            ],
            [
             0.4444444444444444,
             "#bd3786"
            ],
            [
             0.5555555555555556,
             "#d8576b"
            ],
            [
             0.6666666666666666,
             "#ed7953"
            ],
            [
             0.7777777777777778,
             "#fb9f3a"
            ],
            [
             0.8888888888888888,
             "#fdca26"
            ],
            [
             1.0,
             "#f0f921"
            ]
           ],
           "diverging": [
            [
             0,
             "#8e0152"
            ],
            [
             0.1,
             "#c51b7d"
            ],
            [
             0.2,
             "#de77ae"
            ],
            [
             0.3,
             "#f1b6da"
            ],
            [
             0.4,
             "#fde0ef"
            ],
            [
             0.5,
             "#f7f7f7"
            ],
            [
             0.6,
             "#e6f5d0"
            ],
            [
             0.7,
             "#b8e186"
            ],
            [
             0.8,
             "#7fbc41"
            ],
            [
             0.9,
             "#4d9221"
            ],
            [
             1,
             "#276419"
            ]
           ]
          },
          "xaxis": {
           "gridcolor": "#283442",
           "linecolor": "#506784",
           "ticks": "",
           "title": {
            "standoff": 15
           },
           "zerolinecolor": "#283442",
           "automargin": true,
           "zerolinewidth": 2
          },
          "yaxis": {
           "gridcolor": "#283442",
           "linecolor": "#506784",
           "ticks": "",
           "title": {
            "standoff": 15
           },
           "zerolinecolor": "#283442",
           "automargin": true,
           "zerolinewidth": 2
          },
          "scene": {
           "xaxis": {
            "backgroundcolor": "rgb(17,17,17)",
            "gridcolor": "#506784",
            "linecolor": "#506784",
            "showbackground": true,
            "ticks": "",
            "zerolinecolor": "#C8D4E3",
            "gridwidth": 2
           },
           "yaxis": {
            "backgroundcolor": "rgb(17,17,17)",
            "gridcolor": "#506784",
            "linecolor": "#506784",
            "showbackground": true,
            "ticks": "",
            "zerolinecolor": "#C8D4E3",
            "gridwidth": 2
           },
           "zaxis": {
            "backgroundcolor": "rgb(17,17,17)",
            "gridcolor": "#506784",
            "linecolor": "#506784",
            "showbackground": true,
            "ticks": "",
            "zerolinecolor": "#C8D4E3",
            "gridwidth": 2
           }
          },
          "shapedefaults": {
           "line": {
            "color": "#f2f5fa"
           }
          },
          "annotationdefaults": {
           "arrowcolor": "#f2f5fa",
           "arrowhead": 0,
           "arrowwidth": 1
          },
          "geo": {
           "bgcolor": "rgb(17,17,17)",
           "landcolor": "rgb(17,17,17)",
           "subunitcolor": "#506784",
           "showland": true,
           "showlakes": true,
           "lakecolor": "rgb(17,17,17)"
          },
          "title": {
           "x": 0.05
          },
          "updatemenudefaults": {
           "bgcolor": "#506784",
           "borderwidth": 0
          },
          "sliderdefaults": {
           "bgcolor": "#C8D4E3",
           "borderwidth": 1,
           "bordercolor": "rgb(17,17,17)",
           "tickwidth": 0
          },
          "mapbox": {
           "style": "dark"
          }
         }
        },
        "scene": {
         "domain": {
          "x": [
           0.0,
           1.0
          ],
          "y": [
           0.0,
           1.0
          ]
         },
         "xaxis": {
          "title": {
           "text": "X"
          }
         },
         "yaxis": {
          "title": {
           "text": "Y"
          }
         },
         "zaxis": {
          "title": {
           "text": "Z"
          }
         }
        },
        "coloraxis": {
         "colorbar": {
          "title": {
           "text": "Episode"
          }
         },
         "colorscale": [
          [
           0.0,
           "#0d0887"
          ],
          [
           0.1111111111111111,
           "#46039f"
          ],
          [
           0.2222222222222222,
           "#7201a8"
          ],
          [
           0.3333333333333333,
           "#9c179e"
          ],
          [
           0.4444444444444444,
           "#bd3786"
          ],
          [
           0.5555555555555556,
           "#d8576b"
          ],
          [
           0.6666666666666666,
           "#ed7953"
          ],
          [
           0.7777777777777778,
           "#fb9f3a"
          ],
          [
           0.8888888888888888,
           "#fdca26"
          ],
          [
           1.0,
           "#f0f921"
          ]
         ]
        },
        "legend": {
         "title": {
          "text": "Type"
         },
         "tracegroupgap": 0
        },
        "title": {
         "text": "Trajectory and Waypoints per Episode"
        }
       },
       "config": {
        "plotlyServerURL": "https://plot.ly"
       }
      },
      "text/html": "<div>                            <div id=\"5b2e167d-40b8-4ad1-ab43-d046145e0ebb\" class=\"plotly-graph-div\" style=\"height:525px; width:100%;\"></div>            <script type=\"text/javascript\">                require([\"plotly\"], function(Plotly) {                    window.PLOTLYENV=window.PLOTLYENV || {};                                    if (document.getElementById(\"5b2e167d-40b8-4ad1-ab43-d046145e0ebb\")) {                    Plotly.newPlot(                        \"5b2e167d-40b8-4ad1-ab43-d046145e0ebb\",                        [{\"customdata\":[[0,\"Step: 0\"],[1,\"Step: 1\"],[2,\"Step: 2\"],[3,\"Step: 3\"],[4,\"Step: 4\"],[5,\"Step: 5\"],[6,\"Step: 6\"],[7,\"Step: 7\"],[8,\"Step: 8\"],[9,\"Step: 9\"],[10,\"Step: 10\"],[11,\"Step: 11\"],[12,\"Step: 12\"],[13,\"Step: 13\"],[14,\"Step: 14\"],[15,\"Step: 15\"],[16,\"Step: 16\"],[17,\"Step: 17\"],[18,\"Step: 18\"],[19,\"Step: 19\"],[20,\"Step: 20\"],[21,\"Step: 21\"],[22,\"Step: 22\"],[23,\"Step: 23\"],[24,\"Step: 24\"],[25,\"Step: 25\"],[26,\"Step: 26\"],[27,\"Step: 27\"],[28,\"Step: 28\"],[29,\"Step: 29\"],[30,\"Step: 30\"],[31,\"Step: 31\"],[32,\"Step: 32\"],[33,\"Step: 33\"],[34,\"Step: 34\"],[35,\"Step: 35\"],[36,\"Step: 36\"],[37,\"Step: 37\"],[38,\"Step: 38\"],[39,\"Step: 39\"],[40,\"Step: 40\"],[41,\"Step: 41\"],[42,\"Step: 42\"],[43,\"Step: 43\"],[44,\"Step: 44\"],[45,\"Step: 45\"],[46,\"Step: 46\"],[47,\"Step: 47\"],[48,\"Step: 48\"],[49,\"Step: 49\"],[50,\"Step: 50\"],[51,\"Step: 51\"],[52,\"Step: 52\"],[53,\"Step: 53\"],[54,\"Step: 54\"],[55,\"Step: 55\"],[56,\"Step: 56\"],[57,\"Step: 57\"],[58,\"Step: 58\"],[59,\"Step: 59\"],[60,\"Step: 60\"],[61,\"Step: 61\"],[62,\"Step: 62\"],[63,\"Step: 63\"],[64,\"Step: 64\"],[65,\"Step: 65\"],[66,\"Step: 66\"],[67,\"Step: 67\"],[68,\"Step: 68\"],[69,\"Step: 69\"],[70,\"Step: 70\"],[71,\"Step: 71\"],[72,\"Step: 72\"],[73,\"Step: 73\"],[74,\"Step: 74\"],[75,\"Step: 75\"],[76,\"Step: 76\"],[77,\"Step: 77\"],[78,\"Step: 78\"],[79,\"Step: 79\"],[80,\"Step: 80\"],[81,\"Step: 81\"],[82,\"Step: 82\"],[83,\"Step: 83\"],[84,\"Step: 84\"],[85,\"Step: 85\"],[86,\"Step: 86\"],[87,\"Step: 87\"],[88,\"Step: 88\"],[89,\"Step: 89\"]],\"hovertemplate\":\"Episode: %{customdata[0]}\\u003cbr\\u003eStep: %{customdata[1]}\\u003cbr\\u003eX: %{x}\\u003cbr\\u003eY: %{y}\\u003cbr\\u003eZ: %{z}\\u003cbr\\u003e%{customdata[2]}\\u003cextra\\u003e\\u003c\\u002fextra\\u003e\",\"legendgroup\":\"Position\",\"marker\":{\"color\":[0,0,0,0,0,0,0,0,0,0,0,0,0,0,0,0,0,0,0,0,0,0,0,0,0,0,0,0,0,0,0,0,0,0,0,0,0,0,0,0,0,0,0,0,0,0,0,0,0,0,0,0,0,0,0,0,0,0,0,0,0,0,0,0,0,0,0,0,0,0,0,0,0,0,0,0,0,0,0,0,0,0,0,0,0,0,0,0,0,0],\"coloraxis\":\"coloraxis\",\"symbol\":\"circle\",\"size\":5},\"mode\":\"markers\",\"name\":\"Position\",\"scene\":\"scene\",\"showlegend\":true,\"x\":[0.00019393597173200295,0.0004911094785186607,0.0015112347063061715,0.003574310646649911,0.00653861480633883,0.010708820343204292,0.017266126671372648,0.025513628299099294,0.03567088218969948,0.048655544185714585,0.06361067023602401,0.08269697886024283,0.10368061044165573,0.12695885052813813,0.153627374070081,0.1827532008406828,0.21661036834248126,0.25225861090272644,0.2897275956819999,0.33150807108848546,0.37499357997644245,0.4207001065489522,0.4709426541667006,0.5231444685915787,0.5780811844079926,0.6351685457123231,0.6970168295825988,0.7600960800893504,0.8254725155878045,0.8941004959889507,0.9663067975195991,1.0415440118753627,1.118772884243281,1.2004188634678374,1.286101058066253,1.3730774689571157,1.4618744201056808,1.5553964965467622,1.6502759006432839,1.7476004722773204,1.847220913669432,1.951524434973069,2.060256818419478,2.1700642974977584,2.281506674195744,2.397517005715175,2.5155533439129862,2.6360261268489795,2.758773396913693,2.8867923011803045,3.016663022793611,3.1478846133785363,3.2810999089756177,3.4186161659568723,3.5576807690411694,3.69852364171868,3.843809885456867,3.9895232105934992,4.135778366447617,4.285647732666037,4.439644782386133,4.593967772361827,4.749363760063724,4.908581150100913,5.072239765295292,5.236127506639443,5.399864587679921,5.567186137816162,5.737743920695337,5.910294693811613,6.087416597762232,6.264675923715061,6.441495726709156,6.621505343797961,6.8064064836853815,6.992198893414782,7.1800392306804195,7.369713395233696,7.564241297521809,7.7603802026233275,7.957696675116852,8.158719097647209,8.363587873132458,8.568940617980939,8.775408189678865,8.985844198814144,9.197715714632281,9.410253922735807,9.626258048405049,9.84282127901335],\"y\":[0.00015033336090408182,0.0004810968959102854,0.0011625468646689504,0.002086201657334832,0.0031997792957901717,0.004526813363607957,0.006160265511692685,0.00798444436291171,0.009941248946598322,0.011989861843715819,0.01408461136387926,0.016211331385641906,0.018376539741350038,0.020598522808737054,0.022824304680671585,0.02503617762129005,0.02711713435328036,0.029149235248370563,0.031128979103718875,0.032929382714451984,0.03465668040806367,0.03627506973155801,0.03759987998694389,0.03885159200568987,0.04001999210332013,0.041059577454050346,0.04177365861297812,0.04241895351822006,0.04300797775119601,0.04347502191738474,0.04376145116390239,0.04382929461514688,0.043724055505500875,0.04327815060561882,0.042387006852640643,0.041264659143309776,0.03977515919723779,0.037387399344055675,0.03469160057096824,0.03147949889588792,0.027734854425677608,0.022883176804848155,0.016921739385659954,0.01055440890039208,0.003556473228520613,-0.005038516868617054,-0.014470494157166879,-0.024937867925883032,-0.0364073267907959,-0.05000336468771636,-0.06455605475108897,-0.0799173604751079,-0.09640619221740664,-0.11508938087067384,-0.13470787433517706,-0.15537021189406183,-0.1783235934880479,-0.20174119187628858,-0.2257292634553136,-0.2519163213220411,-0.2806364868393694,-0.3098577224758454,-0.3400435259125255,-0.37282980116527825,-0.4085509446546632,-0.4447197069082534,-0.48105021888093724,-0.5188709949151576,-0.5579403786887882,-0.597863654196493,-0.6395108340701539,-0.6813990407828752,-0.7233377496356838,-0.7665200417525754,-0.8115441509637402,-0.8571120154023593,-0.9036713708188902,-0.9511212559092742,-1.0005249998099432,-1.050645754108029,-1.1013130270432379,-1.1533521812119822,-1.2068159383084407,-1.2606311129777623,-1.31504846954042,-1.3711398120984335,-1.4280401668341376,-1.485463361005097,-1.5445824118088165,-1.6041872546361606],\"z\":[2.991132518424454,2.9935115561476304,3.001227848362829,3.0119693933482705,3.0199038356470056,3.025203132594698,3.0338288298063216,3.040169427327261,3.0442572792342095,3.04920135761997,3.050773799820592,3.0565663153525833,3.0583660846461744,3.0575492299992435,3.058010396831412,3.056151980400348,3.0600723839785045,3.0595054255209844,3.05454888886864,3.05419700988734,3.049019471940394,3.0407140213665813,3.037494902631424,3.03042122534329,3.022223466549221,3.010984101265788,3.0059557279129225,2.9944340919586683,2.9794850368045003,2.964386665891273,2.950470695791995,2.9362470850312814,2.9181828844437914,2.904194619156768,2.893244489216121,2.876187175886527,2.854745411479065,2.838704098412866,2.816798350769444,2.792353007351566,2.765265345236239,2.7436927482662092,2.727015809555471,2.7039292611468997,2.6762015622012716,2.653716433157461,2.6281154001216938,2.600746197987883,2.571091965670472,2.549172293931715,2.5239832031053697,2.493915935067116,2.461269576685188,2.4343440791408724,2.403578973868571,2.3699016616888016,2.343137815599075,2.3088005227168686,2.2671836795630456,2.2291500629356045,2.1966152862263817,2.156319509459864,2.1107730459748577,2.069986587006743,2.036895018821566,1.996064047869707,1.9460332158667806,1.8996426398522344,1.8553251245985014,1.809194585878743,1.7703356448914196,1.7235126126923674,1.666762728544037,1.6108296659992256,1.5621586037731456,1.508044768965333,1.4519690768649076,1.3934345489210276,1.3422187814068471,1.2881056723351691,1.2297088980218964,1.175138054038999,1.1253346976532823,1.069387704443469,1.0093869974569312,0.9549084746148193,0.8978477588037808,0.8356156476139279,0.77759904581575,0.7141441832696093],\"type\":\"scatter3d\"},{\"customdata\":[[90,\"Waypoint, Step: 90\"]],\"hovertemplate\":\"Episode: %{customdata[0]}\\u003cbr\\u003eStep: %{customdata[1]}\\u003cbr\\u003eX: %{x}\\u003cbr\\u003eY: %{y}\\u003cbr\\u003eZ: %{z}\\u003cbr\\u003e%{customdata[2]}\\u003cextra\\u003e\\u003c\\u002fextra\\u003e\",\"legendgroup\":\"Waypoint\",\"marker\":{\"color\":[0],\"coloraxis\":\"coloraxis\",\"symbol\":\"diamond\",\"size\":5},\"mode\":\"markers\",\"name\":\"Waypoint\",\"scene\":\"scene\",\"showlegend\":true,\"x\":[4.170179182143064],\"y\":[-0.044667100369540635],\"z\":[8.5],\"type\":\"scatter3d\"}],                        {\"template\":{\"data\":{\"histogram2dcontour\":[{\"type\":\"histogram2dcontour\",\"colorbar\":{\"outlinewidth\":0,\"ticks\":\"\"},\"colorscale\":[[0.0,\"#0d0887\"],[0.1111111111111111,\"#46039f\"],[0.2222222222222222,\"#7201a8\"],[0.3333333333333333,\"#9c179e\"],[0.4444444444444444,\"#bd3786\"],[0.5555555555555556,\"#d8576b\"],[0.6666666666666666,\"#ed7953\"],[0.7777777777777778,\"#fb9f3a\"],[0.8888888888888888,\"#fdca26\"],[1.0,\"#f0f921\"]]}],\"choropleth\":[{\"type\":\"choropleth\",\"colorbar\":{\"outlinewidth\":0,\"ticks\":\"\"}}],\"histogram2d\":[{\"type\":\"histogram2d\",\"colorbar\":{\"outlinewidth\":0,\"ticks\":\"\"},\"colorscale\":[[0.0,\"#0d0887\"],[0.1111111111111111,\"#46039f\"],[0.2222222222222222,\"#7201a8\"],[0.3333333333333333,\"#9c179e\"],[0.4444444444444444,\"#bd3786\"],[0.5555555555555556,\"#d8576b\"],[0.6666666666666666,\"#ed7953\"],[0.7777777777777778,\"#fb9f3a\"],[0.8888888888888888,\"#fdca26\"],[1.0,\"#f0f921\"]]}],\"heatmap\":[{\"type\":\"heatmap\",\"colorbar\":{\"outlinewidth\":0,\"ticks\":\"\"},\"colorscale\":[[0.0,\"#0d0887\"],[0.1111111111111111,\"#46039f\"],[0.2222222222222222,\"#7201a8\"],[0.3333333333333333,\"#9c179e\"],[0.4444444444444444,\"#bd3786\"],[0.5555555555555556,\"#d8576b\"],[0.6666666666666666,\"#ed7953\"],[0.7777777777777778,\"#fb9f3a\"],[0.8888888888888888,\"#fdca26\"],[1.0,\"#f0f921\"]]}],\"heatmapgl\":[{\"type\":\"heatmapgl\",\"colorbar\":{\"outlinewidth\":0,\"ticks\":\"\"},\"colorscale\":[[0.0,\"#0d0887\"],[0.1111111111111111,\"#46039f\"],[0.2222222222222222,\"#7201a8\"],[0.3333333333333333,\"#9c179e\"],[0.4444444444444444,\"#bd3786\"],[0.5555555555555556,\"#d8576b\"],[0.6666666666666666,\"#ed7953\"],[0.7777777777777778,\"#fb9f3a\"],[0.8888888888888888,\"#fdca26\"],[1.0,\"#f0f921\"]]}],\"contourcarpet\":[{\"type\":\"contourcarpet\",\"colorbar\":{\"outlinewidth\":0,\"ticks\":\"\"}}],\"contour\":[{\"type\":\"contour\",\"colorbar\":{\"outlinewidth\":0,\"ticks\":\"\"},\"colorscale\":[[0.0,\"#0d0887\"],[0.1111111111111111,\"#46039f\"],[0.2222222222222222,\"#7201a8\"],[0.3333333333333333,\"#9c179e\"],[0.4444444444444444,\"#bd3786\"],[0.5555555555555556,\"#d8576b\"],[0.6666666666666666,\"#ed7953\"],[0.7777777777777778,\"#fb9f3a\"],[0.8888888888888888,\"#fdca26\"],[1.0,\"#f0f921\"]]}],\"surface\":[{\"type\":\"surface\",\"colorbar\":{\"outlinewidth\":0,\"ticks\":\"\"},\"colorscale\":[[0.0,\"#0d0887\"],[0.1111111111111111,\"#46039f\"],[0.2222222222222222,\"#7201a8\"],[0.3333333333333333,\"#9c179e\"],[0.4444444444444444,\"#bd3786\"],[0.5555555555555556,\"#d8576b\"],[0.6666666666666666,\"#ed7953\"],[0.7777777777777778,\"#fb9f3a\"],[0.8888888888888888,\"#fdca26\"],[1.0,\"#f0f921\"]]}],\"mesh3d\":[{\"type\":\"mesh3d\",\"colorbar\":{\"outlinewidth\":0,\"ticks\":\"\"}}],\"scatter\":[{\"marker\":{\"line\":{\"color\":\"#283442\"}},\"type\":\"scatter\"}],\"parcoords\":[{\"type\":\"parcoords\",\"line\":{\"colorbar\":{\"outlinewidth\":0,\"ticks\":\"\"}}}],\"scatterpolargl\":[{\"type\":\"scatterpolargl\",\"marker\":{\"colorbar\":{\"outlinewidth\":0,\"ticks\":\"\"}}}],\"bar\":[{\"error_x\":{\"color\":\"#f2f5fa\"},\"error_y\":{\"color\":\"#f2f5fa\"},\"marker\":{\"line\":{\"color\":\"rgb(17,17,17)\",\"width\":0.5},\"pattern\":{\"fillmode\":\"overlay\",\"size\":10,\"solidity\":0.2}},\"type\":\"bar\"}],\"scattergeo\":[{\"type\":\"scattergeo\",\"marker\":{\"colorbar\":{\"outlinewidth\":0,\"ticks\":\"\"}}}],\"scatterpolar\":[{\"type\":\"scatterpolar\",\"marker\":{\"colorbar\":{\"outlinewidth\":0,\"ticks\":\"\"}}}],\"histogram\":[{\"marker\":{\"pattern\":{\"fillmode\":\"overlay\",\"size\":10,\"solidity\":0.2}},\"type\":\"histogram\"}],\"scattergl\":[{\"marker\":{\"line\":{\"color\":\"#283442\"}},\"type\":\"scattergl\"}],\"scatter3d\":[{\"type\":\"scatter3d\",\"line\":{\"colorbar\":{\"outlinewidth\":0,\"ticks\":\"\"}},\"marker\":{\"colorbar\":{\"outlinewidth\":0,\"ticks\":\"\"}}}],\"scattermapbox\":[{\"type\":\"scattermapbox\",\"marker\":{\"colorbar\":{\"outlinewidth\":0,\"ticks\":\"\"}}}],\"scatterternary\":[{\"type\":\"scatterternary\",\"marker\":{\"colorbar\":{\"outlinewidth\":0,\"ticks\":\"\"}}}],\"scattercarpet\":[{\"type\":\"scattercarpet\",\"marker\":{\"colorbar\":{\"outlinewidth\":0,\"ticks\":\"\"}}}],\"carpet\":[{\"aaxis\":{\"endlinecolor\":\"#A2B1C6\",\"gridcolor\":\"#506784\",\"linecolor\":\"#506784\",\"minorgridcolor\":\"#506784\",\"startlinecolor\":\"#A2B1C6\"},\"baxis\":{\"endlinecolor\":\"#A2B1C6\",\"gridcolor\":\"#506784\",\"linecolor\":\"#506784\",\"minorgridcolor\":\"#506784\",\"startlinecolor\":\"#A2B1C6\"},\"type\":\"carpet\"}],\"table\":[{\"cells\":{\"fill\":{\"color\":\"#506784\"},\"line\":{\"color\":\"rgb(17,17,17)\"}},\"header\":{\"fill\":{\"color\":\"#2a3f5f\"},\"line\":{\"color\":\"rgb(17,17,17)\"}},\"type\":\"table\"}],\"barpolar\":[{\"marker\":{\"line\":{\"color\":\"rgb(17,17,17)\",\"width\":0.5},\"pattern\":{\"fillmode\":\"overlay\",\"size\":10,\"solidity\":0.2}},\"type\":\"barpolar\"}],\"pie\":[{\"automargin\":true,\"type\":\"pie\"}]},\"layout\":{\"autotypenumbers\":\"strict\",\"colorway\":[\"#636efa\",\"#EF553B\",\"#00cc96\",\"#ab63fa\",\"#FFA15A\",\"#19d3f3\",\"#FF6692\",\"#B6E880\",\"#FF97FF\",\"#FECB52\"],\"font\":{\"color\":\"#f2f5fa\"},\"hovermode\":\"closest\",\"hoverlabel\":{\"align\":\"left\"},\"paper_bgcolor\":\"rgb(17,17,17)\",\"plot_bgcolor\":\"rgb(17,17,17)\",\"polar\":{\"bgcolor\":\"rgb(17,17,17)\",\"angularaxis\":{\"gridcolor\":\"#506784\",\"linecolor\":\"#506784\",\"ticks\":\"\"},\"radialaxis\":{\"gridcolor\":\"#506784\",\"linecolor\":\"#506784\",\"ticks\":\"\"}},\"ternary\":{\"bgcolor\":\"rgb(17,17,17)\",\"aaxis\":{\"gridcolor\":\"#506784\",\"linecolor\":\"#506784\",\"ticks\":\"\"},\"baxis\":{\"gridcolor\":\"#506784\",\"linecolor\":\"#506784\",\"ticks\":\"\"},\"caxis\":{\"gridcolor\":\"#506784\",\"linecolor\":\"#506784\",\"ticks\":\"\"}},\"coloraxis\":{\"colorbar\":{\"outlinewidth\":0,\"ticks\":\"\"}},\"colorscale\":{\"sequential\":[[0.0,\"#0d0887\"],[0.1111111111111111,\"#46039f\"],[0.2222222222222222,\"#7201a8\"],[0.3333333333333333,\"#9c179e\"],[0.4444444444444444,\"#bd3786\"],[0.5555555555555556,\"#d8576b\"],[0.6666666666666666,\"#ed7953\"],[0.7777777777777778,\"#fb9f3a\"],[0.8888888888888888,\"#fdca26\"],[1.0,\"#f0f921\"]],\"sequentialminus\":[[0.0,\"#0d0887\"],[0.1111111111111111,\"#46039f\"],[0.2222222222222222,\"#7201a8\"],[0.3333333333333333,\"#9c179e\"],[0.4444444444444444,\"#bd3786\"],[0.5555555555555556,\"#d8576b\"],[0.6666666666666666,\"#ed7953\"],[0.7777777777777778,\"#fb9f3a\"],[0.8888888888888888,\"#fdca26\"],[1.0,\"#f0f921\"]],\"diverging\":[[0,\"#8e0152\"],[0.1,\"#c51b7d\"],[0.2,\"#de77ae\"],[0.3,\"#f1b6da\"],[0.4,\"#fde0ef\"],[0.5,\"#f7f7f7\"],[0.6,\"#e6f5d0\"],[0.7,\"#b8e186\"],[0.8,\"#7fbc41\"],[0.9,\"#4d9221\"],[1,\"#276419\"]]},\"xaxis\":{\"gridcolor\":\"#283442\",\"linecolor\":\"#506784\",\"ticks\":\"\",\"title\":{\"standoff\":15},\"zerolinecolor\":\"#283442\",\"automargin\":true,\"zerolinewidth\":2},\"yaxis\":{\"gridcolor\":\"#283442\",\"linecolor\":\"#506784\",\"ticks\":\"\",\"title\":{\"standoff\":15},\"zerolinecolor\":\"#283442\",\"automargin\":true,\"zerolinewidth\":2},\"scene\":{\"xaxis\":{\"backgroundcolor\":\"rgb(17,17,17)\",\"gridcolor\":\"#506784\",\"linecolor\":\"#506784\",\"showbackground\":true,\"ticks\":\"\",\"zerolinecolor\":\"#C8D4E3\",\"gridwidth\":2},\"yaxis\":{\"backgroundcolor\":\"rgb(17,17,17)\",\"gridcolor\":\"#506784\",\"linecolor\":\"#506784\",\"showbackground\":true,\"ticks\":\"\",\"zerolinecolor\":\"#C8D4E3\",\"gridwidth\":2},\"zaxis\":{\"backgroundcolor\":\"rgb(17,17,17)\",\"gridcolor\":\"#506784\",\"linecolor\":\"#506784\",\"showbackground\":true,\"ticks\":\"\",\"zerolinecolor\":\"#C8D4E3\",\"gridwidth\":2}},\"shapedefaults\":{\"line\":{\"color\":\"#f2f5fa\"}},\"annotationdefaults\":{\"arrowcolor\":\"#f2f5fa\",\"arrowhead\":0,\"arrowwidth\":1},\"geo\":{\"bgcolor\":\"rgb(17,17,17)\",\"landcolor\":\"rgb(17,17,17)\",\"subunitcolor\":\"#506784\",\"showland\":true,\"showlakes\":true,\"lakecolor\":\"rgb(17,17,17)\"},\"title\":{\"x\":0.05},\"updatemenudefaults\":{\"bgcolor\":\"#506784\",\"borderwidth\":0},\"sliderdefaults\":{\"bgcolor\":\"#C8D4E3\",\"borderwidth\":1,\"bordercolor\":\"rgb(17,17,17)\",\"tickwidth\":0},\"mapbox\":{\"style\":\"dark\"}}},\"scene\":{\"domain\":{\"x\":[0.0,1.0],\"y\":[0.0,1.0]},\"xaxis\":{\"title\":{\"text\":\"X\"}},\"yaxis\":{\"title\":{\"text\":\"Y\"}},\"zaxis\":{\"title\":{\"text\":\"Z\"}}},\"coloraxis\":{\"colorbar\":{\"title\":{\"text\":\"Episode\"}},\"colorscale\":[[0.0,\"#0d0887\"],[0.1111111111111111,\"#46039f\"],[0.2222222222222222,\"#7201a8\"],[0.3333333333333333,\"#9c179e\"],[0.4444444444444444,\"#bd3786\"],[0.5555555555555556,\"#d8576b\"],[0.6666666666666666,\"#ed7953\"],[0.7777777777777778,\"#fb9f3a\"],[0.8888888888888888,\"#fdca26\"],[1.0,\"#f0f921\"]]},\"legend\":{\"title\":{\"text\":\"Type\"},\"tracegroupgap\":0},\"title\":{\"text\":\"Trajectory and Waypoints per Episode\"}},                        {\"responsive\": true}                    ).then(function(){\n                            \nvar gd = document.getElementById('5b2e167d-40b8-4ad1-ab43-d046145e0ebb');\nvar x = new MutationObserver(function (mutations, observer) {{\n        var display = window.getComputedStyle(gd).display;\n        if (!display || display === 'none') {{\n            console.log([gd, 'removed!']);\n            Plotly.purge(gd);\n            observer.disconnect();\n        }}\n}});\n\n// Listen for the removal of the full notebook cells\nvar notebookContainer = gd.closest('#notebook-container');\nif (notebookContainer) {{\n    x.observe(notebookContainer, {childList: true});\n}}\n\n// Listen for the clearing of the current output cell\nvar outputEl = gd.closest('.output');\nif (outputEl) {{\n    x.observe(outputEl, {childList: true});\n}}\n\n                        })                };                });            </script>        </div>"
     },
     "metadata": {},
     "output_type": "display_data"
    }
   ],
   "source": [
    "# Visualizing 'n_eval_eps' episodes as sampled from the trained model\n",
    "visualize_plotly_model(result, model, env, num_eval_eps)"
   ],
   "metadata": {
    "collapsed": false,
    "ExecuteTime": {
     "end_time": "2024-11-15T23:31:46.038323Z",
     "start_time": "2024-11-15T23:31:45.986850Z"
    }
   },
   "id": "13b9997d5328602d",
   "execution_count": 16
  },
  {
   "cell_type": "markdown",
   "source": [
    "# Trajectory with vector field"
   ],
   "metadata": {
    "collapsed": false
   },
   "id": "83b24a81fa21e6f8"
  },
  {
   "cell_type": "code",
   "outputs": [
    {
     "data": {
      "application/vnd.plotly.v1+json": {
       "data": [
        {
         "anchor": "tip",
         "colorbar": {
          "thickness": 40,
          "ticklen": 4
         },
         "colorscale": [
          [
           0.0,
           "rgb(3, 5, 18)"
          ],
          [
           0.11,
           "rgb(27, 26, 54)"
          ],
          [
           0.22,
           "rgb(48, 46, 95)"
          ],
          [
           0.33,
           "rgb(60, 66, 136)"
          ],
          [
           0.44,
           "rgb(62, 93, 168)"
          ],
          [
           0.56,
           "rgb(66, 122, 183)"
          ],
          [
           0.67,
           "rgb(82, 149, 192)"
          ],
          [
           0.78,
           "rgb(106, 177, 203)"
          ],
          [
           0.89,
           "rgb(140, 203, 219)"
          ],
          [
           1.0,
           "rgb(188, 227, 235)"
          ]
         ],
         "sizemode": "absolute",
         "sizeref": 0.2,
         "u": [
          -2.5025520342128853E-5,
          3.4802208502524094E-5,
          1.6304464313672074E-4,
          3.5121615165079187E-4,
          5.044279416054147E-4,
          7.162538445750401E-4,
          0.001123553451360025,
          0.001371201662317403,
          0.0016235901907438038,
          0.0019390141936148908,
          0.002567799537718074,
          0.0028652685832896846,
          0.0032071631484011515,
          0.003895264657335931,
          0.004618068581224849,
          0.004908831245379372,
          0.005276478356119607,
          0.006072377045044514,
          0.006780052295301597,
          0.007134657573804243,
          0.0076635944734538275,
          0.00814964451179756,
          0.00912937143963044,
          0.009680736703762904,
          0.010071341050247373,
          0.010598821033388162,
          0.011596228936701758,
          0.011932633022233463,
          0.012442724797395388,
          0.013492874123193999,
          0.014011088753363876,
          0.014604146228173631,
          0.015620485624935787,
          0.01594830205439235,
          0.016420549954854424,
          0.01745513526790543,
          0.017853604682697144,
          0.018505738535266936,
          0.019030172967673398,
          0.020166141376269264,
          0.02066740333117756,
          0.02123764255375349,
          0.0223685275085328,
          0.022590631623049306,
          0.02313892771985282,
          0.024176350218091835,
          0.024693518932064284,
          0.025365215033291477,
          0.025807182370729542,
          0.02685389597734611,
          0.027247882122701572,
          0.027885945454235284,
          0.028705208222402856,
          0.02932891143912819,
          0.029689673960347385,
          0.030687015621933877,
          0.031163205151537365,
          0.03163041577753356,
          0.03263731066460229,
          0.032828642406442565,
          0.03364232451857063,
          0.034619438550409054,
          0.034798546666936936,
          0.03518059997080769,
          0.03613360104289143,
          0.03653919415275908,
          0.03674858535326031,
          0.03718923947459718,
          0.03781840513757473,
          0.03832814059663914,
          0.038778069184976616,
          0.03959839666710341,
          0.03951758240773362,
          0.03978764505068355,
          0.04081905332076197,
          0.04180914140495684,
          0.04171767758360101,
          0.04186507954843499,
          0.04294765710858428,
          0.043569522086892576,
          0.04396018649247502,
          0.044502499380237204,
          0.04474290548465465,
          0.04556514753503382,
          0.045809394078434984,
          0.04629952839214635,
          0.04678057133389579,
          0.047772999830267615,
          0.047935571708427105,
          0.04815373512458443,
          0.04901931736651832,
          0.04969631485582049,
          0.0497255102355183,
          0.05000759614755168
         ],
         "v": [
          2.475681115393774E-6,
          -2.2850375307634136E-5,
          -5.4373273963609424E-5,
          -1.046888590357326E-4,
          -1.4195475077904453E-4,
          -1.9962204178582046E-4,
          -3.215618300387423E-4,
          -4.127334706125266E-4,
          -4.929798484420407E-4,
          -5.818029892923505E-4,
          -7.53149177692241E-4,
          -8.061555457235508E-4,
          -8.727321014380049E-4,
          -0.0010193588792761395,
          -0.0011995327438276172,
          -0.0012691162597001406,
          -0.0013603562669091268,
          -0.0015703619112624953,
          -0.0017747472430528488,
          -0.001851388371162395,
          -0.0019767990587083034,
          -0.0020937792782134007,
          -0.0023350828990891526,
          -0.0024793862312088993,
          -0.0025922964946434035,
          -0.0027380243702641444,
          -0.0030090282621455244,
          -0.003107941062547248,
          -0.003264348001183859,
          -0.0036055698646484113,
          -0.00381446766835547,
          -0.004054903901357709,
          -0.004467957949594287,
          -0.004607546816425834,
          -0.004811724416530855,
          -0.005250575243980593,
          -0.005415829611217005,
          -0.0056863647730565625,
          -0.005916847173147388,
          -0.0064202969271329735,
          -0.006640011119295741,
          -0.006898485038658031,
          -0.007417645418116403,
          -0.007522884978504341,
          -0.00777201225675328,
          -0.008245838652482296,
          -0.008474440865366528,
          -0.008775270128992263,
          -0.00898808072183832,
          -0.009475843423519814,
          -0.009643706108230954,
          -0.00990650116534919,
          -0.01024618490082918,
          -0.010504880033647468,
          -0.010666417381590021,
          -0.011091158379435195,
          -0.011315245342447433,
          -0.011550046695167238,
          -0.012040982148962875,
          -0.012169301932375198,
          -0.012624837883979279,
          -0.013184257830930246,
          -0.01332558624594582,
          -0.013586881278835339,
          -0.014171854205575762,
          -0.014436982398617015,
          -0.014588613019722807,
          -0.014863093771989133,
          -0.015237047748841714,
          -0.015549211851039413,
          -0.015824543508668576,
          -0.016295976334659512,
          -0.016291776927486845,
          -0.016443537206204617,
          -0.016947842257903245,
          -0.017449530981171968,
          -0.017442210214171805,
          -0.017563705782881023,
          -0.018186080410033778,
          -0.018565349997699876,
          -0.018821646644930468,
          -0.019178735547417336,
          -0.019373839506291013,
          -0.019894436632323043,
          -0.02006907605799446,
          -0.02036354575604049,
          -0.02065558355294783,
          -0.02120691825395493,
          -0.021342411797472316,
          -0.021511463914894335,
          -0.022034744947474927,
          -0.022467480985248756,
          -0.02256961905354471,
          -0.022843025959944363
         ],
         "w": [
          8.143147708250531E-4,
          7.096377425046541E-4,
          0.0016512857009129966,
          0.002644790101336447,
          0.0020344407134702536,
          0.0016972165994442179,
          0.0030770904648340647,
          0.0024440715808968783,
          0.001650034897250574,
          0.0011456898490842526,
          0.002658011031227314,
          0.001622015983717251,
          7.237294646396109E-4,
          0.0015913402925558096,
          0.002523894880369859,
          0.0011599813341804932,
          9.80305817344096E-5,
          0.0010006493267313843,
          0.0015165732676694077,
          2.9703762892241414E-4,
          -1.8828591636887992E-4,
          -7.795582166769677E-4,
          7.981514342629836E-4,
          4.5332116125340605E-4,
          -6.740507074032287E-4,
          -0.0012378630351830289,
          4.4836313382479176E-5,
          -0.0014142120335094432,
          -0.002192126448629761,
          -8.380090201627333E-4,
          -0.0015884356055573257,
          -0.0021030817669105417,
          -0.0010095619206049733,
          -0.0025097309237662735,
          -0.003510261266773451,
          -0.0024939374174182127,
          -0.0037469321494705277,
          -0.004081111602785459,
          -0.004805199209832356,
          -0.0032464470616928587,
          -0.004116467361390708,
          -0.004764811418609405,
          -0.0034398978116012557,
          -0.0052783397946836175,
          -0.00599202452723846,
          -0.004972886585351333,
          -0.005724253269497215,
          -0.005916056347989418,
          -0.0068763752082250384,
          -0.005604955885688323,
          -0.006742423226481442,
          -0.007019118963244697,
          -0.006579621442281525,
          -0.006817056184791337,
          -0.007976609746889629,
          -0.006831497257011154,
          -0.007521982739906896,
          -0.008218558958545508,
          -0.006890831294504629,
          -0.008566393779763537,
          -0.007949772458535342,
          -0.006570578877328703,
          -0.00816447640051532,
          -0.008928499053619365,
          -0.00736436039349142,
          -0.00796050205908383,
          -0.009391177162346942,
          -0.009916832714941481,
          -0.009677143831258839,
          -0.009835111422565657,
          -0.010198246819476786,
          -0.009036090618800952,
          -0.011488676488926597,
          -0.012727285822544232,
          -0.011161263694128287,
          -0.009702323514900524,
          -0.01214440979139031,
          -0.013747486730369296,
          -0.011898632945840593,
          -0.011570572401447432,
          -0.012149776611643626,
          -0.012135941090416047,
          -0.013231872123380395,
          -0.012119075025029735,
          -0.013194583109286118,
          -0.013351460945417948,
          -0.013466674319761562,
          -0.011600974000486541,
          -0.012878099583452318,
          -0.01396032427772731,
          -0.012552776335326365,
          -0.011704271195271065,
          -0.013340967192994047,
          -0.013944886323939087
         ],
         "x": [
          -1.3891969622959545E-4,
          -1.1139561715221033E-4,
          3.9936083975421953E-4,
          0.0016297103890137562,
          0.0033885271052104186,
          0.005898733194909436,
          0.010064917073930596,
          0.015144131013575942,
          0.021216574489064704,
          0.0284455342572214,
          0.038212950385444144,
          0.04918158329495903,
          0.06141153730587231,
          0.07639594412216572,
          0.09432881108007643,
          0.1134650725305486,
          0.13391558631757047,
          0.15756382775302794,
          0.18411945495631632,
          0.2120590535910333,
          0.24190380263253322,
          0.2736803292718558,
          0.3093608683553424,
          0.3473198570889485,
          0.3868853455820546,
          0.42844033872992987,
          0.47414574495289263,
          0.5212530750763472,
          0.5701298600036607,
          0.6232603941854937,
          0.6784805371338839,
          0.7358837791517654,
          0.7976412294905931,
          0.8608668340650943,
          0.925693367143592,
          0.9947923248471966,
          1.065495953386137,
          1.138584001151973,
          1.2137489075727403,
          1.2935515708857594,
          1.3754124704901012,
          1.4593758673499786,
          1.548149084796212,
          1.638084074261455,
          1.7298053766720254,
          1.825720889907051,
          1.923665154168616,
          2.024218600657939,
          2.1265754447943053,
          2.233251276921537,
          2.3415802088202393,
          2.4521340177961566,
          2.5661375332562266,
          2.68262188945776,
          2.800658318970228,
          2.9226938826844204,
          3.0466470120000873,
          3.1723154814681442,
          3.302318371692795,
          3.4331860786065866,
          3.56703767205337,
          3.704919947709264,
          3.8437783987344125,
          3.9838093010787046,
          4.127600062962773,
          4.273300809458683,
          4.419855536354214,
          4.5679431163976725,
          4.718447682019557,
          4.871045963038773,
          5.0253376462323995,
          5.183380788790598,
          5.341583450093211,
          5.500053770455295,
          5.662338629356047,
          5.829163958639483,
          5.996193283117932,
          6.163191453118578,
          6.333857364377745,
          6.507691685364703,
          6.682907809649053,
          6.860277199079785,
          7.03868136488577,
          7.220491531571523,
          7.403245244462455,
          7.587724054728708,
          7.77397190357931,
          7.964471737688957,
          8.155948772813417,
          8.348049175622661,
          8.54344002069259,
          8.741976888842697,
          8.940716405920934,
          9.140404998690896
         ],
         "y": [
          2.563047166074617E-5,
          -2.1741427009704045E-5,
          -2.0394566139540025E-4,
          -5.764729774453302E-4,
          -0.001081630393504117,
          -0.001782000758767405,
          -0.0029595426219831368,
          -0.004463516472792316,
          -0.006305324338123664,
          -0.008484686866928982,
          -0.011371177824751928,
          -0.014511007145867689,
          -0.01788305465151728,
          -0.021824848541309585,
          -0.026489752687968653,
          -0.03144664088825299,
          -0.036723748285418516,
          -0.04282973354436073,
          -0.049777735497588634,
          -0.05705417376481638,
          -0.0647679078973072,
          -0.07294403893430138,
          -0.08207661519185465,
          -0.09178941049823192,
          -0.10195067728698091,
          -0.11267339007640469,
          -0.12452092873066942,
          -0.13676899227830738,
          -0.14955067684404608,
          -0.16368057190082613,
          -0.17860146165781177,
          -0.1944115323036892,
          -0.2119855629774097,
          -0.23017371822689073,
          -0.24905168642068623,
          -0.2697457135564909,
          -0.29111654887754324,
          -0.3134710087154243,
          -0.3367182161238507,
          -0.3620135160548474,
          -0.38822031615162805,
          -0.41536447934204707,
          -0.44470651081552426,
          -0.47460037740803124,
          -0.5053058719738673,
          -0.5379248543701644,
          -0.5714555236372493,
          -0.60614540407779,
          -0.641682907107227,
          -0.6792398496921936,
          -0.7175363068046241,
          -0.7567549575234682,
          -0.7973960482032703,
          -0.8390650587650992,
          -0.8814137157081207,
          -0.9254579497565121,
          -0.9703863284272926,
          -1.0161611050886423,
          -1.0640279401453272,
          -1.1124295929718284,
          -1.1624985198273299,
          -1.2148614820916364,
          -1.2679109820902608,
          -1.32179782731972,
          -1.3780019744941905,
          -1.4354374933015752,
          -1.4934978999064452,
          -1.5525345689612695,
          -1.6130147632575553,
          -1.6747680649825327,
          -1.7375774609215406,
          -1.8025177618320893,
          -1.8676970938016775,
          -1.9331205850283397,
          -2.0003993040795036,
          -2.0699482588117917,
          -2.1397387513106634,
          -2.2096818957502298,
          -2.2817563920884445,
          -2.3557103757230586,
          -2.4305895245380205,
          -2.506858972693055,
          -2.5839421724686114,
          -2.6631876593545933,
          -2.7431439081949067,
          -2.8241665246444043,
          -2.9062722484719004,
          -2.990724223125243,
          -3.075878637934289,
          -3.1615675905219374,
          -3.2492534885376076,
          -3.338885751993188,
          -3.4289289639220417,
          -3.519946168826727
         ],
         "z": [
          2.9909577332842936,
          2.9935193806870672,
          3.0006253541913024,
          3.0122112357522486,
          3.021016457338113,
          3.02802501023625,
          3.041235267347826,
          3.0517593732605373,
          3.059276986275725,
          3.0642717491601372,
          3.0757339987932566,
          3.0835591531054,
          3.0873621552577184,
          3.0947262256485355,
          3.1062207831969,
          3.11264125626671,
          3.114159445176823,
          3.119310296522778,
          3.126921875807287,
          3.12967011047429,
          3.1295624249331047,
          3.1269142231924456,
          3.1305086772257567,
          3.1331510201044743,
          3.1316180616745934,
          3.1273150893555375,
          3.128857556078824,
          3.12497012427561,
          3.1168604207221713,
          3.114312902071,
          3.108922166100175,
          3.100826457365176,
          3.098111647292438,
          3.090068898825986,
          3.0770079175296727,
          3.068444311796015,
          3.0549441865979836,
          3.0392436775053833,
          3.020489037619634,
          3.0082764180270383,
          2.9929369012424316,
          2.9743928555117862,
          2.962086084338948,
          2.943423049494325,
          2.9204574252042184,
          2.901657270922408,
          2.8796964192727788,
          2.8566563396543723,
          2.8298469762605682,
          2.808514834572649,
          2.7830133483733372,
          2.7552075155827276,
          2.7296830777656593,
          2.70312650914126,
          2.6723156882561723,
          2.646051766622224,
          2.6170512061334366,
          2.5846590183366898,
          2.5586250037353855,
          2.5263069950725683,
          2.495343369966529,
          2.4702547063709246,
          2.439723428351079,
          2.404673184477384,
          2.375565208728357,
          2.3452575735087504,
          2.3093657749627945,
          2.270444308330813,
          2.232023263033101,
          2.1931003685521957,
          2.152263682764106,
          2.1179086162729845,
          2.0756741277315185,
          2.0256631677726933,
          1.98061907051655,
          1.9434989482612974,
          1.8986564863743662,
          1.845227256091491,
          1.7965562376565147,
          1.7516400005413568,
          1.7037608766862258,
          1.6558194540085582,
          1.603769979749398,
          1.5565467471682242,
          1.5049584372265208,
          1.4518238064938396,
          1.397539794246341,
          1.35170970051628,
          1.3020461187894496,
          1.247136214326618,
          1.1970414205712159,
          1.1519172793974506,
          1.1005343335786917,
          1.0459820757584852
         ],
         "type": "cone"
        },
        {
         "marker": {
          "color": "red",
          "opacity": 0.8,
          "size": 10
         },
         "mode": "markers",
         "x": [
          1.7640851250998293
         ],
         "y": [
          -2.8471290846850943
         ],
         "z": [
          8.5
         ],
         "type": "scatter3d"
        }
       ],
       "layout": {
        "autosize": false,
        "height": 750,
        "scene": {
         "aspectratio": {
          "x": 1,
          "y": 1,
          "z": 0.8
         },
         "camera": {
          "eye": {
           "x": 1.2,
           "y": 1.2,
           "z": 0.6
          }
         },
         "xaxis": {
          "backgroundcolor": "rgb(235, 235, 235)",
          "gridcolor": "rgb(255, 255, 255)",
          "showbackground": true,
          "zerolinecolor": "rgb(255, 255, 255)"
         },
         "yaxis": {
          "backgroundcolor": "rgb(235, 235, 235)",
          "gridcolor": "rgb(255, 255, 255)",
          "showbackground": true,
          "zerolinecolor": "rgb(255, 255, 255)"
         },
         "zaxis": {
          "backgroundcolor": "rgb(235, 235, 235)",
          "gridcolor": "rgb(255, 255, 255)",
          "showbackground": true,
          "zerolinecolor": "rgb(255, 255, 255)"
         }
        },
        "width": 900,
        "template": {
         "data": {
          "histogram2dcontour": [
           {
            "type": "histogram2dcontour",
            "colorbar": {
             "outlinewidth": 0,
             "ticks": ""
            },
            "colorscale": [
             [
              0.0,
              "#0d0887"
             ],
             [
              0.1111111111111111,
              "#46039f"
             ],
             [
              0.2222222222222222,
              "#7201a8"
             ],
             [
              0.3333333333333333,
              "#9c179e"
             ],
             [
              0.4444444444444444,
              "#bd3786"
             ],
             [
              0.5555555555555556,
              "#d8576b"
             ],
             [
              0.6666666666666666,
              "#ed7953"
             ],
             [
              0.7777777777777778,
              "#fb9f3a"
             ],
             [
              0.8888888888888888,
              "#fdca26"
             ],
             [
              1.0,
              "#f0f921"
             ]
            ]
           }
          ],
          "choropleth": [
           {
            "type": "choropleth",
            "colorbar": {
             "outlinewidth": 0,
             "ticks": ""
            }
           }
          ],
          "histogram2d": [
           {
            "type": "histogram2d",
            "colorbar": {
             "outlinewidth": 0,
             "ticks": ""
            },
            "colorscale": [
             [
              0.0,
              "#0d0887"
             ],
             [
              0.1111111111111111,
              "#46039f"
             ],
             [
              0.2222222222222222,
              "#7201a8"
             ],
             [
              0.3333333333333333,
              "#9c179e"
             ],
             [
              0.4444444444444444,
              "#bd3786"
             ],
             [
              0.5555555555555556,
              "#d8576b"
             ],
             [
              0.6666666666666666,
              "#ed7953"
             ],
             [
              0.7777777777777778,
              "#fb9f3a"
             ],
             [
              0.8888888888888888,
              "#fdca26"
             ],
             [
              1.0,
              "#f0f921"
             ]
            ]
           }
          ],
          "heatmap": [
           {
            "type": "heatmap",
            "colorbar": {
             "outlinewidth": 0,
             "ticks": ""
            },
            "colorscale": [
             [
              0.0,
              "#0d0887"
             ],
             [
              0.1111111111111111,
              "#46039f"
             ],
             [
              0.2222222222222222,
              "#7201a8"
             ],
             [
              0.3333333333333333,
              "#9c179e"
             ],
             [
              0.4444444444444444,
              "#bd3786"
             ],
             [
              0.5555555555555556,
              "#d8576b"
             ],
             [
              0.6666666666666666,
              "#ed7953"
             ],
             [
              0.7777777777777778,
              "#fb9f3a"
             ],
             [
              0.8888888888888888,
              "#fdca26"
             ],
             [
              1.0,
              "#f0f921"
             ]
            ]
           }
          ],
          "heatmapgl": [
           {
            "type": "heatmapgl",
            "colorbar": {
             "outlinewidth": 0,
             "ticks": ""
            },
            "colorscale": [
             [
              0.0,
              "#0d0887"
             ],
             [
              0.1111111111111111,
              "#46039f"
             ],
             [
              0.2222222222222222,
              "#7201a8"
             ],
             [
              0.3333333333333333,
              "#9c179e"
             ],
             [
              0.4444444444444444,
              "#bd3786"
             ],
             [
              0.5555555555555556,
              "#d8576b"
             ],
             [
              0.6666666666666666,
              "#ed7953"
             ],
             [
              0.7777777777777778,
              "#fb9f3a"
             ],
             [
              0.8888888888888888,
              "#fdca26"
             ],
             [
              1.0,
              "#f0f921"
             ]
            ]
           }
          ],
          "contourcarpet": [
           {
            "type": "contourcarpet",
            "colorbar": {
             "outlinewidth": 0,
             "ticks": ""
            }
           }
          ],
          "contour": [
           {
            "type": "contour",
            "colorbar": {
             "outlinewidth": 0,
             "ticks": ""
            },
            "colorscale": [
             [
              0.0,
              "#0d0887"
             ],
             [
              0.1111111111111111,
              "#46039f"
             ],
             [
              0.2222222222222222,
              "#7201a8"
             ],
             [
              0.3333333333333333,
              "#9c179e"
             ],
             [
              0.4444444444444444,
              "#bd3786"
             ],
             [
              0.5555555555555556,
              "#d8576b"
             ],
             [
              0.6666666666666666,
              "#ed7953"
             ],
             [
              0.7777777777777778,
              "#fb9f3a"
             ],
             [
              0.8888888888888888,
              "#fdca26"
             ],
             [
              1.0,
              "#f0f921"
             ]
            ]
           }
          ],
          "surface": [
           {
            "type": "surface",
            "colorbar": {
             "outlinewidth": 0,
             "ticks": ""
            },
            "colorscale": [
             [
              0.0,
              "#0d0887"
             ],
             [
              0.1111111111111111,
              "#46039f"
             ],
             [
              0.2222222222222222,
              "#7201a8"
             ],
             [
              0.3333333333333333,
              "#9c179e"
             ],
             [
              0.4444444444444444,
              "#bd3786"
             ],
             [
              0.5555555555555556,
              "#d8576b"
             ],
             [
              0.6666666666666666,
              "#ed7953"
             ],
             [
              0.7777777777777778,
              "#fb9f3a"
             ],
             [
              0.8888888888888888,
              "#fdca26"
             ],
             [
              1.0,
              "#f0f921"
             ]
            ]
           }
          ],
          "mesh3d": [
           {
            "type": "mesh3d",
            "colorbar": {
             "outlinewidth": 0,
             "ticks": ""
            }
           }
          ],
          "scatter": [
           {
            "marker": {
             "line": {
              "color": "#283442"
             }
            },
            "type": "scatter"
           }
          ],
          "parcoords": [
           {
            "type": "parcoords",
            "line": {
             "colorbar": {
              "outlinewidth": 0,
              "ticks": ""
             }
            }
           }
          ],
          "scatterpolargl": [
           {
            "type": "scatterpolargl",
            "marker": {
             "colorbar": {
              "outlinewidth": 0,
              "ticks": ""
             }
            }
           }
          ],
          "bar": [
           {
            "error_x": {
             "color": "#f2f5fa"
            },
            "error_y": {
             "color": "#f2f5fa"
            },
            "marker": {
             "line": {
              "color": "rgb(17,17,17)",
              "width": 0.5
             },
             "pattern": {
              "fillmode": "overlay",
              "size": 10,
              "solidity": 0.2
             }
            },
            "type": "bar"
           }
          ],
          "scattergeo": [
           {
            "type": "scattergeo",
            "marker": {
             "colorbar": {
              "outlinewidth": 0,
              "ticks": ""
             }
            }
           }
          ],
          "scatterpolar": [
           {
            "type": "scatterpolar",
            "marker": {
             "colorbar": {
              "outlinewidth": 0,
              "ticks": ""
             }
            }
           }
          ],
          "histogram": [
           {
            "marker": {
             "pattern": {
              "fillmode": "overlay",
              "size": 10,
              "solidity": 0.2
             }
            },
            "type": "histogram"
           }
          ],
          "scattergl": [
           {
            "marker": {
             "line": {
              "color": "#283442"
             }
            },
            "type": "scattergl"
           }
          ],
          "scatter3d": [
           {
            "type": "scatter3d",
            "line": {
             "colorbar": {
              "outlinewidth": 0,
              "ticks": ""
             }
            },
            "marker": {
             "colorbar": {
              "outlinewidth": 0,
              "ticks": ""
             }
            }
           }
          ],
          "scattermapbox": [
           {
            "type": "scattermapbox",
            "marker": {
             "colorbar": {
              "outlinewidth": 0,
              "ticks": ""
             }
            }
           }
          ],
          "scatterternary": [
           {
            "type": "scatterternary",
            "marker": {
             "colorbar": {
              "outlinewidth": 0,
              "ticks": ""
             }
            }
           }
          ],
          "scattercarpet": [
           {
            "type": "scattercarpet",
            "marker": {
             "colorbar": {
              "outlinewidth": 0,
              "ticks": ""
             }
            }
           }
          ],
          "carpet": [
           {
            "aaxis": {
             "endlinecolor": "#A2B1C6",
             "gridcolor": "#506784",
             "linecolor": "#506784",
             "minorgridcolor": "#506784",
             "startlinecolor": "#A2B1C6"
            },
            "baxis": {
             "endlinecolor": "#A2B1C6",
             "gridcolor": "#506784",
             "linecolor": "#506784",
             "minorgridcolor": "#506784",
             "startlinecolor": "#A2B1C6"
            },
            "type": "carpet"
           }
          ],
          "table": [
           {
            "cells": {
             "fill": {
              "color": "#506784"
             },
             "line": {
              "color": "rgb(17,17,17)"
             }
            },
            "header": {
             "fill": {
              "color": "#2a3f5f"
             },
             "line": {
              "color": "rgb(17,17,17)"
             }
            },
            "type": "table"
           }
          ],
          "barpolar": [
           {
            "marker": {
             "line": {
              "color": "rgb(17,17,17)",
              "width": 0.5
             },
             "pattern": {
              "fillmode": "overlay",
              "size": 10,
              "solidity": 0.2
             }
            },
            "type": "barpolar"
           }
          ],
          "pie": [
           {
            "automargin": true,
            "type": "pie"
           }
          ]
         },
         "layout": {
          "autotypenumbers": "strict",
          "colorway": [
           "#636efa",
           "#EF553B",
           "#00cc96",
           "#ab63fa",
           "#FFA15A",
           "#19d3f3",
           "#FF6692",
           "#B6E880",
           "#FF97FF",
           "#FECB52"
          ],
          "font": {
           "color": "#f2f5fa"
          },
          "hovermode": "closest",
          "hoverlabel": {
           "align": "left"
          },
          "paper_bgcolor": "rgb(17,17,17)",
          "plot_bgcolor": "rgb(17,17,17)",
          "polar": {
           "bgcolor": "rgb(17,17,17)",
           "angularaxis": {
            "gridcolor": "#506784",
            "linecolor": "#506784",
            "ticks": ""
           },
           "radialaxis": {
            "gridcolor": "#506784",
            "linecolor": "#506784",
            "ticks": ""
           }
          },
          "ternary": {
           "bgcolor": "rgb(17,17,17)",
           "aaxis": {
            "gridcolor": "#506784",
            "linecolor": "#506784",
            "ticks": ""
           },
           "baxis": {
            "gridcolor": "#506784",
            "linecolor": "#506784",
            "ticks": ""
           },
           "caxis": {
            "gridcolor": "#506784",
            "linecolor": "#506784",
            "ticks": ""
           }
          },
          "coloraxis": {
           "colorbar": {
            "outlinewidth": 0,
            "ticks": ""
           }
          },
          "colorscale": {
           "sequential": [
            [
             0.0,
             "#0d0887"
            ],
            [
             0.1111111111111111,
             "#46039f"
            ],
            [
             0.2222222222222222,
             "#7201a8"
            ],
            [
             0.3333333333333333,
             "#9c179e"
            ],
            [
             0.4444444444444444,
             "#bd3786"
            ],
            [
             0.5555555555555556,
             "#d8576b"
            ],
            [
             0.6666666666666666,
             "#ed7953"
            ],
            [
             0.7777777777777778,
             "#fb9f3a"
            ],
            [
             0.8888888888888888,
             "#fdca26"
            ],
            [
             1.0,
             "#f0f921"
            ]
           ],
           "sequentialminus": [
            [
             0.0,
             "#0d0887"
            ],
            [
             0.1111111111111111,
             "#46039f"
            ],
            [
             0.2222222222222222,
             "#7201a8"
            ],
            [
             0.3333333333333333,
             "#9c179e"
            ],
            [
             0.4444444444444444,
             "#bd3786"
            ],
            [
             0.5555555555555556,
             "#d8576b"
            ],
            [
             0.6666666666666666,
             "#ed7953"
            ],
            [
             0.7777777777777778,
             "#fb9f3a"
            ],
            [
             0.8888888888888888,
             "#fdca26"
            ],
            [
             1.0,
             "#f0f921"
            ]
           ],
           "diverging": [
            [
             0,
             "#8e0152"
            ],
            [
             0.1,
             "#c51b7d"
            ],
            [
             0.2,
             "#de77ae"
            ],
            [
             0.3,
             "#f1b6da"
            ],
            [
             0.4,
             "#fde0ef"
            ],
            [
             0.5,
             "#f7f7f7"
            ],
            [
             0.6,
             "#e6f5d0"
            ],
            [
             0.7,
             "#b8e186"
            ],
            [
             0.8,
             "#7fbc41"
            ],
            [
             0.9,
             "#4d9221"
            ],
            [
             1,
             "#276419"
            ]
           ]
          },
          "xaxis": {
           "gridcolor": "#283442",
           "linecolor": "#506784",
           "ticks": "",
           "title": {
            "standoff": 15
           },
           "zerolinecolor": "#283442",
           "automargin": true,
           "zerolinewidth": 2
          },
          "yaxis": {
           "gridcolor": "#283442",
           "linecolor": "#506784",
           "ticks": "",
           "title": {
            "standoff": 15
           },
           "zerolinecolor": "#283442",
           "automargin": true,
           "zerolinewidth": 2
          },
          "scene": {
           "xaxis": {
            "backgroundcolor": "rgb(17,17,17)",
            "gridcolor": "#506784",
            "linecolor": "#506784",
            "showbackground": true,
            "ticks": "",
            "zerolinecolor": "#C8D4E3",
            "gridwidth": 2
           },
           "yaxis": {
            "backgroundcolor": "rgb(17,17,17)",
            "gridcolor": "#506784",
            "linecolor": "#506784",
            "showbackground": true,
            "ticks": "",
            "zerolinecolor": "#C8D4E3",
            "gridwidth": 2
           },
           "zaxis": {
            "backgroundcolor": "rgb(17,17,17)",
            "gridcolor": "#506784",
            "linecolor": "#506784",
            "showbackground": true,
            "ticks": "",
            "zerolinecolor": "#C8D4E3",
            "gridwidth": 2
           }
          },
          "shapedefaults": {
           "line": {
            "color": "#f2f5fa"
           }
          },
          "annotationdefaults": {
           "arrowcolor": "#f2f5fa",
           "arrowhead": 0,
           "arrowwidth": 1
          },
          "geo": {
           "bgcolor": "rgb(17,17,17)",
           "landcolor": "rgb(17,17,17)",
           "subunitcolor": "#506784",
           "showland": true,
           "showlakes": true,
           "lakecolor": "rgb(17,17,17)"
          },
          "title": {
           "x": 0.05
          },
          "updatemenudefaults": {
           "bgcolor": "#506784",
           "borderwidth": 0
          },
          "sliderdefaults": {
           "bgcolor": "#C8D4E3",
           "borderwidth": 1,
           "bordercolor": "rgb(17,17,17)",
           "tickwidth": 0
          },
          "mapbox": {
           "style": "dark"
          }
         }
        }
       },
       "config": {
        "plotlyServerURL": "https://plot.ly"
       }
      },
      "text/html": "<div>                            <div id=\"a7d1a342-fcc2-4c9f-9f9b-71eab7c12f80\" class=\"plotly-graph-div\" style=\"height:750px; width:900px;\"></div>            <script type=\"text/javascript\">                require([\"plotly\"], function(Plotly) {                    window.PLOTLYENV=window.PLOTLYENV || {};                                    if (document.getElementById(\"a7d1a342-fcc2-4c9f-9f9b-71eab7c12f80\")) {                    Plotly.newPlot(                        \"a7d1a342-fcc2-4c9f-9f9b-71eab7c12f80\",                        [{\"anchor\":\"tip\",\"colorbar\":{\"thickness\":40,\"ticklen\":4},\"colorscale\":[[0.0,\"rgb(3, 5, 18)\"],[0.11,\"rgb(27, 26, 54)\"],[0.22,\"rgb(48, 46, 95)\"],[0.33,\"rgb(60, 66, 136)\"],[0.44,\"rgb(62, 93, 168)\"],[0.56,\"rgb(66, 122, 183)\"],[0.67,\"rgb(82, 149, 192)\"],[0.78,\"rgb(106, 177, 203)\"],[0.89,\"rgb(140, 203, 219)\"],[1.0,\"rgb(188, 227, 235)\"]],\"sizemode\":\"absolute\",\"sizeref\":0.2,\"u\":[-2.5025520342128853e-05,3.4802208502524094e-05,0.00016304464313672074,0.00035121615165079187,0.0005044279416054147,0.0007162538445750401,0.001123553451360025,0.001371201662317403,0.0016235901907438038,0.0019390141936148908,0.002567799537718074,0.0028652685832896846,0.0032071631484011515,0.003895264657335931,0.004618068581224849,0.004908831245379372,0.005276478356119607,0.006072377045044514,0.006780052295301597,0.007134657573804243,0.0076635944734538275,0.00814964451179756,0.00912937143963044,0.009680736703762904,0.010071341050247373,0.010598821033388162,0.011596228936701758,0.011932633022233463,0.012442724797395388,0.013492874123193999,0.014011088753363876,0.014604146228173631,0.015620485624935787,0.01594830205439235,0.016420549954854424,0.01745513526790543,0.017853604682697144,0.018505738535266936,0.019030172967673398,0.020166141376269264,0.02066740333117756,0.02123764255375349,0.0223685275085328,0.022590631623049306,0.02313892771985282,0.024176350218091835,0.024693518932064284,0.025365215033291477,0.025807182370729542,0.02685389597734611,0.027247882122701572,0.027885945454235284,0.028705208222402856,0.02932891143912819,0.029689673960347385,0.030687015621933877,0.031163205151537365,0.03163041577753356,0.03263731066460229,0.032828642406442565,0.03364232451857063,0.034619438550409054,0.034798546666936936,0.03518059997080769,0.03613360104289143,0.03653919415275908,0.03674858535326031,0.03718923947459718,0.03781840513757473,0.03832814059663914,0.038778069184976616,0.03959839666710341,0.03951758240773362,0.03978764505068355,0.04081905332076197,0.04180914140495684,0.04171767758360101,0.04186507954843499,0.04294765710858428,0.043569522086892576,0.04396018649247502,0.044502499380237204,0.04474290548465465,0.04556514753503382,0.045809394078434984,0.04629952839214635,0.04678057133389579,0.047772999830267615,0.047935571708427105,0.04815373512458443,0.04901931736651832,0.04969631485582049,0.0497255102355183,0.05000759614755168],\"v\":[2.475681115393774e-06,-2.2850375307634136e-05,-5.4373273963609424e-05,-0.0001046888590357326,-0.00014195475077904453,-0.00019962204178582046,-0.0003215618300387423,-0.0004127334706125266,-0.0004929798484420407,-0.0005818029892923505,-0.000753149177692241,-0.0008061555457235508,-0.0008727321014380049,-0.0010193588792761395,-0.0011995327438276172,-0.0012691162597001406,-0.0013603562669091268,-0.0015703619112624953,-0.0017747472430528488,-0.001851388371162395,-0.0019767990587083034,-0.0020937792782134007,-0.0023350828990891526,-0.0024793862312088993,-0.0025922964946434035,-0.0027380243702641444,-0.0030090282621455244,-0.003107941062547248,-0.003264348001183859,-0.0036055698646484113,-0.00381446766835547,-0.004054903901357709,-0.004467957949594287,-0.004607546816425834,-0.004811724416530855,-0.005250575243980593,-0.005415829611217005,-0.0056863647730565625,-0.005916847173147388,-0.0064202969271329735,-0.006640011119295741,-0.006898485038658031,-0.007417645418116403,-0.007522884978504341,-0.00777201225675328,-0.008245838652482296,-0.008474440865366528,-0.008775270128992263,-0.00898808072183832,-0.009475843423519814,-0.009643706108230954,-0.00990650116534919,-0.01024618490082918,-0.010504880033647468,-0.010666417381590021,-0.011091158379435195,-0.011315245342447433,-0.011550046695167238,-0.012040982148962875,-0.012169301932375198,-0.012624837883979279,-0.013184257830930246,-0.01332558624594582,-0.013586881278835339,-0.014171854205575762,-0.014436982398617015,-0.014588613019722807,-0.014863093771989133,-0.015237047748841714,-0.015549211851039413,-0.015824543508668576,-0.016295976334659512,-0.016291776927486845,-0.016443537206204617,-0.016947842257903245,-0.017449530981171968,-0.017442210214171805,-0.017563705782881023,-0.018186080410033778,-0.018565349997699876,-0.018821646644930468,-0.019178735547417336,-0.019373839506291013,-0.019894436632323043,-0.02006907605799446,-0.02036354575604049,-0.02065558355294783,-0.02120691825395493,-0.021342411797472316,-0.021511463914894335,-0.022034744947474927,-0.022467480985248756,-0.02256961905354471,-0.022843025959944363],\"w\":[0.0008143147708250531,0.0007096377425046541,0.0016512857009129966,0.002644790101336447,0.0020344407134702536,0.0016972165994442179,0.0030770904648340647,0.0024440715808968783,0.001650034897250574,0.0011456898490842526,0.002658011031227314,0.001622015983717251,0.0007237294646396109,0.0015913402925558096,0.002523894880369859,0.0011599813341804932,9.80305817344096e-05,0.0010006493267313843,0.0015165732676694077,0.00029703762892241414,-0.00018828591636887992,-0.0007795582166769677,0.0007981514342629836,0.00045332116125340605,-0.0006740507074032287,-0.0012378630351830289,4.4836313382479176e-05,-0.0014142120335094432,-0.002192126448629761,-0.0008380090201627333,-0.0015884356055573257,-0.0021030817669105417,-0.0010095619206049733,-0.0025097309237662735,-0.003510261266773451,-0.0024939374174182127,-0.0037469321494705277,-0.004081111602785459,-0.004805199209832356,-0.0032464470616928587,-0.004116467361390708,-0.004764811418609405,-0.0034398978116012557,-0.0052783397946836175,-0.00599202452723846,-0.004972886585351333,-0.005724253269497215,-0.005916056347989418,-0.0068763752082250384,-0.005604955885688323,-0.006742423226481442,-0.007019118963244697,-0.006579621442281525,-0.006817056184791337,-0.007976609746889629,-0.006831497257011154,-0.007521982739906896,-0.008218558958545508,-0.006890831294504629,-0.008566393779763537,-0.007949772458535342,-0.006570578877328703,-0.00816447640051532,-0.008928499053619365,-0.00736436039349142,-0.00796050205908383,-0.009391177162346942,-0.009916832714941481,-0.009677143831258839,-0.009835111422565657,-0.010198246819476786,-0.009036090618800952,-0.011488676488926597,-0.012727285822544232,-0.011161263694128287,-0.009702323514900524,-0.01214440979139031,-0.013747486730369296,-0.011898632945840593,-0.011570572401447432,-0.012149776611643626,-0.012135941090416047,-0.013231872123380395,-0.012119075025029735,-0.013194583109286118,-0.013351460945417948,-0.013466674319761562,-0.011600974000486541,-0.012878099583452318,-0.01396032427772731,-0.012552776335326365,-0.011704271195271065,-0.013340967192994047,-0.013944886323939087],\"x\":[-0.00013891969622959545,-0.00011139561715221033,0.00039936083975421953,0.0016297103890137562,0.0033885271052104186,0.005898733194909436,0.010064917073930596,0.015144131013575942,0.021216574489064704,0.0284455342572214,0.038212950385444144,0.04918158329495903,0.06141153730587231,0.07639594412216572,0.09432881108007643,0.1134650725305486,0.13391558631757047,0.15756382775302794,0.18411945495631632,0.2120590535910333,0.24190380263253322,0.2736803292718558,0.3093608683553424,0.3473198570889485,0.3868853455820546,0.42844033872992987,0.47414574495289263,0.5212530750763472,0.5701298600036607,0.6232603941854937,0.6784805371338839,0.7358837791517654,0.7976412294905931,0.8608668340650943,0.925693367143592,0.9947923248471966,1.065495953386137,1.138584001151973,1.2137489075727403,1.2935515708857594,1.3754124704901012,1.4593758673499786,1.548149084796212,1.638084074261455,1.7298053766720254,1.825720889907051,1.923665154168616,2.024218600657939,2.1265754447943053,2.233251276921537,2.3415802088202393,2.4521340177961566,2.5661375332562266,2.68262188945776,2.800658318970228,2.9226938826844204,3.0466470120000873,3.1723154814681442,3.302318371692795,3.4331860786065866,3.56703767205337,3.704919947709264,3.8437783987344125,3.9838093010787046,4.127600062962773,4.273300809458683,4.419855536354214,4.5679431163976725,4.718447682019557,4.871045963038773,5.0253376462323995,5.183380788790598,5.341583450093211,5.500053770455295,5.662338629356047,5.829163958639483,5.996193283117932,6.163191453118578,6.333857364377745,6.507691685364703,6.682907809649053,6.860277199079785,7.03868136488577,7.220491531571523,7.403245244462455,7.587724054728708,7.77397190357931,7.964471737688957,8.155948772813417,8.348049175622661,8.54344002069259,8.741976888842697,8.940716405920934,9.140404998690896],\"y\":[2.563047166074617e-05,-2.1741427009704045e-05,-0.00020394566139540025,-0.0005764729774453302,-0.001081630393504117,-0.001782000758767405,-0.0029595426219831368,-0.004463516472792316,-0.006305324338123664,-0.008484686866928982,-0.011371177824751928,-0.014511007145867689,-0.01788305465151728,-0.021824848541309585,-0.026489752687968653,-0.03144664088825299,-0.036723748285418516,-0.04282973354436073,-0.049777735497588634,-0.05705417376481638,-0.0647679078973072,-0.07294403893430138,-0.08207661519185465,-0.09178941049823192,-0.10195067728698091,-0.11267339007640469,-0.12452092873066942,-0.13676899227830738,-0.14955067684404608,-0.16368057190082613,-0.17860146165781177,-0.1944115323036892,-0.2119855629774097,-0.23017371822689073,-0.24905168642068623,-0.2697457135564909,-0.29111654887754324,-0.3134710087154243,-0.3367182161238507,-0.3620135160548474,-0.38822031615162805,-0.41536447934204707,-0.44470651081552426,-0.47460037740803124,-0.5053058719738673,-0.5379248543701644,-0.5714555236372493,-0.60614540407779,-0.641682907107227,-0.6792398496921936,-0.7175363068046241,-0.7567549575234682,-0.7973960482032703,-0.8390650587650992,-0.8814137157081207,-0.9254579497565121,-0.9703863284272926,-1.0161611050886423,-1.0640279401453272,-1.1124295929718284,-1.1624985198273299,-1.2148614820916364,-1.2679109820902608,-1.32179782731972,-1.3780019744941905,-1.4354374933015752,-1.4934978999064452,-1.5525345689612695,-1.6130147632575553,-1.6747680649825327,-1.7375774609215406,-1.8025177618320893,-1.8676970938016775,-1.9331205850283397,-2.0003993040795036,-2.0699482588117917,-2.1397387513106634,-2.2096818957502298,-2.2817563920884445,-2.3557103757230586,-2.4305895245380205,-2.506858972693055,-2.5839421724686114,-2.6631876593545933,-2.7431439081949067,-2.8241665246444043,-2.9062722484719004,-2.990724223125243,-3.075878637934289,-3.1615675905219374,-3.2492534885376076,-3.338885751993188,-3.4289289639220417,-3.519946168826727],\"z\":[2.9909577332842936,2.9935193806870672,3.0006253541913024,3.0122112357522486,3.021016457338113,3.02802501023625,3.041235267347826,3.0517593732605373,3.059276986275725,3.0642717491601372,3.0757339987932566,3.0835591531054,3.0873621552577184,3.0947262256485355,3.1062207831969,3.11264125626671,3.114159445176823,3.119310296522778,3.126921875807287,3.12967011047429,3.1295624249331047,3.1269142231924456,3.1305086772257567,3.1331510201044743,3.1316180616745934,3.1273150893555375,3.128857556078824,3.12497012427561,3.1168604207221713,3.114312902071,3.108922166100175,3.100826457365176,3.098111647292438,3.090068898825986,3.0770079175296727,3.068444311796015,3.0549441865979836,3.0392436775053833,3.020489037619634,3.0082764180270383,2.9929369012424316,2.9743928555117862,2.962086084338948,2.943423049494325,2.9204574252042184,2.901657270922408,2.8796964192727788,2.8566563396543723,2.8298469762605682,2.808514834572649,2.7830133483733372,2.7552075155827276,2.7296830777656593,2.70312650914126,2.6723156882561723,2.646051766622224,2.6170512061334366,2.5846590183366898,2.5586250037353855,2.5263069950725683,2.495343369966529,2.4702547063709246,2.439723428351079,2.404673184477384,2.375565208728357,2.3452575735087504,2.3093657749627945,2.270444308330813,2.232023263033101,2.1931003685521957,2.152263682764106,2.1179086162729845,2.0756741277315185,2.0256631677726933,1.98061907051655,1.9434989482612974,1.8986564863743662,1.845227256091491,1.7965562376565147,1.7516400005413568,1.7037608766862258,1.6558194540085582,1.603769979749398,1.5565467471682242,1.5049584372265208,1.4518238064938396,1.397539794246341,1.35170970051628,1.3020461187894496,1.247136214326618,1.1970414205712159,1.1519172793974506,1.1005343335786917,1.0459820757584852],\"type\":\"cone\"},{\"marker\":{\"color\":\"red\",\"opacity\":0.8,\"size\":10},\"mode\":\"markers\",\"x\":[1.7640851250998293],\"y\":[-2.8471290846850943],\"z\":[8.5],\"type\":\"scatter3d\"}],                        {\"autosize\":false,\"height\":750,\"scene\":{\"aspectratio\":{\"x\":1,\"y\":1,\"z\":0.8},\"camera\":{\"eye\":{\"x\":1.2,\"y\":1.2,\"z\":0.6}},\"xaxis\":{\"backgroundcolor\":\"rgb(235, 235, 235)\",\"gridcolor\":\"rgb(255, 255, 255)\",\"showbackground\":true,\"zerolinecolor\":\"rgb(255, 255, 255)\"},\"yaxis\":{\"backgroundcolor\":\"rgb(235, 235, 235)\",\"gridcolor\":\"rgb(255, 255, 255)\",\"showbackground\":true,\"zerolinecolor\":\"rgb(255, 255, 255)\"},\"zaxis\":{\"backgroundcolor\":\"rgb(235, 235, 235)\",\"gridcolor\":\"rgb(255, 255, 255)\",\"showbackground\":true,\"zerolinecolor\":\"rgb(255, 255, 255)\"}},\"width\":900,\"template\":{\"data\":{\"histogram2dcontour\":[{\"type\":\"histogram2dcontour\",\"colorbar\":{\"outlinewidth\":0,\"ticks\":\"\"},\"colorscale\":[[0.0,\"#0d0887\"],[0.1111111111111111,\"#46039f\"],[0.2222222222222222,\"#7201a8\"],[0.3333333333333333,\"#9c179e\"],[0.4444444444444444,\"#bd3786\"],[0.5555555555555556,\"#d8576b\"],[0.6666666666666666,\"#ed7953\"],[0.7777777777777778,\"#fb9f3a\"],[0.8888888888888888,\"#fdca26\"],[1.0,\"#f0f921\"]]}],\"choropleth\":[{\"type\":\"choropleth\",\"colorbar\":{\"outlinewidth\":0,\"ticks\":\"\"}}],\"histogram2d\":[{\"type\":\"histogram2d\",\"colorbar\":{\"outlinewidth\":0,\"ticks\":\"\"},\"colorscale\":[[0.0,\"#0d0887\"],[0.1111111111111111,\"#46039f\"],[0.2222222222222222,\"#7201a8\"],[0.3333333333333333,\"#9c179e\"],[0.4444444444444444,\"#bd3786\"],[0.5555555555555556,\"#d8576b\"],[0.6666666666666666,\"#ed7953\"],[0.7777777777777778,\"#fb9f3a\"],[0.8888888888888888,\"#fdca26\"],[1.0,\"#f0f921\"]]}],\"heatmap\":[{\"type\":\"heatmap\",\"colorbar\":{\"outlinewidth\":0,\"ticks\":\"\"},\"colorscale\":[[0.0,\"#0d0887\"],[0.1111111111111111,\"#46039f\"],[0.2222222222222222,\"#7201a8\"],[0.3333333333333333,\"#9c179e\"],[0.4444444444444444,\"#bd3786\"],[0.5555555555555556,\"#d8576b\"],[0.6666666666666666,\"#ed7953\"],[0.7777777777777778,\"#fb9f3a\"],[0.8888888888888888,\"#fdca26\"],[1.0,\"#f0f921\"]]}],\"heatmapgl\":[{\"type\":\"heatmapgl\",\"colorbar\":{\"outlinewidth\":0,\"ticks\":\"\"},\"colorscale\":[[0.0,\"#0d0887\"],[0.1111111111111111,\"#46039f\"],[0.2222222222222222,\"#7201a8\"],[0.3333333333333333,\"#9c179e\"],[0.4444444444444444,\"#bd3786\"],[0.5555555555555556,\"#d8576b\"],[0.6666666666666666,\"#ed7953\"],[0.7777777777777778,\"#fb9f3a\"],[0.8888888888888888,\"#fdca26\"],[1.0,\"#f0f921\"]]}],\"contourcarpet\":[{\"type\":\"contourcarpet\",\"colorbar\":{\"outlinewidth\":0,\"ticks\":\"\"}}],\"contour\":[{\"type\":\"contour\",\"colorbar\":{\"outlinewidth\":0,\"ticks\":\"\"},\"colorscale\":[[0.0,\"#0d0887\"],[0.1111111111111111,\"#46039f\"],[0.2222222222222222,\"#7201a8\"],[0.3333333333333333,\"#9c179e\"],[0.4444444444444444,\"#bd3786\"],[0.5555555555555556,\"#d8576b\"],[0.6666666666666666,\"#ed7953\"],[0.7777777777777778,\"#fb9f3a\"],[0.8888888888888888,\"#fdca26\"],[1.0,\"#f0f921\"]]}],\"surface\":[{\"type\":\"surface\",\"colorbar\":{\"outlinewidth\":0,\"ticks\":\"\"},\"colorscale\":[[0.0,\"#0d0887\"],[0.1111111111111111,\"#46039f\"],[0.2222222222222222,\"#7201a8\"],[0.3333333333333333,\"#9c179e\"],[0.4444444444444444,\"#bd3786\"],[0.5555555555555556,\"#d8576b\"],[0.6666666666666666,\"#ed7953\"],[0.7777777777777778,\"#fb9f3a\"],[0.8888888888888888,\"#fdca26\"],[1.0,\"#f0f921\"]]}],\"mesh3d\":[{\"type\":\"mesh3d\",\"colorbar\":{\"outlinewidth\":0,\"ticks\":\"\"}}],\"scatter\":[{\"marker\":{\"line\":{\"color\":\"#283442\"}},\"type\":\"scatter\"}],\"parcoords\":[{\"type\":\"parcoords\",\"line\":{\"colorbar\":{\"outlinewidth\":0,\"ticks\":\"\"}}}],\"scatterpolargl\":[{\"type\":\"scatterpolargl\",\"marker\":{\"colorbar\":{\"outlinewidth\":0,\"ticks\":\"\"}}}],\"bar\":[{\"error_x\":{\"color\":\"#f2f5fa\"},\"error_y\":{\"color\":\"#f2f5fa\"},\"marker\":{\"line\":{\"color\":\"rgb(17,17,17)\",\"width\":0.5},\"pattern\":{\"fillmode\":\"overlay\",\"size\":10,\"solidity\":0.2}},\"type\":\"bar\"}],\"scattergeo\":[{\"type\":\"scattergeo\",\"marker\":{\"colorbar\":{\"outlinewidth\":0,\"ticks\":\"\"}}}],\"scatterpolar\":[{\"type\":\"scatterpolar\",\"marker\":{\"colorbar\":{\"outlinewidth\":0,\"ticks\":\"\"}}}],\"histogram\":[{\"marker\":{\"pattern\":{\"fillmode\":\"overlay\",\"size\":10,\"solidity\":0.2}},\"type\":\"histogram\"}],\"scattergl\":[{\"marker\":{\"line\":{\"color\":\"#283442\"}},\"type\":\"scattergl\"}],\"scatter3d\":[{\"type\":\"scatter3d\",\"line\":{\"colorbar\":{\"outlinewidth\":0,\"ticks\":\"\"}},\"marker\":{\"colorbar\":{\"outlinewidth\":0,\"ticks\":\"\"}}}],\"scattermapbox\":[{\"type\":\"scattermapbox\",\"marker\":{\"colorbar\":{\"outlinewidth\":0,\"ticks\":\"\"}}}],\"scatterternary\":[{\"type\":\"scatterternary\",\"marker\":{\"colorbar\":{\"outlinewidth\":0,\"ticks\":\"\"}}}],\"scattercarpet\":[{\"type\":\"scattercarpet\",\"marker\":{\"colorbar\":{\"outlinewidth\":0,\"ticks\":\"\"}}}],\"carpet\":[{\"aaxis\":{\"endlinecolor\":\"#A2B1C6\",\"gridcolor\":\"#506784\",\"linecolor\":\"#506784\",\"minorgridcolor\":\"#506784\",\"startlinecolor\":\"#A2B1C6\"},\"baxis\":{\"endlinecolor\":\"#A2B1C6\",\"gridcolor\":\"#506784\",\"linecolor\":\"#506784\",\"minorgridcolor\":\"#506784\",\"startlinecolor\":\"#A2B1C6\"},\"type\":\"carpet\"}],\"table\":[{\"cells\":{\"fill\":{\"color\":\"#506784\"},\"line\":{\"color\":\"rgb(17,17,17)\"}},\"header\":{\"fill\":{\"color\":\"#2a3f5f\"},\"line\":{\"color\":\"rgb(17,17,17)\"}},\"type\":\"table\"}],\"barpolar\":[{\"marker\":{\"line\":{\"color\":\"rgb(17,17,17)\",\"width\":0.5},\"pattern\":{\"fillmode\":\"overlay\",\"size\":10,\"solidity\":0.2}},\"type\":\"barpolar\"}],\"pie\":[{\"automargin\":true,\"type\":\"pie\"}]},\"layout\":{\"autotypenumbers\":\"strict\",\"colorway\":[\"#636efa\",\"#EF553B\",\"#00cc96\",\"#ab63fa\",\"#FFA15A\",\"#19d3f3\",\"#FF6692\",\"#B6E880\",\"#FF97FF\",\"#FECB52\"],\"font\":{\"color\":\"#f2f5fa\"},\"hovermode\":\"closest\",\"hoverlabel\":{\"align\":\"left\"},\"paper_bgcolor\":\"rgb(17,17,17)\",\"plot_bgcolor\":\"rgb(17,17,17)\",\"polar\":{\"bgcolor\":\"rgb(17,17,17)\",\"angularaxis\":{\"gridcolor\":\"#506784\",\"linecolor\":\"#506784\",\"ticks\":\"\"},\"radialaxis\":{\"gridcolor\":\"#506784\",\"linecolor\":\"#506784\",\"ticks\":\"\"}},\"ternary\":{\"bgcolor\":\"rgb(17,17,17)\",\"aaxis\":{\"gridcolor\":\"#506784\",\"linecolor\":\"#506784\",\"ticks\":\"\"},\"baxis\":{\"gridcolor\":\"#506784\",\"linecolor\":\"#506784\",\"ticks\":\"\"},\"caxis\":{\"gridcolor\":\"#506784\",\"linecolor\":\"#506784\",\"ticks\":\"\"}},\"coloraxis\":{\"colorbar\":{\"outlinewidth\":0,\"ticks\":\"\"}},\"colorscale\":{\"sequential\":[[0.0,\"#0d0887\"],[0.1111111111111111,\"#46039f\"],[0.2222222222222222,\"#7201a8\"],[0.3333333333333333,\"#9c179e\"],[0.4444444444444444,\"#bd3786\"],[0.5555555555555556,\"#d8576b\"],[0.6666666666666666,\"#ed7953\"],[0.7777777777777778,\"#fb9f3a\"],[0.8888888888888888,\"#fdca26\"],[1.0,\"#f0f921\"]],\"sequentialminus\":[[0.0,\"#0d0887\"],[0.1111111111111111,\"#46039f\"],[0.2222222222222222,\"#7201a8\"],[0.3333333333333333,\"#9c179e\"],[0.4444444444444444,\"#bd3786\"],[0.5555555555555556,\"#d8576b\"],[0.6666666666666666,\"#ed7953\"],[0.7777777777777778,\"#fb9f3a\"],[0.8888888888888888,\"#fdca26\"],[1.0,\"#f0f921\"]],\"diverging\":[[0,\"#8e0152\"],[0.1,\"#c51b7d\"],[0.2,\"#de77ae\"],[0.3,\"#f1b6da\"],[0.4,\"#fde0ef\"],[0.5,\"#f7f7f7\"],[0.6,\"#e6f5d0\"],[0.7,\"#b8e186\"],[0.8,\"#7fbc41\"],[0.9,\"#4d9221\"],[1,\"#276419\"]]},\"xaxis\":{\"gridcolor\":\"#283442\",\"linecolor\":\"#506784\",\"ticks\":\"\",\"title\":{\"standoff\":15},\"zerolinecolor\":\"#283442\",\"automargin\":true,\"zerolinewidth\":2},\"yaxis\":{\"gridcolor\":\"#283442\",\"linecolor\":\"#506784\",\"ticks\":\"\",\"title\":{\"standoff\":15},\"zerolinecolor\":\"#283442\",\"automargin\":true,\"zerolinewidth\":2},\"scene\":{\"xaxis\":{\"backgroundcolor\":\"rgb(17,17,17)\",\"gridcolor\":\"#506784\",\"linecolor\":\"#506784\",\"showbackground\":true,\"ticks\":\"\",\"zerolinecolor\":\"#C8D4E3\",\"gridwidth\":2},\"yaxis\":{\"backgroundcolor\":\"rgb(17,17,17)\",\"gridcolor\":\"#506784\",\"linecolor\":\"#506784\",\"showbackground\":true,\"ticks\":\"\",\"zerolinecolor\":\"#C8D4E3\",\"gridwidth\":2},\"zaxis\":{\"backgroundcolor\":\"rgb(17,17,17)\",\"gridcolor\":\"#506784\",\"linecolor\":\"#506784\",\"showbackground\":true,\"ticks\":\"\",\"zerolinecolor\":\"#C8D4E3\",\"gridwidth\":2}},\"shapedefaults\":{\"line\":{\"color\":\"#f2f5fa\"}},\"annotationdefaults\":{\"arrowcolor\":\"#f2f5fa\",\"arrowhead\":0,\"arrowwidth\":1},\"geo\":{\"bgcolor\":\"rgb(17,17,17)\",\"landcolor\":\"rgb(17,17,17)\",\"subunitcolor\":\"#506784\",\"showland\":true,\"showlakes\":true,\"lakecolor\":\"rgb(17,17,17)\"},\"title\":{\"x\":0.05},\"updatemenudefaults\":{\"bgcolor\":\"#506784\",\"borderwidth\":0},\"sliderdefaults\":{\"bgcolor\":\"#C8D4E3\",\"borderwidth\":1,\"bordercolor\":\"rgb(17,17,17)\",\"tickwidth\":0},\"mapbox\":{\"style\":\"dark\"}}}},                        {\"responsive\": true}                    ).then(function(){\n                            \nvar gd = document.getElementById('a7d1a342-fcc2-4c9f-9f9b-71eab7c12f80');\nvar x = new MutationObserver(function (mutations, observer) {{\n        var display = window.getComputedStyle(gd).display;\n        if (!display || display === 'none') {{\n            console.log([gd, 'removed!']);\n            Plotly.purge(gd);\n            observer.disconnect();\n        }}\n}});\n\n// Listen for the removal of the full notebook cells\nvar notebookContainer = gd.closest('#notebook-container');\nif (notebookContainer) {{\n    x.observe(notebookContainer, {childList: true});\n}}\n\n// Listen for the clearing of the current output cell\nvar outputEl = gd.closest('.output');\nif (outputEl) {{\n    x.observe(outputEl, {childList: true});\n}}\n\n                        })                };                });            </script>        </div>"
     },
     "metadata": {},
     "output_type": "display_data"
    }
   ],
   "source": [
    "ep_idx = 0\n",
    "linear_positions = result[\"linear_position\"][ep_idx]\n",
    "linear_velocities = result[\"linear_velocity\"][ep_idx]\n",
    "target_vector = result[\"waypoints\"][ep_idx]\n",
    "plotly_vector_field(linear_positions, linear_velocities, target_vector, size=0.2)"
   ],
   "metadata": {
    "collapsed": false,
    "ExecuteTime": {
     "end_time": "2024-11-15T23:29:20.345604Z",
     "start_time": "2024-11-15T23:29:20.339075Z"
    }
   },
   "id": "b2a95df97a68de2a",
   "execution_count": 6
  },
  {
   "cell_type": "markdown",
   "source": [
    "# Smoothness of control inputs"
   ],
   "metadata": {
    "collapsed": false
   },
   "id": "97abdcada713f5b0"
  },
  {
   "cell_type": "code",
   "outputs": [
    {
     "name": "stderr",
     "output_type": "stream",
     "text": [
      "/Users/felixunterleiter/Documents/GitHub/pyflyt_experience/Evaluation/vis_model.py:126: UserWarning:\n",
      "\n",
      "No artists with labels found to put in legend.  Note that artists whose label start with an underscore are ignored when legend() is called with no argument.\n",
      "\n"
     ]
    },
    {
     "data": {
      "text/plain": "<Figure size 800x600 with 1 Axes>",
      "image/png": "[encoded data removed]"
     },
     "metadata": {},
     "output_type": "display_data"
    }
   ],
   "source": [
    "smoothness_result = {\n",
    "    \"smoothness\": result[\"smoothness\"]\n",
    "}\n",
    "plot_eval(smoothness_result, average=True)"
   ],
   "metadata": {
    "collapsed": false,
    "ExecuteTime": {
     "end_time": "2024-11-15T23:29:20.444766Z",
     "start_time": "2024-11-15T23:29:20.339695Z"
    }
   },
   "id": "6837fad84a66bcf2",
   "execution_count": 7
  },
  {
   "cell_type": "markdown",
   "source": [
    "# Azimuth and Elevation Angles"
   ],
   "metadata": {
    "collapsed": false
   },
   "id": "5888810287a4f241"
  },
  {
   "cell_type": "code",
   "outputs": [
    {
     "data": {
      "text/plain": "<Figure size 1000x800 with 1 Axes>",
      "image/png": "[encoded data removed]"
     },
     "metadata": {},
     "output_type": "display_data"
    }
   ],
   "source": [
    "angles_result = {\n",
    "    \"azimuth\": result[\"azimuth_angle\"],\n",
    "    \"elevation\": result[\"elevation_angle\"]\n",
    "}\n",
    "\n",
    "plot_multiple_eval(angles_result, average=False)"
   ],
   "metadata": {
    "collapsed": false,
    "ExecuteTime": {
     "end_time": "2024-11-15T23:29:20.670780Z",
     "start_time": "2024-11-15T23:29:20.448208Z"
    }
   },
   "id": "f9f9ce3574a480cd",
   "execution_count": 8
  },
  {
   "cell_type": "markdown",
   "source": [
    "# Angular Positions over time"
   ],
   "metadata": {
    "collapsed": false
   },
   "id": "7ff20f28921a9217"
  },
  {
   "cell_type": "code",
   "outputs": [
    {
     "name": "stdout",
     "output_type": "stream",
     "text": [
      "Max Pitch: 0.21810016898643297, Max Roll: 0.24758050237880294, Max Yaw: 0.47426238823060207\n",
      "Min Pitch: 0.013405067637052917, Min Roll: 0.009752197750039231, Min Yaw: 0.21961468374919038\n"
     ]
    }
   ],
   "source": [
    "abs_max_pitch, abs_max_roll, abs_max_yaw = -np.inf, -np.inf, -np.inf\n",
    "abs_min_pitch, abs_min_roll, abs_min_yaw = np.inf, np.inf, np.inf\n",
    "\n",
    "for ep in result[\"angular_position\"]:\n",
    "    # Plot the maximum angular position for each episode\n",
    "    max_pitch, max_roll, max_yaw = np.max(np.abs(ep), axis=0)\n",
    "    min_pitch, min_roll, min_yaw = np.min(np.abs(ep), axis=0)\n",
    "    if max_pitch > abs_max_pitch:\n",
    "        abs_max_pitch = max_pitch\n",
    "    if max_roll > abs_max_roll:\n",
    "        abs_max_roll = max_roll\n",
    "    if max_yaw > abs_max_yaw:\n",
    "        abs_max_yaw = max_yaw\n",
    "        \n",
    "    if min_pitch < abs_min_pitch:\n",
    "        abs_min_pitch = min_pitch\n",
    "    if min_roll < abs_min_roll:\n",
    "        abs_min_roll = min_roll\n",
    "    if min_yaw < abs_min_yaw:\n",
    "        abs_min_yaw = min_yaw\n",
    "    \n",
    "print(f\"Max Pitch: {abs_max_pitch}, Max Roll: {abs_max_roll}, Max Yaw: {abs_max_yaw}\")\n",
    "print(f\"Min Pitch: {abs_min_pitch}, Min Roll: {abs_min_roll}, Min Yaw: {abs_min_yaw}\")"
   ],
   "metadata": {
    "collapsed": false,
    "ExecuteTime": {
     "end_time": "2024-11-15T23:29:21.000027Z",
     "start_time": "2024-11-15T23:29:20.678182Z"
    }
   },
   "id": "44765c1de3195b4d",
   "execution_count": 9
  },
  {
   "cell_type": "markdown",
   "source": [
    "# Experimentation"
   ],
   "metadata": {
    "collapsed": false
   },
   "id": "de813d209575c6d1"
  },
  {
   "cell_type": "code",
   "outputs": [
    {
     "name": "stdout",
     "output_type": "stream",
     "text": [
      "\u001B[A                             \u001B[A\n",
      "\u001B[A                             \u001B[A\n",
      "Target vector: [ 2.01742798 -3.5054456   8.5       ]\n",
      "Action: [-0.00091221  0.07793062  0.11494478 -0.00873889]\n",
      "(t=0): velocity: [ 0.95559536 -0.29468204]; LOS: [ 0.49878825 -0.86672388]; azimuth: [0.74947343]; elevation: [0.29691916]\n",
      "Action: [ 0.11262915 -0.13306831 -0.13460329  0.01753526]\n",
      "(t=1): velocity: [ 0.98283794 -0.18447111]; LOS: [ 0.49870377 -0.86677249]; azimuth: [0.86315996]; elevation: [0.28126065]\n",
      "Action: [-0.02989523 -0.12172019 -0.07515843 -0.00287296]\n",
      "(t=2): velocity: [ 0.92002126 -0.39186845]; LOS: [ 0.49854273 -0.86686513]; azimuth: [0.64621786]; elevation: [0.25639474]\n",
      "Action: [-0.0617825   0.02733132 -0.04666822  0.01188497]\n",
      "(t=3): velocity: [ 0.89181529 -0.45239971]; LOS: [ 0.49832324 -0.86699132]; azimuth: [0.5796783]; elevation: [0.17208868]\n",
      "Action: [ 0.11648654  0.05901679 -0.08924686 -0.00544362]\n",
      "(t=4): velocity: [ 0.8846113  -0.46632911]; LOS: [ 0.49802137 -0.86716476]; azimuth: [0.56434428]; elevation: [-0.02740726]\n",
      "Action: [ 0.03278447 -0.09274582  0.0043269  -0.01436044]\n",
      "(t=5): velocity: [ 0.88095998 -0.47319078]; LOS: [ 0.4975795  -0.86741838]; azimuth: [0.55708105]; elevation: [-0.28771511]\n",
      "Action: [ 0.01492973  0.12965728 -0.15031566 -0.02534133]\n",
      "(t=6): velocity: [ 0.87984163 -0.47526699]; LOS: [ 0.49697079 -0.86776727]; azimuth: [0.55542441]; elevation: [-0.60581041]\n",
      "Action: [-0.14854824 -0.04644253  0.11943408  0.03830212]\n",
      "(t=7): velocity: [ 0.8832198  -0.46895926]; LOS: [ 0.49597028 -0.86833949]; azimuth: [0.56373238]; elevation: [-0.32055832]\n",
      "Action: [0.01211908 0.0448412  0.03249408 0.00478351]\n",
      "(t=8): velocity: [ 0.88078686 -0.47351294]; LOS: [ 0.4947369  -0.86904281]; azimuth: [0.55998934]; elevation: [-0.50179792]\n",
      "Action: [ 0.11839379 -0.12859284  0.1112901   0.00957706]\n",
      "(t=9): velocity: [ 0.88050714 -0.47403288]; LOS: [ 0.49328478 -0.86986788]; azimuth: [0.56106907]; elevation: [-0.80493733]\n",
      "Action: [-0.11332257 -0.00439834  0.01092221 -0.01931867]\n",
      "(t=10): velocity: [ 0.87914041 -0.47656283]; LOS: [ 0.4915799  -0.87083248]; azimuth: [0.5601524]; elevation: [-1.03516028]\n",
      "Action: [-0.07756336  0.01777355 -0.023438   -0.02332279]\n",
      "(t=11): velocity: [ 0.88074016 -0.4735998 ]; LOS: [ 0.48943398 -0.87204035]; azimuth: [0.56598221]; elevation: [-0.9628453]\n",
      "Action: [-0.0765414  -0.05323387  0.08939721  0.01447377]\n",
      "(t=12): velocity: [ 0.88448102 -0.46657617]; LOS: [ 0.48696996 -0.87341872]; azimuth: [0.57676332]; elevation: [-1.15111564]\n",
      "Action: [-0.1505059  -0.03303428  0.10100389 -0.00602586]\n",
      "(t=13): velocity: [ 0.88825827 -0.45934436]; LOS: [ 0.48410006 -0.87501265]; azimuth: [0.58820499]; elevation: [-1.22984087]\n",
      "Action: [ 0.05692787 -0.10359958 -0.13496646  0.02778552]\n",
      "(t=14): velocity: [ 0.89180861 -0.45241287]; LOS: [ 0.48084305 -0.87680668]; azimuth: [0.59971129]; elevation: [-1.3504586]\n",
      "Action: [-0.07352343  0.04894586 -0.00231068 -0.03836633]\n",
      "(t=15): velocity: [ 0.895599   -0.44486225]; LOS: [ 0.47701285 -0.87889632]; azimuth: [0.61252306]; elevation: [-1.321486]\n",
      "Action: [-0.00887685 -0.14570772  0.0373482   0.02132391]\n",
      "(t=16): velocity: [ 0.89790651 -0.44018622]; LOS: [ 0.47268399 -0.881232  ]; azimuth: [0.62265624]; elevation: [-1.36512409]\n",
      "Action: [-0.13009301  0.15640397 -0.05243595  0.02937799]\n",
      "(t=17): velocity: [ 0.8988842  -0.43818626]; LOS: [ 0.46790103 -0.88378087]; azimuth: [0.63030213]; elevation: [-1.44501905]\n",
      "Action: [-0.04826346  0.11603767 -0.00976903 -0.00998798]\n",
      "(t=18): velocity: [ 0.90100182 -0.43381531]; LOS: [ 0.46221987 -0.88676535]; azimuth: [0.64157642]; elevation: [-1.31022663]\n",
      "Action: [ 0.13506928  0.03803557 -0.05267838  0.00051474]\n",
      "(t=19): velocity: [ 0.90193695 -0.43186773]; LOS: [ 0.45621121 -0.88987153]; azimuth: [0.65050093]; elevation: [-1.52442281]\n",
      "Action: [-0.0923839  -0.06864943 -0.14266096 -0.03703195]\n",
      "(t=20): velocity: [ 0.90396422 -0.42760811]; LOS: [ 0.44976706 -0.8931459 ]; azimuth: [0.6624467]; elevation: [-1.62244024]\n",
      "Action: [0.00904462 0.01569885 0.05499365 0.00370448]\n",
      "(t=21): velocity: [ 0.90760348 -0.41982844]; LOS: [ 0.44225621 -0.89688876]; azimuth: [0.67942732]; elevation: [-1.53343108]\n",
      "Action: [ 0.04617801  0.09733361 -0.00284444  0.01489301]\n",
      "(t=22): velocity: [ 0.90998614 -0.41463866]; LOS: [ 0.43375216 -0.90103222]; azimuth: [0.69459773]; elevation: [-1.50811065]\n",
      "Action: [-0.11615141 -0.02501299 -0.033783    0.00103447]\n",
      "(t=23): velocity: [ 0.91135769 -0.41161531]; LOS: [ 0.42451562 -0.90542061]; azimuth: [0.70814371]; elevation: [-1.58462005]\n",
      "Action: [-0.10996785 -0.1207914   0.01113164 -0.02505003]\n",
      "(t=24): velocity: [ 0.91292936 -0.40811761]; LOS: [ 0.41451302 -0.91004338]; azimuth: [0.72299752]; elevation: [-1.646175]\n",
      "Action: [-0.04606233 -0.05451011  0.03398024 -0.00675442]\n",
      "(t=25): velocity: [ 0.91516659 -0.40307581]; LOS: [ 0.40326192 -0.9150846 ]; azimuth: [0.74084237]; elevation: [-1.62670581]\n",
      "Action: [-0.12753336 -0.02022744 -0.15218937 -0.02602703]\n",
      "(t=26): velocity: [ 0.91629296 -0.4005087 ]; LOS: [ 0.39103639 -0.92037522]; azimuth: [0.756967]; elevation: [-1.67122265]\n",
      "Action: [-0.08763359 -0.01819638  0.09116981  0.02411787]\n",
      "(t=27): velocity: [ 0.91802485 -0.39652285]; LOS: [ 0.37737967 -0.92605863]; azimuth: [0.77610514]; elevation: [-1.65143008]\n",
      "Action: [-0.09288234  0.00122931 -0.09113914 -0.03714465]\n",
      "(t=28): velocity: [ 0.91909734 -0.39403056]; LOS: [ 0.36259204 -0.93194797]; azimuth: [0.79473578]; elevation: [-1.70999211]\n",
      "Action: [ 0.13515817  0.08457714 -0.07120392 -0.03718021]\n",
      "(t=29): velocity: [ 0.92020488 -0.39143706]; LOS: [ 0.34662119 -0.9380052 ]; azimuth: [0.81463701]; elevation: [-1.76177425]\n",
      "Action: [ 0.03899441  0.0206376  -0.11035533 -0.03039212]\n",
      "(t=30): velocity: [ 0.92160976 -0.38811782]; LOS: [ 0.32897141 -0.94433988]; azimuth: [0.83699374]; elevation: [-1.75770743]\n",
      "Action: [-0.07438085 -0.00111254  0.04648681 -0.0187528 ]\n",
      "(t=31): velocity: [ 0.92243619 -0.38614954]; LOS: [ 0.30969927 -0.95083456]; azimuth: [0.85946589]; elevation: [-1.77997754]\n",
      "Action: [-0.03454838  0.06165785  0.0587911  -0.02422556]\n",
      "(t=32): velocity: [ 0.92319448 -0.38433313]; LOS: [ 0.28871074 -0.95741637]; azimuth: [0.883431]; elevation: [-1.80872618]\n",
      "Action: [ 0.05645543  0.11592646  0.099392   -0.01584969]\n",
      "(t=33): velocity: [ 0.92427242 -0.38173355]; LOS: [ 0.26501638 -0.96424391]; azimuth: [0.91090427]; elevation: [-1.76368838]\n",
      "Action: [-0.01147699  0.09261549  0.05571896 -0.03363658]\n",
      "(t=34): velocity: [ 0.92424474 -0.38180054]; LOS: [ 0.23981163 -0.97081944]; azimuth: [0.93688088]; elevation: [-1.85669369]\n",
      "Action: [ 0.03215772  0.06963729 -0.02264189 -0.03035899]\n",
      "(t=35): velocity: [ 0.92416847 -0.38198514]; LOS: [ 0.21291236 -0.9770713 ]; azimuth: [0.96429826]; elevation: [-1.90684279]\n",
      "Action: [0.08245887 0.1568502  0.12901099 0.01676916]\n",
      "(t=36): velocity: [ 0.92401052 -0.38236705]; LOS: [ 0.18296211 -0.98311997]; azimuth: [0.99444109]; elevation: [-1.87693084]\n",
      "Action: [-0.14091849 -0.12351216  0.05626984 -0.01257848]\n",
      "(t=37): velocity: [ 0.92379581 -0.38288551]; LOS: [ 0.150585   -0.98859707]; azimuth: [1.02671852]; elevation: [-1.90863396]\n",
      "Action: [-0.01049267 -0.13161734 -0.14822898 -0.01661491]\n",
      "(t=38): velocity: [ 0.92361455 -0.38332253]; LOS: [ 0.11573273 -0.99328039]; azimuth: [1.06141273]; elevation: [-1.9490879]\n",
      "Action: [ 0.05163077 -0.03082539 -0.06905271 -0.01102525]\n",
      "(t=39): velocity: [ 0.92325407 -0.38418995]; LOS: [ 0.07760526 -0.99698416]; azimuth: [1.09878269]; elevation: [-1.95083371]\n",
      "Action: [-0.12406149 -0.14885053 -0.14535742  0.00060131]\n",
      "(t=40): velocity: [ 0.92251573 -0.3859595 ]; LOS: [ 0.03668837 -0.99932676]; azimuth: [1.13785204]; elevation: [-1.97641958]\n",
      "Action: [ 0.0849424   0.11729155 -0.07478509 -0.02141009]\n",
      "(t=41): velocity: [ 0.92184042 -0.38756966]; LOS: [-0.00708129 -0.99997493]; azimuth: [1.17988395]; elevation: [-2.01123121]\n",
      "Action: [ 0.15046172 -0.13482576  0.1022193  -0.03618964]\n",
      "(t=42): velocity: [ 0.92107807 -0.38937795]; LOS: [-0.05357662 -0.99856374]; azimuth: [1.22444247]; elevation: [-2.04432489]\n",
      "Action: [ 0.11758456 -0.09333685  0.04339109 -0.00907644]\n",
      "(t=43): velocity: [ 0.91928293 -0.39359738]; LOS: [-0.10415006 -0.99456159]; azimuth: [1.27059402]; elevation: [-2.02338359]\n",
      "Action: [0.1193747  0.06999944 0.09491786 0.02175757]\n",
      "(t=44): velocity: [ 0.9191282  -0.39395857]; LOS: [-0.15642159 -0.98769038]; azimuth: [1.32292842]; elevation: [-2.10566402]\n",
      "Action: [-0.05973861  0.15332205  0.13826733  0.02098689]\n",
      "(t=45): velocity: [ 0.91865522 -0.39506024]; LOS: [-0.2105217  -0.97758918]; azimuth: [1.3767715]; elevation: [-2.13412232]\n",
      "Action: [ 0.0988857   0.04693967 -0.04241858  0.02056282]\n",
      "(t=46): velocity: [ 0.91802521 -0.39652202]; LOS: [-0.26761084 -0.96352708]; azimuth: [1.43398372]; elevation: [-2.11951935]\n",
      "Action: [-0.04832885  0.15463894  0.0844446  -0.03799998]\n",
      "(t=47): velocity: [ 0.91679609 -0.39935565]; LOS: [-0.32755331 -0.9448327 ]; azimuth: [1.49369527]; elevation: [-2.09707136]\n",
      "Action: [ 0.1260638   0.07443427 -0.09574526  0.01072401]\n",
      "(t=48): velocity: [ 0.91670961 -0.39955411]; LOS: [-0.38722989 -0.92198319]; azimuth: [1.55739112]; elevation: [-2.16988964]\n",
      "Action: [ 0.0699023  -0.1262184   0.03460031 -0.00955879]\n",
      "(t=49): velocity: [ 0.91669323 -0.39959169]; LOS: [-0.44562203 -0.8952212 ]; azimuth: [1.62159392]; elevation: [-2.22736262]\n",
      "Action: [-0.14864592 -0.12293499 -0.07645356 -0.02453538]\n",
      "(t=50): velocity: [ 0.91670767 -0.39955858]; LOS: [-0.50398347 -0.8637133 ]; azimuth: [1.68796569]; elevation: [-2.20084397]\n",
      "Action: [ 0.05112288  0.07667096 -0.02471059  0.0083265 ]\n",
      "(t=51): velocity: [ 0.91641981 -0.40021836]; LOS: [-0.56200652 -0.8271328 ]; azimuth: [1.75585089]; elevation: [-2.17858255]\n",
      "Action: [-0.13018097  0.08248295  0.0350505   0.03447105]\n",
      "(t=52): velocity: [ 0.91628698 -0.40052238]; LOS: [-0.61622797 -0.78756783]; azimuth: [1.82265366]; elevation: [-2.25264982]\n",
      "Action: [-0.03051304 -0.02257353 -0.0779084   0.00024687]\n",
      "(t=53): velocity: [ 0.91612957 -0.4008823 ]; LOS: [-0.66590531 -0.74603627]; azimuth: [1.88702327]; elevation: [-2.32335345]\n",
      "Action: [-0.13691117 -0.044148   -0.14197578 -0.03172641]\n",
      "(t=54): velocity: [ 0.91555467 -0.40219354]; LOS: [-0.71124109 -0.70294815]; azimuth: [1.94814707]; elevation: [-2.35512346]\n",
      "Action: [-0.08854827 -0.15627312 -0.01426042 -0.00984611]\n",
      "(t=55): velocity: [ 0.91431256 -0.40500931]; LOS: [-0.75364655 -0.65727991]; azimuth: [2.00739982]; elevation: [-2.31679787]\n",
      "Action: [-0.14343779 -0.01443474  0.11059396 -0.00951047]\n",
      "(t=56): velocity: [ 0.91333718 -0.40720412]; LOS: [-0.79209382 -0.61039936]; azimuth: [2.06563718]; elevation: [-2.32078599]\n",
      "Action: [ 0.12820247 -0.08236491  0.10052796 -0.01430475]\n",
      "(t=57): velocity: [ 0.9123286  -0.40945882]; LOS: [-0.82701204 -0.56218421]; azimuth: [2.12270734]; elevation: [-2.29753433]\n",
      "Action: [ 0.02367249  0.07841648 -0.02145407  0.01665657]\n",
      "(t=58): velocity: [ 0.91215271 -0.4098505 ]; LOS: [-0.85702752 -0.51527063]; azimuth: [2.17797909]; elevation: [-2.36155497]\n",
      "Action: [ 0.105626    0.15213813  0.14636123 -0.0065376 ]\n",
      "(t=59): velocity: [ 0.91193302 -0.41033909]; LOS: [-0.88248741 -0.47033602]; azimuth: [2.22909528]; elevation: [-2.41692686]\n",
      "Action: [0.01303459 0.02972066 0.00572139 0.02357943]\n",
      "(t=60): velocity: [ 0.91121779 -0.41192492]; LOS: [-0.90450985 -0.42645274]; azimuth: [2.27645975]; elevation: [-2.40960777]\n",
      "Action: [0.03484338 0.04007106 0.09557893 0.02656461]\n",
      "(t=61): velocity: [ 0.91030461 -0.41393902]; LOS: [-0.92348262 -0.38364026]; azimuth: [2.32108071]; elevation: [-2.40042999]\n",
      "Action: [ 0.06817116 -0.00619496 -0.06387577 -0.00535942]\n",
      "(t=62): velocity: [ 0.91012634 -0.41433083]; LOS: [-0.9392159  -0.34332711]; azimuth: [2.36392818]; elevation: [-2.45398279]\n",
      "Action: [-0.09540251  0.10611976  0.09167836 -0.00767214]\n",
      "(t=63): velocity: [ 0.90987274 -0.41488744]; LOS: [-0.95216943 -0.30557058]; azimuth: [2.40323595]; elevation: [-2.49047124]\n",
      "Action: [-0.09936559 -0.00282578 -0.08623396  0.03981679]\n",
      "(t=64): velocity: [ 0.90952867 -0.4156412 ]; LOS: [-0.96304236 -0.26935   ]; azimuth: [2.44022696]; elevation: [-2.47510889]\n",
      "Action: [-0.02717057  0.00216806 -0.06041779  0.00829589]\n",
      "(t=65): velocity: [ 0.90926921 -0.41620849]; LOS: [-0.97196718 -0.23511656]; azimuth: [2.47498269]; elevation: [-2.48643047]\n",
      "Action: [-0.1463198   0.14085432 -0.03040615  0.02015283]\n",
      "(t=66): velocity: [ 0.9090926 -0.4165941]; LOS: [-0.97913631 -0.20320454]; azimuth: [2.5072674]; elevation: [-2.52404491]\n",
      "Action: [-0.08939684  0.02968592 -0.04747625  0.03940571]\n",
      "(t=67): velocity: [ 0.90905372 -0.41667893]; LOS: [-0.98493838 -0.17290569]; azimuth: [2.53802469]; elevation: [-2.50355704]\n",
      "Action: [ 0.03952833 -0.01517842  0.07197618  0.01745778]\n",
      "(t=68): velocity: [ 0.90930648 -0.41612704]; LOS: [-0.98957136 -0.14404351]; azimuth: [2.56786441]; elevation: [-2.48744024]\n",
      "Action: [-0.05531274  0.12726297  0.0023027   0.02535181]\n",
      "(t=69): velocity: [ 0.90917297 -0.41641867]; LOS: [-0.99308079 -0.11743311]; azimuth: [2.5943853]; elevation: [-2.53959868]\n",
      "Action: [-0.05733051  0.05681289  0.11393303  0.01160853]\n",
      "(t=70): velocity: [ 0.9081399  -0.41866684]; LOS: [-0.99508274 -0.09904719]; azimuth: [2.61040598]; elevation: [-2.53843386]\n"
     ]
    }
   ],
   "source": [
    "env_id = \"SingleWaypointQuadXEnv-v0\"\n",
    "env = gym.make(env_id, render_mode=None)\n",
    "\n",
    "term, trunc = False, False\n",
    "obs, info = env.reset()\n",
    "target_vector = env.unwrapped.waypoints.targets[0]\n",
    "print(f'Target vector: {target_vector}')\n",
    "\n",
    "linear_positions = []\n",
    "linear_velocities = []  # in unit-length\n",
    "t = 0\n",
    "sign = 1\n",
    "\n",
    "while not (term or trunc):\n",
    "    action = env.action_space.sample()\n",
    "    print(f'Action: {action}')\n",
    "    obs, reward, term, trunc, info = env.step(action)\n",
    "    linear_positions.append(info[\"linear_position\"])\n",
    "    # linear_velocities.append(info[\"linear_velocity\"]/np.linalg.norm(info[\"linear_velocity\"]))\n",
    "    lin_vel = info[\"linear_velocity\"]\n",
    "    # lin_vel[2] = 0.0\n",
    "    linear_velocities.append(lin_vel)\n",
    "    lin_vel_xy_proj = info[\"linear_velocity\"][:2]/np.linalg.norm(info[\"linear_velocity\"][:2])\n",
    "    LOS_vector = target_vector - info[\"linear_position\"]\n",
    "    LOS_xy_proj = LOS_vector[:2]/np.linalg.norm(LOS_vector[:2])\n",
    "    print(f'(t={t}): velocity: {lin_vel_xy_proj}; LOS: {LOS_xy_proj}; azimuth: {obs[\"azimuth_angle\"]}; elevation: {obs[\"elevation_angle\"]}')\n",
    "    # print(f'(t={t}): Current angular position: {info[\"angular_position\"]}')\n",
    "    # print(f'(t={t}): Current angular velocity: {obs[\"ang_vel\"]}')\n",
    "    # if np.abs(info[\"angular_position\"][0]) >= 1.0*np.pi:\n",
    "    #     print(\"---- Angular position exceeded threshold ----\")\n",
    "    #     sign *= -1\n",
    "    t += 1"
   ],
   "metadata": {
    "collapsed": false,
    "ExecuteTime": {
     "end_time": "2024-11-15T23:29:21.179679Z",
     "start_time": "2024-11-15T23:29:20.883531Z"
    }
   },
   "id": "d135b11206152777",
   "execution_count": 10
  },
  {
   "cell_type": "code",
   "outputs": [
    {
     "ename": "NameError",
     "evalue": "name 'pd' is not defined",
     "output_type": "error",
     "traceback": [
      "\u001B[0;31m---------------------------------------------------------------------------\u001B[0m",
      "\u001B[0;31mNameError\u001B[0m                                 Traceback (most recent call last)",
      "Cell \u001B[0;32mIn[11], line 2\u001B[0m\n\u001B[1;32m      1\u001B[0m data \u001B[38;5;241m=\u001B[39m [{\u001B[38;5;124m'\u001B[39m\u001B[38;5;124mX\u001B[39m\u001B[38;5;124m'\u001B[39m: pos[\u001B[38;5;241m0\u001B[39m], \u001B[38;5;124m'\u001B[39m\u001B[38;5;124mY\u001B[39m\u001B[38;5;124m'\u001B[39m: pos[\u001B[38;5;241m1\u001B[39m], \u001B[38;5;124m'\u001B[39m\u001B[38;5;124mZ\u001B[39m\u001B[38;5;124m'\u001B[39m: pos[\u001B[38;5;241m2\u001B[39m]} \u001B[38;5;28;01mfor\u001B[39;00m pos \u001B[38;5;129;01min\u001B[39;00m linear_positions]\n\u001B[0;32m----> 2\u001B[0m df \u001B[38;5;241m=\u001B[39m \u001B[43mpd\u001B[49m\u001B[38;5;241m.\u001B[39mDataFrame(data)\n\u001B[1;32m      4\u001B[0m \u001B[38;5;66;03m# Append the target vector to ensure it's considered in the range calculation\u001B[39;00m\n\u001B[1;32m      5\u001B[0m target_df \u001B[38;5;241m=\u001B[39m pd\u001B[38;5;241m.\u001B[39mDataFrame([{\u001B[38;5;124m'\u001B[39m\u001B[38;5;124mX\u001B[39m\u001B[38;5;124m'\u001B[39m: target_vector[\u001B[38;5;241m0\u001B[39m], \u001B[38;5;124m'\u001B[39m\u001B[38;5;124mY\u001B[39m\u001B[38;5;124m'\u001B[39m: target_vector[\u001B[38;5;241m1\u001B[39m], \u001B[38;5;124m'\u001B[39m\u001B[38;5;124mZ\u001B[39m\u001B[38;5;124m'\u001B[39m: target_vector[\u001B[38;5;241m2\u001B[39m]}])\n",
      "\u001B[0;31mNameError\u001B[0m: name 'pd' is not defined"
     ]
    }
   ],
   "source": [
    "data = [{'X': pos[0], 'Y': pos[1], 'Z': pos[2]} for pos in linear_positions]\n",
    "df = pd.DataFrame(data)\n",
    "\n",
    "# Append the target vector to ensure it's considered in the range calculation\n",
    "target_df = pd.DataFrame([{'X': target_vector[0], 'Y': target_vector[1], 'Z': target_vector[2]}])\n",
    "df_with_target = pd.concat([df, target_df], ignore_index=True)\n",
    "\n",
    "# Calculating the range for each axis for consistent scale\n",
    "x_range = df_with_target['X'].max() - df_with_target['X'].min()\n",
    "y_range = df_with_target['Y'].max() - df_with_target['Y'].min()\n",
    "z_range = df_with_target['Z'].max() - df_with_target['Z'].min()\n",
    "max_range = max(x_range, y_range, z_range) / 2\n",
    "\n",
    "x_mid = (df_with_target['X'].max() + df_with_target['X'].min()) / 2\n",
    "y_mid = (df_with_target['Y'].max() + df_with_target['Y'].min()) / 2\n",
    "z_mid = (df_with_target['Z'].max() + df_with_target['Z'].min()) / 2\n",
    "\n",
    "# Create a color list with the first element white, rest red\n",
    "colors = ['white'] + ['red'] * (len(df) - 1)\n",
    "\n",
    "# Generate hover text for each point showing the index and coordinates\n",
    "hover_text = ['Timestep: {}<br>X: {:.2f}<br>Y: {:.2f}<br>Z: {:.2f}'.format(i, df.iloc[i]['X'], df.iloc[i]['Y'], df.iloc[i]['Z'])\n",
    "              for i in range(len(df))]\n",
    "\n",
    "# Create the figure object with individual points\n",
    "fig = go.Figure(data=[go.Scatter3d(\n",
    "    x=df['X'],\n",
    "    y=df['Y'],\n",
    "    z=df['Z'],\n",
    "    mode='markers',\n",
    "    marker=dict(\n",
    "        size=1,\n",
    "        color=colors,  # Applying the color array to the points\n",
    "        opacity=1\n",
    "    ),\n",
    "    text=hover_text,  # Assign hover text to each point\n",
    "    hoverinfo='text'\n",
    ")])\n",
    "\n",
    "# Adding the target vector as a waypoint\n",
    "fig.add_trace(go.Scatter3d(\n",
    "    x=[target_vector[0]],\n",
    "    y=[target_vector[1]],\n",
    "    z=[target_vector[2]],\n",
    "    mode='markers',\n",
    "    marker=dict(\n",
    "        size=10,  # Bigger size for visibility\n",
    "        color='blue'\n",
    "    ),\n",
    "    name='Target'  # Label for hover\n",
    "))\n",
    "\n",
    "# Setting equal aspect ratio manually and adjusting ranges\n",
    "fig.update_layout(scene=dict(\n",
    "    xaxis=dict(range=[x_mid - max_range, x_mid + max_range]),\n",
    "    yaxis=dict(range=[y_mid - max_range, y_mid + max_range]),\n",
    "    zaxis=dict(range=[z_mid - max_range, z_mid + max_range]),\n",
    "    aspectmode='manual'\n",
    "))\n",
    "\n",
    "fig.update_layout(title='Trajectory of Single Episode')\n",
    "\n",
    "fig.show()"
   ],
   "metadata": {
    "collapsed": false,
    "ExecuteTime": {
     "end_time": "2024-11-15T23:29:21.988770Z",
     "start_time": "2024-11-15T23:29:21.197707Z"
    }
   },
   "id": "f50c5fe087b89e62",
   "execution_count": 11
  }
 ],
 "metadata": {
  "kernelspec": {
   "display_name": "Python 3",
   "language": "python",
   "name": "python3"
  },
  "language_info": {
   "codemirror_mode": {
    "name": "ipython",
    "version": 2
   },
   "file_extension": ".py",
   "mimetype": "text/x-python",
   "name": "python",
   "nbconvert_exporter": "python",
   "pygments_lexer": "ipython2",
   "version": "2.7.6"
  }
 },
 "nbformat": 4,
 "nbformat_minor": 5
}
