{
 "cells": [
  {
   "cell_type": "code",
   "outputs": [
    {
     "name": "stderr",
     "output_type": "stream",
     "text": [
      "pybullet build time: Oct  3 2024 08:55:45\n"
     ]
    }
   ],
   "source": [
    "import numpy as np\n",
    "import matplotlib.pyplot as plt\n",
    "from Envs import register\n",
    "import gymnasium as gym\n",
    "from stable_baselines3 import PPO\n",
    "from vis_model import aggregate_eval, plot_eval, plot_multiple_eval, plotly_vector_field, visualize_plotly_model\n",
    "import plotly.express as px"
   ],
   "metadata": {
    "collapsed": false,
    "ExecuteTime": {
     "end_time": "2024-11-18T16:06:12.094046Z",
     "start_time": "2024-11-18T16:06:04.016727Z"
    }
   },
   "id": "d3166218e0a488c1",
   "execution_count": 1
  },
  {
   "cell_type": "code",
   "outputs": [
    {
     "name": "stdout",
     "output_type": "stream",
     "text": [
      "\u001B[A                             \u001B[A\n",
      "\u001B[A                             \u001B[A\n"
     ]
    },
    {
     "name": "stderr",
     "output_type": "stream",
     "text": [
      "/Users/felixunterleiter/Documents/GitHub/pyflyt_experience/venv/lib/python3.10/site-packages/stable_baselines3/common/save_util.py:167: UserWarning:\n",
      "\n",
      "Could not deserialize object clip_range. Consider using `custom_objects` argument to replace this object.\n",
      "Exception: code expected at most 16 arguments, got 18\n",
      "\n",
      "/Users/felixunterleiter/Documents/GitHub/pyflyt_experience/venv/lib/python3.10/site-packages/stable_baselines3/common/save_util.py:167: UserWarning:\n",
      "\n",
      "Could not deserialize object lr_schedule. Consider using `custom_objects` argument to replace this object.\n",
      "Exception: code expected at most 16 arguments, got 18\n",
      "\n"
     ]
    }
   ],
   "source": [
    "model_path = \"../checkpoints/StaticWaypointEnv/SingleWaypointNavigation/AfterTune/best_model\"\n",
    "env_id = \"SingleWaypointQuadXEnv-v0\"\n",
    "\n",
    "render = False\n",
    "num_eval_eps = 10\n",
    "env = gym.make(env_id, render_mode=\"human\" if render else None)\n",
    "_ = env.reset()\n",
    "model = PPO.load(model_path, deterministic=True)"
   ],
   "metadata": {
    "collapsed": false,
    "ExecuteTime": {
     "end_time": "2024-11-18T16:09:49.440494Z",
     "start_time": "2024-11-18T16:09:49.028152Z"
    }
   },
   "id": "1462640f054cb010",
   "execution_count": 13
  },
  {
   "cell_type": "code",
   "outputs": [
    {
     "name": "stderr",
     "output_type": "stream",
     "text": [
      "/Users/felixunterleiter/Documents/GitHub/pyflyt_experience/Evaluation/evaluation.py:67: UserWarning:\n",
      "\n",
      "Evaluation environment is not wrapped with a ``Monitor`` wrapper. This may result in reporting modified episode lengths and rewards, if other wrappers happen to modify these. Consider wrapping environment first with ``Monitor`` wrapper.\n",
      "\n"
     ]
    },
    {
     "name": "stdout",
     "output_type": "stream",
     "text": [
      "\u001B[A                             \u001B[A\n",
      "\u001B[A                             \u001B[A\n",
      "\u001B[A                             \u001B[A\n",
      "\u001B[A                             \u001B[A\n",
      "\u001B[A                             \u001B[A\n",
      "\u001B[A                             \u001B[A\n",
      "\u001B[A                             \u001B[A\n",
      "\u001B[A                             \u001B[A\n",
      "\u001B[A                             \u001B[A\n",
      "\u001B[A                             \u001B[A\n",
      "\u001B[A                             \u001B[A\n",
      "\u001B[A                             \u001B[A\n",
      "\u001B[A                             \u001B[A\n",
      "\u001B[A                             \u001B[A\n",
      "\u001B[A                             \u001B[A\n",
      "\u001B[A                             \u001B[A\n",
      "\u001B[A                             \u001B[A\n",
      "\u001B[A                             \u001B[A\n",
      "\u001B[A                             \u001B[A\n",
      "\u001B[A                             \u001B[A\n",
      "\u001B[A                             \u001B[A\n",
      "\u001B[A                             \u001B[A\n"
     ]
    }
   ],
   "source": [
    "result = aggregate_eval(model, env, num_eval_eps, render=False, include_waypoints=True)"
   ],
   "metadata": {
    "collapsed": false,
    "ExecuteTime": {
     "end_time": "2024-11-18T16:09:51.103146Z",
     "start_time": "2024-11-18T16:09:49.447579Z"
    }
   },
   "id": "aa10466bbcb5f83d",
   "execution_count": 14
  },
  {
   "cell_type": "markdown",
   "source": [
    "# Visualizing Trajectory and Waypoints"
   ],
   "metadata": {
    "collapsed": false
   },
   "id": "179ba6491035c132"
  },
  {
   "cell_type": "code",
   "outputs": [
    {
     "data": {
      "application/vnd.plotly.v1+json": {
       "data": [
        {
         "customdata": [
          [
           0,
           "Step: 0"
          ],
          [
           1,
           "Step: 1"
          ],
          [
           2,
           "Step: 2"
          ],
          [
           3,
           "Step: 3"
          ],
          [
           4,
           "Step: 4"
          ],
          [
           5,
           "Step: 5"
          ],
          [
           6,
           "Step: 6"
          ],
          [
           7,
           "Step: 7"
          ],
          [
           8,
           "Step: 8"
          ],
          [
           9,
           "Step: 9"
          ],
          [
           10,
           "Step: 10"
          ],
          [
           11,
           "Step: 11"
          ],
          [
           12,
           "Step: 12"
          ],
          [
           13,
           "Step: 13"
          ],
          [
           14,
           "Step: 14"
          ],
          [
           15,
           "Step: 15"
          ],
          [
           16,
           "Step: 16"
          ],
          [
           17,
           "Step: 17"
          ],
          [
           18,
           "Step: 18"
          ],
          [
           19,
           "Step: 19"
          ],
          [
           20,
           "Step: 20"
          ],
          [
           21,
           "Step: 21"
          ],
          [
           22,
           "Step: 22"
          ],
          [
           23,
           "Step: 23"
          ],
          [
           24,
           "Step: 24"
          ],
          [
           25,
           "Step: 25"
          ],
          [
           26,
           "Step: 26"
          ],
          [
           27,
           "Step: 27"
          ],
          [
           28,
           "Step: 28"
          ],
          [
           29,
           "Step: 29"
          ],
          [
           30,
           "Step: 30"
          ],
          [
           31,
           "Step: 31"
          ],
          [
           32,
           "Step: 32"
          ],
          [
           33,
           "Step: 33"
          ],
          [
           34,
           "Step: 34"
          ],
          [
           35,
           "Step: 35"
          ],
          [
           36,
           "Step: 36"
          ],
          [
           37,
           "Step: 37"
          ],
          [
           38,
           "Step: 38"
          ],
          [
           39,
           "Step: 39"
          ],
          [
           40,
           "Step: 40"
          ],
          [
           41,
           "Step: 41"
          ],
          [
           0,
           "Step: 0"
          ],
          [
           1,
           "Step: 1"
          ],
          [
           2,
           "Step: 2"
          ],
          [
           3,
           "Step: 3"
          ],
          [
           4,
           "Step: 4"
          ],
          [
           5,
           "Step: 5"
          ],
          [
           6,
           "Step: 6"
          ],
          [
           7,
           "Step: 7"
          ],
          [
           8,
           "Step: 8"
          ],
          [
           9,
           "Step: 9"
          ],
          [
           10,
           "Step: 10"
          ],
          [
           11,
           "Step: 11"
          ],
          [
           12,
           "Step: 12"
          ],
          [
           13,
           "Step: 13"
          ],
          [
           14,
           "Step: 14"
          ],
          [
           15,
           "Step: 15"
          ],
          [
           16,
           "Step: 16"
          ],
          [
           17,
           "Step: 17"
          ],
          [
           18,
           "Step: 18"
          ],
          [
           19,
           "Step: 19"
          ],
          [
           20,
           "Step: 20"
          ],
          [
           21,
           "Step: 21"
          ],
          [
           22,
           "Step: 22"
          ],
          [
           23,
           "Step: 23"
          ],
          [
           24,
           "Step: 24"
          ],
          [
           25,
           "Step: 25"
          ],
          [
           26,
           "Step: 26"
          ],
          [
           27,
           "Step: 27"
          ],
          [
           28,
           "Step: 28"
          ],
          [
           29,
           "Step: 29"
          ],
          [
           30,
           "Step: 30"
          ],
          [
           31,
           "Step: 31"
          ],
          [
           32,
           "Step: 32"
          ],
          [
           33,
           "Step: 33"
          ],
          [
           34,
           "Step: 34"
          ],
          [
           35,
           "Step: 35"
          ],
          [
           36,
           "Step: 36"
          ],
          [
           37,
           "Step: 37"
          ],
          [
           38,
           "Step: 38"
          ],
          [
           39,
           "Step: 39"
          ],
          [
           40,
           "Step: 40"
          ],
          [
           41,
           "Step: 41"
          ],
          [
           42,
           "Step: 42"
          ],
          [
           43,
           "Step: 43"
          ],
          [
           44,
           "Step: 44"
          ],
          [
           45,
           "Step: 45"
          ],
          [
           46,
           "Step: 46"
          ],
          [
           47,
           "Step: 47"
          ],
          [
           48,
           "Step: 48"
          ],
          [
           49,
           "Step: 49"
          ],
          [
           0,
           "Step: 0"
          ],
          [
           1,
           "Step: 1"
          ],
          [
           2,
           "Step: 2"
          ],
          [
           3,
           "Step: 3"
          ],
          [
           4,
           "Step: 4"
          ],
          [
           5,
           "Step: 5"
          ],
          [
           6,
           "Step: 6"
          ],
          [
           7,
           "Step: 7"
          ],
          [
           8,
           "Step: 8"
          ],
          [
           9,
           "Step: 9"
          ],
          [
           10,
           "Step: 10"
          ],
          [
           11,
           "Step: 11"
          ],
          [
           12,
           "Step: 12"
          ],
          [
           13,
           "Step: 13"
          ],
          [
           14,
           "Step: 14"
          ],
          [
           15,
           "Step: 15"
          ],
          [
           16,
           "Step: 16"
          ],
          [
           17,
           "Step: 17"
          ],
          [
           18,
           "Step: 18"
          ],
          [
           19,
           "Step: 19"
          ],
          [
           20,
           "Step: 20"
          ],
          [
           21,
           "Step: 21"
          ],
          [
           22,
           "Step: 22"
          ],
          [
           23,
           "Step: 23"
          ],
          [
           24,
           "Step: 24"
          ],
          [
           25,
           "Step: 25"
          ],
          [
           26,
           "Step: 26"
          ],
          [
           27,
           "Step: 27"
          ],
          [
           28,
           "Step: 28"
          ],
          [
           29,
           "Step: 29"
          ],
          [
           30,
           "Step: 30"
          ],
          [
           31,
           "Step: 31"
          ],
          [
           32,
           "Step: 32"
          ],
          [
           33,
           "Step: 33"
          ],
          [
           34,
           "Step: 34"
          ],
          [
           35,
           "Step: 35"
          ],
          [
           36,
           "Step: 36"
          ],
          [
           37,
           "Step: 37"
          ],
          [
           38,
           "Step: 38"
          ],
          [
           39,
           "Step: 39"
          ],
          [
           40,
           "Step: 40"
          ],
          [
           41,
           "Step: 41"
          ],
          [
           42,
           "Step: 42"
          ],
          [
           43,
           "Step: 43"
          ],
          [
           0,
           "Step: 0"
          ],
          [
           1,
           "Step: 1"
          ],
          [
           2,
           "Step: 2"
          ],
          [
           3,
           "Step: 3"
          ],
          [
           4,
           "Step: 4"
          ],
          [
           5,
           "Step: 5"
          ],
          [
           6,
           "Step: 6"
          ],
          [
           7,
           "Step: 7"
          ],
          [
           8,
           "Step: 8"
          ],
          [
           9,
           "Step: 9"
          ],
          [
           10,
           "Step: 10"
          ],
          [
           11,
           "Step: 11"
          ],
          [
           12,
           "Step: 12"
          ],
          [
           13,
           "Step: 13"
          ],
          [
           14,
           "Step: 14"
          ],
          [
           15,
           "Step: 15"
          ],
          [
           16,
           "Step: 16"
          ],
          [
           17,
           "Step: 17"
          ],
          [
           18,
           "Step: 18"
          ],
          [
           19,
           "Step: 19"
          ],
          [
           20,
           "Step: 20"
          ],
          [
           21,
           "Step: 21"
          ],
          [
           22,
           "Step: 22"
          ],
          [
           23,
           "Step: 23"
          ],
          [
           24,
           "Step: 24"
          ],
          [
           25,
           "Step: 25"
          ],
          [
           26,
           "Step: 26"
          ],
          [
           27,
           "Step: 27"
          ],
          [
           28,
           "Step: 28"
          ],
          [
           29,
           "Step: 29"
          ],
          [
           30,
           "Step: 30"
          ],
          [
           31,
           "Step: 31"
          ],
          [
           32,
           "Step: 32"
          ],
          [
           33,
           "Step: 33"
          ],
          [
           34,
           "Step: 34"
          ],
          [
           35,
           "Step: 35"
          ],
          [
           36,
           "Step: 36"
          ],
          [
           37,
           "Step: 37"
          ],
          [
           38,
           "Step: 38"
          ],
          [
           39,
           "Step: 39"
          ],
          [
           40,
           "Step: 40"
          ],
          [
           41,
           "Step: 41"
          ],
          [
           42,
           "Step: 42"
          ],
          [
           43,
           "Step: 43"
          ],
          [
           44,
           "Step: 44"
          ],
          [
           45,
           "Step: 45"
          ],
          [
           46,
           "Step: 46"
          ],
          [
           47,
           "Step: 47"
          ],
          [
           48,
           "Step: 48"
          ],
          [
           49,
           "Step: 49"
          ],
          [
           50,
           "Step: 50"
          ],
          [
           51,
           "Step: 51"
          ],
          [
           0,
           "Step: 0"
          ],
          [
           1,
           "Step: 1"
          ],
          [
           2,
           "Step: 2"
          ],
          [
           3,
           "Step: 3"
          ],
          [
           4,
           "Step: 4"
          ],
          [
           5,
           "Step: 5"
          ],
          [
           6,
           "Step: 6"
          ],
          [
           7,
           "Step: 7"
          ],
          [
           8,
           "Step: 8"
          ],
          [
           9,
           "Step: 9"
          ],
          [
           10,
           "Step: 10"
          ],
          [
           11,
           "Step: 11"
          ],
          [
           12,
           "Step: 12"
          ],
          [
           13,
           "Step: 13"
          ],
          [
           14,
           "Step: 14"
          ],
          [
           15,
           "Step: 15"
          ],
          [
           16,
           "Step: 16"
          ],
          [
           17,
           "Step: 17"
          ],
          [
           18,
           "Step: 18"
          ],
          [
           19,
           "Step: 19"
          ],
          [
           20,
           "Step: 20"
          ],
          [
           21,
           "Step: 21"
          ],
          [
           22,
           "Step: 22"
          ],
          [
           23,
           "Step: 23"
          ],
          [
           24,
           "Step: 24"
          ],
          [
           25,
           "Step: 25"
          ],
          [
           26,
           "Step: 26"
          ],
          [
           27,
           "Step: 27"
          ],
          [
           28,
           "Step: 28"
          ],
          [
           29,
           "Step: 29"
          ],
          [
           30,
           "Step: 30"
          ],
          [
           31,
           "Step: 31"
          ],
          [
           32,
           "Step: 32"
          ],
          [
           33,
           "Step: 33"
          ],
          [
           34,
           "Step: 34"
          ],
          [
           35,
           "Step: 35"
          ],
          [
           36,
           "Step: 36"
          ],
          [
           37,
           "Step: 37"
          ],
          [
           38,
           "Step: 38"
          ],
          [
           39,
           "Step: 39"
          ],
          [
           40,
           "Step: 40"
          ],
          [
           41,
           "Step: 41"
          ],
          [
           42,
           "Step: 42"
          ],
          [
           0,
           "Step: 0"
          ],
          [
           1,
           "Step: 1"
          ],
          [
           2,
           "Step: 2"
          ],
          [
           3,
           "Step: 3"
          ],
          [
           4,
           "Step: 4"
          ],
          [
           5,
           "Step: 5"
          ],
          [
           6,
           "Step: 6"
          ],
          [
           7,
           "Step: 7"
          ],
          [
           8,
           "Step: 8"
          ],
          [
           9,
           "Step: 9"
          ],
          [
           10,
           "Step: 10"
          ],
          [
           11,
           "Step: 11"
          ],
          [
           12,
           "Step: 12"
          ],
          [
           13,
           "Step: 13"
          ],
          [
           14,
           "Step: 14"
          ],
          [
           15,
           "Step: 15"
          ],
          [
           16,
           "Step: 16"
          ],
          [
           17,
           "Step: 17"
          ],
          [
           18,
           "Step: 18"
          ],
          [
           19,
           "Step: 19"
          ],
          [
           20,
           "Step: 20"
          ],
          [
           21,
           "Step: 21"
          ],
          [
           22,
           "Step: 22"
          ],
          [
           23,
           "Step: 23"
          ],
          [
           24,
           "Step: 24"
          ],
          [
           25,
           "Step: 25"
          ],
          [
           26,
           "Step: 26"
          ],
          [
           27,
           "Step: 27"
          ],
          [
           28,
           "Step: 28"
          ],
          [
           29,
           "Step: 29"
          ],
          [
           30,
           "Step: 30"
          ],
          [
           31,
           "Step: 31"
          ],
          [
           32,
           "Step: 32"
          ],
          [
           33,
           "Step: 33"
          ],
          [
           34,
           "Step: 34"
          ],
          [
           35,
           "Step: 35"
          ],
          [
           36,
           "Step: 36"
          ],
          [
           37,
           "Step: 37"
          ],
          [
           38,
           "Step: 38"
          ],
          [
           0,
           "Step: 0"
          ],
          [
           1,
           "Step: 1"
          ],
          [
           2,
           "Step: 2"
          ],
          [
           3,
           "Step: 3"
          ],
          [
           4,
           "Step: 4"
          ],
          [
           5,
           "Step: 5"
          ],
          [
           6,
           "Step: 6"
          ],
          [
           7,
           "Step: 7"
          ],
          [
           8,
           "Step: 8"
          ],
          [
           9,
           "Step: 9"
          ],
          [
           10,
           "Step: 10"
          ],
          [
           11,
           "Step: 11"
          ],
          [
           12,
           "Step: 12"
          ],
          [
           13,
           "Step: 13"
          ],
          [
           14,
           "Step: 14"
          ],
          [
           15,
           "Step: 15"
          ],
          [
           16,
           "Step: 16"
          ],
          [
           17,
           "Step: 17"
          ],
          [
           18,
           "Step: 18"
          ],
          [
           19,
           "Step: 19"
          ],
          [
           20,
           "Step: 20"
          ],
          [
           21,
           "Step: 21"
          ],
          [
           22,
           "Step: 22"
          ],
          [
           23,
           "Step: 23"
          ],
          [
           24,
           "Step: 24"
          ],
          [
           25,
           "Step: 25"
          ],
          [
           26,
           "Step: 26"
          ],
          [
           27,
           "Step: 27"
          ],
          [
           28,
           "Step: 28"
          ],
          [
           29,
           "Step: 29"
          ],
          [
           30,
           "Step: 30"
          ],
          [
           31,
           "Step: 31"
          ],
          [
           32,
           "Step: 32"
          ],
          [
           33,
           "Step: 33"
          ],
          [
           34,
           "Step: 34"
          ],
          [
           35,
           "Step: 35"
          ],
          [
           36,
           "Step: 36"
          ],
          [
           37,
           "Step: 37"
          ],
          [
           38,
           "Step: 38"
          ],
          [
           39,
           "Step: 39"
          ],
          [
           40,
           "Step: 40"
          ],
          [
           41,
           "Step: 41"
          ],
          [
           42,
           "Step: 42"
          ],
          [
           43,
           "Step: 43"
          ],
          [
           44,
           "Step: 44"
          ],
          [
           0,
           "Step: 0"
          ],
          [
           1,
           "Step: 1"
          ],
          [
           2,
           "Step: 2"
          ],
          [
           3,
           "Step: 3"
          ],
          [
           4,
           "Step: 4"
          ],
          [
           5,
           "Step: 5"
          ],
          [
           6,
           "Step: 6"
          ],
          [
           7,
           "Step: 7"
          ],
          [
           8,
           "Step: 8"
          ],
          [
           9,
           "Step: 9"
          ],
          [
           10,
           "Step: 10"
          ],
          [
           11,
           "Step: 11"
          ],
          [
           12,
           "Step: 12"
          ],
          [
           13,
           "Step: 13"
          ],
          [
           14,
           "Step: 14"
          ],
          [
           15,
           "Step: 15"
          ],
          [
           16,
           "Step: 16"
          ],
          [
           17,
           "Step: 17"
          ],
          [
           18,
           "Step: 18"
          ],
          [
           19,
           "Step: 19"
          ],
          [
           20,
           "Step: 20"
          ],
          [
           21,
           "Step: 21"
          ],
          [
           22,
           "Step: 22"
          ],
          [
           23,
           "Step: 23"
          ],
          [
           24,
           "Step: 24"
          ],
          [
           25,
           "Step: 25"
          ],
          [
           26,
           "Step: 26"
          ],
          [
           27,
           "Step: 27"
          ],
          [
           28,
           "Step: 28"
          ],
          [
           29,
           "Step: 29"
          ],
          [
           30,
           "Step: 30"
          ],
          [
           31,
           "Step: 31"
          ],
          [
           32,
           "Step: 32"
          ],
          [
           33,
           "Step: 33"
          ],
          [
           34,
           "Step: 34"
          ],
          [
           35,
           "Step: 35"
          ],
          [
           36,
           "Step: 36"
          ],
          [
           37,
           "Step: 37"
          ],
          [
           38,
           "Step: 38"
          ],
          [
           39,
           "Step: 39"
          ],
          [
           40,
           "Step: 40"
          ],
          [
           41,
           "Step: 41"
          ],
          [
           42,
           "Step: 42"
          ],
          [
           43,
           "Step: 43"
          ],
          [
           44,
           "Step: 44"
          ],
          [
           45,
           "Step: 45"
          ],
          [
           46,
           "Step: 46"
          ],
          [
           47,
           "Step: 47"
          ],
          [
           48,
           "Step: 48"
          ],
          [
           49,
           "Step: 49"
          ],
          [
           50,
           "Step: 50"
          ],
          [
           51,
           "Step: 51"
          ],
          [
           52,
           "Step: 52"
          ],
          [
           53,
           "Step: 53"
          ],
          [
           54,
           "Step: 54"
          ],
          [
           55,
           "Step: 55"
          ],
          [
           56,
           "Step: 56"
          ],
          [
           57,
           "Step: 57"
          ],
          [
           58,
           "Step: 58"
          ],
          [
           59,
           "Step: 59"
          ],
          [
           60,
           "Step: 60"
          ],
          [
           61,
           "Step: 61"
          ],
          [
           62,
           "Step: 62"
          ],
          [
           63,
           "Step: 63"
          ],
          [
           64,
           "Step: 64"
          ],
          [
           65,
           "Step: 65"
          ],
          [
           66,
           "Step: 66"
          ],
          [
           67,
           "Step: 67"
          ],
          [
           68,
           "Step: 68"
          ],
          [
           69,
           "Step: 69"
          ],
          [
           0,
           "Step: 0"
          ],
          [
           1,
           "Step: 1"
          ],
          [
           2,
           "Step: 2"
          ],
          [
           3,
           "Step: 3"
          ],
          [
           4,
           "Step: 4"
          ],
          [
           5,
           "Step: 5"
          ],
          [
           6,
           "Step: 6"
          ],
          [
           7,
           "Step: 7"
          ],
          [
           8,
           "Step: 8"
          ],
          [
           9,
           "Step: 9"
          ],
          [
           10,
           "Step: 10"
          ],
          [
           11,
           "Step: 11"
          ],
          [
           12,
           "Step: 12"
          ],
          [
           13,
           "Step: 13"
          ],
          [
           14,
           "Step: 14"
          ],
          [
           15,
           "Step: 15"
          ],
          [
           16,
           "Step: 16"
          ],
          [
           17,
           "Step: 17"
          ],
          [
           18,
           "Step: 18"
          ],
          [
           19,
           "Step: 19"
          ],
          [
           20,
           "Step: 20"
          ],
          [
           21,
           "Step: 21"
          ],
          [
           22,
           "Step: 22"
          ],
          [
           23,
           "Step: 23"
          ],
          [
           24,
           "Step: 24"
          ],
          [
           25,
           "Step: 25"
          ],
          [
           26,
           "Step: 26"
          ],
          [
           27,
           "Step: 27"
          ],
          [
           28,
           "Step: 28"
          ],
          [
           29,
           "Step: 29"
          ],
          [
           30,
           "Step: 30"
          ],
          [
           31,
           "Step: 31"
          ],
          [
           32,
           "Step: 32"
          ],
          [
           33,
           "Step: 33"
          ],
          [
           34,
           "Step: 34"
          ],
          [
           35,
           "Step: 35"
          ],
          [
           36,
           "Step: 36"
          ],
          [
           37,
           "Step: 37"
          ],
          [
           38,
           "Step: 38"
          ],
          [
           39,
           "Step: 39"
          ],
          [
           40,
           "Step: 40"
          ],
          [
           41,
           "Step: 41"
          ],
          [
           42,
           "Step: 42"
          ],
          [
           43,
           "Step: 43"
          ],
          [
           44,
           "Step: 44"
          ],
          [
           45,
           "Step: 45"
          ],
          [
           46,
           "Step: 46"
          ],
          [
           47,
           "Step: 47"
          ],
          [
           0,
           "Step: 0"
          ],
          [
           1,
           "Step: 1"
          ],
          [
           2,
           "Step: 2"
          ],
          [
           3,
           "Step: 3"
          ],
          [
           4,
           "Step: 4"
          ],
          [
           5,
           "Step: 5"
          ],
          [
           6,
           "Step: 6"
          ],
          [
           7,
           "Step: 7"
          ],
          [
           8,
           "Step: 8"
          ],
          [
           9,
           "Step: 9"
          ],
          [
           10,
           "Step: 10"
          ],
          [
           11,
           "Step: 11"
          ],
          [
           12,
           "Step: 12"
          ],
          [
           13,
           "Step: 13"
          ],
          [
           14,
           "Step: 14"
          ],
          [
           15,
           "Step: 15"
          ],
          [
           16,
           "Step: 16"
          ],
          [
           17,
           "Step: 17"
          ],
          [
           18,
           "Step: 18"
          ],
          [
           19,
           "Step: 19"
          ],
          [
           20,
           "Step: 20"
          ],
          [
           21,
           "Step: 21"
          ],
          [
           22,
           "Step: 22"
          ],
          [
           23,
           "Step: 23"
          ],
          [
           24,
           "Step: 24"
          ],
          [
           25,
           "Step: 25"
          ],
          [
           26,
           "Step: 26"
          ],
          [
           27,
           "Step: 27"
          ],
          [
           28,
           "Step: 28"
          ],
          [
           29,
           "Step: 29"
          ],
          [
           30,
           "Step: 30"
          ],
          [
           31,
           "Step: 31"
          ],
          [
           32,
           "Step: 32"
          ],
          [
           33,
           "Step: 33"
          ],
          [
           34,
           "Step: 34"
          ],
          [
           35,
           "Step: 35"
          ],
          [
           36,
           "Step: 36"
          ],
          [
           37,
           "Step: 37"
          ],
          [
           38,
           "Step: 38"
          ],
          [
           39,
           "Step: 39"
          ],
          [
           40,
           "Step: 40"
          ],
          [
           41,
           "Step: 41"
          ],
          [
           42,
           "Step: 42"
          ],
          [
           43,
           "Step: 43"
          ],
          [
           44,
           "Step: 44"
          ],
          [
           45,
           "Step: 45"
          ],
          [
           46,
           "Step: 46"
          ],
          [
           47,
           "Step: 47"
          ]
         ],
         "hovertemplate": "Episode: %{customdata[0]}<br>Step: %{customdata[1]}<br>X: %{x}<br>Y: %{y}<br>Z: %{z}<br>%{customdata[2]}<extra></extra>",
         "legendgroup": "Position",
         "marker": {
          "color": [
           0,
           0,
           0,
           0,
           0,
           0,
           0,
           0,
           0,
           0,
           0,
           0,
           0,
           0,
           0,
           0,
           0,
           0,
           0,
           0,
           0,
           0,
           0,
           0,
           0,
           0,
           0,
           0,
           0,
           0,
           0,
           0,
           0,
           0,
           0,
           0,
           0,
           0,
           0,
           0,
           0,
           0,
           1,
           1,
           1,
           1,
           1,
           1,
           1,
           1,
           1,
           1,
           1,
           1,
           1,
           1,
           1,
           1,
           1,
           1,
           1,
           1,
           1,
           1,
           1,
           1,
           1,
           1,
           1,
           1,
           1,
           1,
           1,
           1,
           1,
           1,
           1,
           1,
           1,
           1,
           1,
           1,
           1,
           1,
           1,
           1,
           1,
           1,
           1,
           1,
           1,
           1,
           2,
           2,
           2,
           2,
           2,
           2,
           2,
           2,
           2,
           2,
           2,
           2,
           2,
           2,
           2,
           2,
           2,
           2,
           2,
           2,
           2,
           2,
           2,
           2,
           2,
           2,
           2,
           2,
           2,
           2,
           2,
           2,
           2,
           2,
           2,
           2,
           2,
           2,
           2,
           2,
           2,
           2,
           2,
           2,
           3,
           3,
           3,
           3,
           3,
           3,
           3,
           3,
           3,
           3,
           3,
           3,
           3,
           3,
           3,
           3,
           3,
           3,
           3,
           3,
           3,
           3,
           3,
           3,
           3,
           3,
           3,
           3,
           3,
           3,
           3,
           3,
           3,
           3,
           3,
           3,
           3,
           3,
           3,
           3,
           3,
           3,
           3,
           3,
           3,
           3,
           3,
           3,
           3,
           3,
           3,
           3,
           4,
           4,
           4,
           4,
           4,
           4,
           4,
           4,
           4,
           4,
           4,
           4,
           4,
           4,
           4,
           4,
           4,
           4,
           4,
           4,
           4,
           4,
           4,
           4,
           4,
           4,
           4,
           4,
           4,
           4,
           4,
           4,
           4,
           4,
           4,
           4,
           4,
           4,
           4,
           4,
           4,
           4,
           4,
           5,
           5,
           5,
           5,
           5,
           5,
           5,
           5,
           5,
           5,
           5,
           5,
           5,
           5,
           5,
           5,
           5,
           5,
           5,
           5,
           5,
           5,
           5,
           5,
           5,
           5,
           5,
           5,
           5,
           5,
           5,
           5,
           5,
           5,
           5,
           5,
           5,
           5,
           5,
           6,
           6,
           6,
           6,
           6,
           6,
           6,
           6,
           6,
           6,
           6,
           6,
           6,
           6,
           6,
           6,
           6,
           6,
           6,
           6,
           6,
           6,
           6,
           6,
           6,
           6,
           6,
           6,
           6,
           6,
           6,
           6,
           6,
           6,
           6,
           6,
           6,
           6,
           6,
           6,
           6,
           6,
           6,
           6,
           6,
           7,
           7,
           7,
           7,
           7,
           7,
           7,
           7,
           7,
           7,
           7,
           7,
           7,
           7,
           7,
           7,
           7,
           7,
           7,
           7,
           7,
           7,
           7,
           7,
           7,
           7,
           7,
           7,
           7,
           7,
           7,
           7,
           7,
           7,
           7,
           7,
           7,
           7,
           7,
           7,
           7,
           7,
           7,
           7,
           7,
           7,
           7,
           7,
           7,
           7,
           7,
           7,
           7,
           7,
           7,
           7,
           7,
           7,
           7,
           7,
           7,
           7,
           7,
           7,
           7,
           7,
           7,
           7,
           7,
           7,
           8,
           8,
           8,
           8,
           8,
           8,
           8,
           8,
           8,
           8,
           8,
           8,
           8,
           8,
           8,
           8,
           8,
           8,
           8,
           8,
           8,
           8,
           8,
           8,
           8,
           8,
           8,
           8,
           8,
           8,
           8,
           8,
           8,
           8,
           8,
           8,
           8,
           8,
           8,
           8,
           8,
           8,
           8,
           8,
           8,
           8,
           8,
           8,
           9,
           9,
           9,
           9,
           9,
           9,
           9,
           9,
           9,
           9,
           9,
           9,
           9,
           9,
           9,
           9,
           9,
           9,
           9,
           9,
           9,
           9,
           9,
           9,
           9,
           9,
           9,
           9,
           9,
           9,
           9,
           9,
           9,
           9,
           9,
           9,
           9,
           9,
           9,
           9,
           9,
           9,
           9,
           9,
           9,
           9,
           9,
           9
          ],
          "coloraxis": "coloraxis",
          "symbol": "circle",
          "size": 5
         },
         "mode": "markers",
         "name": "Position",
         "scene": "scene",
         "showlegend": true,
         "x": [
          -2.203465983364971E-4,
          -0.0026973310686410055,
          -0.007435382969885225,
          -0.01224571459208035,
          -0.017085833855001304,
          -0.02196023915503254,
          -0.026873798187932552,
          -0.03573718140478406,
          -0.050406255966656634,
          -0.06532602462284895,
          -0.08313679564669309,
          -0.10824150581822826,
          -0.13723339020208447,
          -0.16650981322483896,
          -0.20075974295719126,
          -0.24150649817552822,
          -0.2827711134984943,
          -0.3282167279502519,
          -0.3783545115449741,
          -0.4348595523592474,
          -0.49990769866637935,
          -0.5668023487319294,
          -0.6422706598473301,
          -0.7304209873343634,
          -0.8316360741720494,
          -0.9448213019138337,
          -1.0638563386095594,
          -1.193518786127751,
          -1.3407978646603496,
          -1.5024869800403076,
          -1.67630615855671,
          -1.863227475632422,
          -2.06044540393657,
          -2.2647685827484016,
          -2.483813556677858,
          -2.7172342064010935,
          -2.962472299758475,
          -3.2166705353917955,
          -3.479455916492333,
          -3.7501304308305548,
          -4.026871519422448,
          -4.307699226465487,
          -3.2246480675553744E-4,
          -0.003854158355283152,
          -0.01014563069880822,
          -0.016556659335036368,
          -0.02301186915989729,
          -0.029493282378068815,
          -0.03599761210311295,
          -0.044798160821451806,
          -0.05723779742081782,
          -0.06986331324465611,
          -0.0825357304491714,
          -0.09876848664882824,
          -0.12031580983272831,
          -0.1420262128431644,
          -0.1654247387872432,
          -0.19636173001141854,
          -0.2334479733311246,
          -0.2706983467699009,
          -0.3082719329722439,
          -0.3528865477032721,
          -0.4060247091171728,
          -0.4594723491832364,
          -0.5159520602742901,
          -0.5772176991803181,
          -0.6477163310021705,
          -0.7293345391521909,
          -0.8140416392242789,
          -0.9104845433805366,
          -1.0176369315316942,
          -1.1248645473347079,
          -1.2328874136307009,
          -1.3511122163842817,
          -1.4805951262944201,
          -1.6124756686482302,
          -1.7579880908302687,
          -1.9186315992067073,
          -2.0914394869546924,
          -2.2825162531190974,
          -2.4873896288058805,
          -2.7102026662645344,
          -2.9499228447240924,
          -3.203677228545483,
          -3.4743845482071456,
          -3.760013152843,
          -4.061088040078349,
          -4.376066110675685,
          -4.708041560995653,
          -5.055959518490725,
          -5.418863020346635,
          -5.795056553951982,
          3.7366818188783234E-4,
          0.004045993040977223,
          0.010480081112140006,
          0.017004833876065717,
          0.02356364924096078,
          0.030159824097658466,
          0.03790062219757267,
          0.05193754278466706,
          0.07169354511854004,
          0.09161666384471001,
          0.11162221195984255,
          0.13714679037381083,
          0.17011107229360714,
          0.20323653874774683,
          0.23774767970044053,
          0.28133590066251524,
          0.3365813823009983,
          0.3949372397718828,
          0.45470988446761446,
          0.5233905234706474,
          0.6013648184893917,
          0.6795133378195574,
          0.7585522387802324,
          0.8472874089184291,
          0.9517164622802933,
          1.0638586846172884,
          1.1812687358395575,
          1.305142993147036,
          1.4425421769945928,
          1.6008798484477664,
          1.772112286741003,
          1.9469328851671799,
          2.135600271383937,
          2.338502646945503,
          2.5495039246690374,
          2.7782079644508912,
          3.027059543313957,
          3.2948253736671074,
          3.586738536937763,
          3.902447053433828,
          4.241371275000353,
          4.6032661330493365,
          4.9887940535666875,
          5.398014935294216,
          1.2552416178642707E-4,
          0.0013926596221827822,
          0.003993369899621873,
          0.006719735412845597,
          0.009475902265698097,
          0.012252343469057668,
          0.01504718844769451,
          0.019347254406006806,
          0.027297786518218316,
          0.036918750651587236,
          0.0465907916159388,
          0.05628151539332898,
          0.06598788300330698,
          0.07623890503924964,
          0.08925123679095469,
          0.10465182399779008,
          0.12011316907435275,
          0.13568158641263803,
          0.1527549256113906,
          0.1716931114708998,
          0.19072144001302513,
          0.2100031091930445,
          0.23154146803734452,
          0.25545188174909234,
          0.2793920558228788,
          0.30374550069978973,
          0.3309990865006099,
          0.3612673539634423,
          0.3917701572845879,
          0.4223516098838551,
          0.45505771032208414,
          0.491199169245238,
          0.5280336884701293,
          0.5653815142572771,
          0.605016286486163,
          0.6478980910151736,
          0.6922746174181654,
          0.7376152221150036,
          0.7858423137528522,
          0.8372771345066761,
          0.8909655411119408,
          0.9457425272740263,
          1.0005176314264403,
          1.0544830771536762,
          1.1064222185721757,
          1.1554068907572155,
          1.2005485770981421,
          1.2408716411790586,
          1.2757139371460078,
          1.3039576831438173,
          1.3248242058992068,
          1.3378392435058042,
          2.197067658840742E-4,
          0.002535722586631484,
          0.00644333570394962,
          0.01039783284349102,
          0.014361878062572301,
          0.018331767093861247,
          0.022417215618419636,
          0.027579481761716228,
          0.033867244950374596,
          0.04028033702688021,
          0.04683044009198937,
          0.053610933277621065,
          0.06309297008107874,
          0.07575520832310412,
          0.08848739785888529,
          0.10198151103572323,
          0.11967475767816924,
          0.14102063658886935,
          0.16242721639939897,
          0.18385008183520926,
          0.20703911796800684,
          0.23542748892035514,
          0.2666124261761511,
          0.2978168637034152,
          0.3291803134736889,
          0.3629575617997019,
          0.39966648616547235,
          0.43908531699001135,
          0.4849748265327526,
          0.5395621463421039,
          0.6070419455066087,
          0.6889703760223744,
          0.7870564702531487,
          0.9027921782231062,
          1.0371179160345834,
          1.1915247390832104,
          1.3674672976882267,
          1.5655024649160212,
          1.7859985200825341,
          2.0304065661939843,
          2.299104731739727,
          2.5918938961088807,
          2.909853805277544,
          3.313765513170616E-4,
          0.00391356004386865,
          0.01045216688499199,
          0.01710341828102341,
          0.023801492703640414,
          0.03054107582668791,
          0.040982478961941925,
          0.056629968853487755,
          0.07242081564343575,
          0.09202051677365088,
          0.11800221167121112,
          0.14510087267976018,
          0.1776698519926833,
          0.2210538283127777,
          0.26774315713629543,
          0.31460549568251683,
          0.36727326701013735,
          0.4357954042864925,
          0.5127376455045388,
          0.5897163128508901,
          0.6666347733821611,
          0.743683008663917,
          0.8266214766157229,
          0.9223938705722406,
          1.0277730890525543,
          1.1438088280422785,
          1.268452815206689,
          1.3995916850293455,
          1.5441445436889947,
          1.7051726058838812,
          1.8822570079022483,
          2.074808120313205,
          2.2826328156840847,
          2.505547485168844,
          2.7435918750931454,
          2.997158670853864,
          3.265237388750923,
          3.547935400750716,
          3.8463439545387526,
          3.8930395638370354E-4,
          0.004489081297082494,
          0.01172299551857741,
          0.019088330591389643,
          0.02649762293095504,
          0.03395232926115175,
          0.04228024339332694,
          0.05686117572661008,
          0.0780610609124267,
          0.09966094712220819,
          0.12134549629281362,
          0.14752036001686353,
          0.18363818958982148,
          0.2233529464698795,
          0.2631499594756016,
          0.30453992467850977,
          0.3551803362906168,
          0.4147117219929855,
          0.4746751339867847,
          0.5352701899840958,
          0.6039013517904388,
          0.6834498946438043,
          0.7646563631730495,
          0.8477188386346214,
          0.941796273775854,
          1.0490064929931258,
          1.160780760527883,
          1.2774112968525828,
          1.4020207704662586,
          1.5357241687043899,
          1.6760756255092966,
          1.8266663043293518,
          1.995324917672545,
          2.181745448591552,
          2.3772064260186174,
          2.5805115352742294,
          2.804873755329866,
          3.049133577336167,
          3.3114121377027366,
          3.597004716412425,
          3.9056045144131146,
          4.2370896348245655,
          4.591621054103011,
          4.968642961972212,
          5.369283596797194,
          -3.7677465093062675E-4,
          -0.004125117269274393,
          -0.009994300213750267,
          -0.015907818956697642,
          -0.021833137610043796,
          -0.027764154256220776,
          -0.03369715413827021,
          -0.03988059924523921,
          -0.04707465564056217,
          -0.054492990564947705,
          -0.06191550360081634,
          -0.06933704047532024,
          -0.07708419859166683,
          -0.08650683733728572,
          -0.09672054958329834,
          -0.10698948054587139,
          -0.11739116558813366,
          -0.12793606237911456,
          -0.1384977990757827,
          -0.1490692144299937,
          -0.16167655737938494,
          -0.17760193989879702,
          -0.1938614872329015,
          -0.2101427067850476,
          -0.22858394351411657,
          -0.25168626010976863,
          -0.276273112412529,
          -0.30089668351834814,
          -0.32553384612552705,
          -0.3513420066907357,
          -0.38370756687459007,
          -0.4220034860223572,
          -0.4604316935786939,
          -0.4988724658201714,
          -0.5385042902521876,
          -0.58392968661214,
          -0.634029659174661,
          -0.6843408350426899,
          -0.7384398161445133,
          -0.7982199610800184,
          -0.8589589917573276,
          -0.9218183204270868,
          -0.9905283515320567,
          -1.0622712870867803,
          -1.1359745615084669,
          -1.2188805178159332,
          -1.3093220879487417,
          -1.3997989575930643,
          -1.4908759004164418,
          -1.5886215543282785,
          -1.6958322341834056,
          -1.8060914589857808,
          -1.9209013239779429,
          -2.044006496954441,
          -2.1716480334831445,
          -2.3051227657827376,
          -2.4522591806264313,
          -2.6099775599818575,
          -2.77398483033691,
          -2.9476564737941646,
          -3.130797105165122,
          -3.325405959543644,
          -3.534025630984214,
          -3.758126119100939,
          -4.00030130926757,
          -4.262520276205432,
          -4.549154259211856,
          -4.861961556764849,
          -5.205152212521022,
          -5.583055556064021,
          -1.274678233136012E-4,
          -0.001549161193885973,
          -0.004323656925747663,
          -0.007152910771068631,
          -0.01000209265891469,
          -0.012875184614917627,
          -0.01577579090500928,
          -0.021507153150488924,
          -0.031675220693841356,
          -0.04238213539974363,
          -0.05315187833147323,
          -0.06691543170344988,
          -0.08467416075131463,
          -0.10254120877952608,
          -0.12102534966578313,
          -0.14490847019497513,
          -0.17469184985423208,
          -0.20553140769135778,
          -0.23808046623846754,
          -0.2725166830100582,
          -0.3139018851444091,
          -0.36155391938258574,
          -0.40931389561021164,
          -0.4581077207850685,
          -0.5138063152953838,
          -0.5760965332547334,
          -0.6390893329501965,
          -0.7070533204967825,
          -0.7804724902252657,
          -0.8579061743769344,
          -0.9421526239458625,
          -1.0327670804522917,
          -1.1354575522017776,
          -1.2460501689723618,
          -1.3590859862912994,
          -1.4815326525650234,
          -1.6158309554869654,
          -1.757538006312812,
          -1.9074077073166233,
          -2.0686976823545757,
          -2.2394941704170086,
          -2.414041648979939,
          -2.591557340975908,
          -2.776907151559292,
          -2.9693589724333123,
          -3.1670945538049096,
          -3.3680776075147905,
          -3.5709587905551325,
          6.0100871015512595E-5,
          7.645604139092024E-4,
          0.003626863035799868,
          0.008288752256254814,
          0.01302021458549583,
          0.017774821012567936,
          0.02255245964724799,
          0.027353212494655384,
          0.032178057029485035,
          0.037027641736331836,
          0.04190694783546739,
          0.0491478934833159,
          0.0612953883672286,
          0.0751457721382526,
          0.0890408963058767,
          0.10298039683067702,
          0.11965968632552362,
          0.14003521861254922,
          0.16067142264025536,
          0.18321563181924794,
          0.20920481034941474,
          0.23620328657283987,
          0.26381622777552904,
          0.29278201337424337,
          0.3228094160295253,
          0.3539587835078244,
          0.3860472805901598,
          0.4181593487402642,
          0.4494682391086429,
          0.4790283110481644,
          0.5054211089673418,
          0.5280174244959677,
          0.5467813508699482,
          0.5590353364771551,
          0.5641835298805878,
          0.5633615602355739,
          0.5547611277583808,
          0.5390615998655832,
          0.5147215036309596,
          0.4810381649934621,
          0.43894794368101875,
          0.38793740717805436,
          0.329680094852733,
          0.26296664767213,
          0.18702453276405082,
          0.10247613387412427,
          0.006341715682798399,
          -0.1092062386885667
         ],
         "y": [
          3.51185883458271E-4,
          0.00391615967367672,
          0.009853798681816484,
          0.015852741806512367,
          0.0218704795783682,
          0.02790696888113933,
          0.033962364392233976,
          0.04190904278700723,
          0.05291948463140377,
          0.06406952986968552,
          0.07659873954798742,
          0.09306011305097821,
          0.11176735005528389,
          0.13065396335094595,
          0.15310522568260618,
          0.18016698786563892,
          0.20761831988734675,
          0.238325888660877,
          0.2726115342173871,
          0.31158896171509315,
          0.35687766856360204,
          0.4033787830189647,
          0.45553198314339594,
          0.516097970048082,
          0.5857931839290804,
          0.6644513857927843,
          0.7476910770731892,
          0.8399405347375768,
          0.9480694610280832,
          1.0708644610673874,
          1.2074854946100309,
          1.360821548329023,
          1.52786209336458,
          1.7053759302623892,
          1.9057895700989538,
          2.1311548910117732,
          2.3794626875510843,
          2.648268591099078,
          2.941459926505764,
          3.2627265806192054,
          3.6133839084717874,
          3.994173787708044,
          2.450011632906017E-4,
          0.0028606086454193726,
          0.007096511580795096,
          0.011365147510628986,
          0.01563650324810555,
          0.0199078061981947,
          0.024178429770139086,
          0.028578562389589376,
          0.03348653136513685,
          0.038419846419371,
          0.04335064495056604,
          0.047998136831754405,
          0.05252862349802269,
          0.057067017622635774,
          0.061806037075508066,
          0.0677714307410319,
          0.07477347041527246,
          0.08179085270852031,
          0.0888205662492997,
          0.09632913997407763,
          0.10446035056899679,
          0.11259745229809705,
          0.1208865672145385,
          0.1294505953969757,
          0.13873003977281512,
          0.1491047878495733,
          0.1598768978227786,
          0.17296706647395738,
          0.1883806100430464,
          0.20380326415697078,
          0.2193962669914398,
          0.23739897463126364,
          0.2579470750162131,
          0.27896923775070254,
          0.3029505863352073,
          0.3304751416576983,
          0.3615379899005378,
          0.3986817372941486,
          0.44158671570043756,
          0.4932565887047447,
          0.554099665271341,
          0.6240299836769074,
          0.7063635470527773,
          0.8015360466058219,
          0.9114250383556508,
          1.0365350229777253,
          1.1819534597218169,
          1.3493036229905526,
          1.5402226272565964,
          1.7559723184676235,
          -2.4516417855480145E-4,
          -0.0026868925400525354,
          -0.006748327262456495,
          -0.010848634953294686,
          -0.01495809367087916,
          -0.019075019483561217,
          -0.023373452431711534,
          -0.028781859720847906,
          -0.035076676007789985,
          -0.04139288743271628,
          -0.04771725158337714,
          -0.05477793618754163,
          -0.06295592396801823,
          -0.07115643514147031,
          -0.0795475263338207,
          -0.08957850072841811,
          -0.10184267691923095,
          -0.11463100237170482,
          -0.1277470388812202,
          -0.14329043330107843,
          -0.161432195578495,
          -0.17962083434312487,
          -0.19801086313279698,
          -0.2187207301118662,
          -0.24311762468561796,
          -0.26950425768614494,
          -0.2974900633997142,
          -0.32771832353189956,
          -0.3629248835111835,
          -0.406080301827899,
          -0.4542757421231378,
          -0.5040993385050593,
          -0.5602010839086102,
          -0.6227815236037794,
          -0.6895368279850966,
          -0.7658169033525863,
          -0.8532411793706504,
          -0.9519113031408619,
          -1.065608038362804,
          -1.1949641187153983,
          -1.3403686829890697,
          -1.5022150856110221,
          -1.6811000821520816,
          -1.8767949931367138,
          -3.602563963633161E-4,
          -0.0043847193640935336,
          -0.011865771964300898,
          -0.019588515332443466,
          -0.027351512609788346,
          -0.0351377683869114,
          -0.04294312451936964,
          -0.05256200100754133,
          -0.06801682794194845,
          -0.08611181045133896,
          -0.10427330266686916,
          -0.12245464012905576,
          -0.14065117519343787,
          -0.15948505298647817,
          -0.18202115697410298,
          -0.20768175976506079,
          -0.23342000396810267,
          -0.259319175609155,
          -0.28767435034939737,
          -0.31899674408421325,
          -0.3504760823903567,
          -0.38249805503075834,
          -0.419393235893025,
          -0.46144046163445485,
          -0.5035699915317906,
          -0.5466370520570933,
          -0.5962456855664925,
          -0.6529110705062633,
          -0.7102029189489062,
          -0.7677862637754517,
          -0.8314370111359186,
          -0.9043717163362894,
          -0.9792461857583025,
          -1.0557799020453955,
          -1.1390309208202503,
          -1.2317367753397883,
          -1.3289464946397922,
          -1.4296841166712555,
          -1.5419267870480748,
          -1.6707976142567136,
          -1.818864757047264,
          -1.9875898077856597,
          -2.1774175735870944,
          -2.3906925049972263,
          -2.627705410643976,
          -2.892117283082633,
          -3.185123847810823,
          -3.506776012477057,
          -3.8582868448754124,
          -4.2406647620566895,
          -4.653987952862269,
          -5.097731340029119,
          3.278502017343081E-4,
          0.0038419138273009137,
          0.010328026068885077,
          0.016932324003391373,
          0.023580531397819567,
          0.03026785783048666,
          0.037888601554321215,
          0.05176567111489602,
          0.07164469026265165,
          0.09193273297115771,
          0.1126066138404148,
          0.13386463110475502,
          0.16165638332974305,
          0.19673581718230324,
          0.23197473339767744,
          0.2693165416823696,
          0.3176907113327043,
          0.37570699445163946,
          0.43391778249486185,
          0.4922069898588032,
          0.5568794360769916,
          0.6384505162581513,
          0.7287779269797776,
          0.8191559378026905,
          0.9099351299005332,
          1.0065819673877432,
          1.1101497901690398,
          1.2190414884929768,
          1.3396512107779204,
          1.4732019564098917,
          1.6229583759180861,
          1.787715949851998,
          1.9670320745769845,
          2.1602948630724965,
          2.3667545115635162,
          2.5867831990475882,
          2.820078225272588,
          3.066418552284336,
          3.3245271961873732,
          3.5941974812847057,
          3.8744337814476957,
          4.164924714054127,
          4.465837137040144,
          -2.130617039103393E-4,
          -0.00243501961585647,
          -0.006202253863096369,
          -0.010009716622329393,
          -0.013824483694242589,
          -0.01764277135521865,
          -0.02176574001306914,
          -0.026533008352788857,
          -0.031325640753275145,
          -0.03711711124066199,
          -0.044718283728919374,
          -0.0526812651343808,
          -0.06285515011312877,
          -0.07785845952368019,
          -0.09442051401637347,
          -0.11107225289656861,
          -0.13077597081309023,
          -0.15900052231989123,
          -0.1917375251655065,
          -0.22450604251871015,
          -0.25725911177208627,
          -0.29007299527489255,
          -0.3252175767414644,
          -0.36526192883434705,
          -0.4091717911921071,
          -0.4579314709590778,
          -0.5108750974703928,
          -0.5674839119951516,
          -0.6322981318921181,
          -0.7086268832134969,
          -0.7979429908333447,
          -0.9014964750001822,
          -1.020235898924485,
          -1.1557974442441887,
          -1.3097018310171848,
          -1.4828530563664433,
          -1.6753772123807813,
          -1.8873915965768384,
          -2.118955547038985,
          -1.9863850386855357E-4,
          -0.002204080847716092,
          -0.005464613182737606,
          -0.00876493928963216,
          -0.012073853806388524,
          -0.015389337569649624,
          -0.018802217067191714,
          -0.023054273882737224,
          -0.02832553153040987,
          -0.03365253855685497,
          -0.03898431898262687,
          -0.044677274894386124,
          -0.051645739420020216,
          -0.059115923903528565,
          -0.06659354059516985,
          -0.07433279181542443,
          -0.08378853929081824,
          -0.09495332536155356,
          -0.1062203871441417,
          -0.11769697971267318,
          -0.13184537599873786,
          -0.1494511074181263,
          -0.16752350461421867,
          -0.18614605334066567,
          -0.2081715719177661,
          -0.23419675936029397,
          -0.2617440835721791,
          -0.2910667009001696,
          -0.3234000328296058,
          -0.3593256403509072,
          -0.39802367415975937,
          -0.44118166848436075,
          -0.49232300300415704,
          -0.5516422737781951,
          -0.6153720111232736,
          -0.6833296364701664,
          -0.7624203076194195,
          -0.8524553079667824,
          -0.9531291993569573,
          -1.0682523091703344,
          -1.1984191215605424,
          -1.3446025236964527,
          -1.5080412027479355,
          -1.6887128774075248,
          -1.8878334213477537,
          -2.0817484966177306E-4,
          -0.0024037474365374224,
          -0.006340237878885931,
          -0.010339249369336676,
          -0.014374562992841648,
          -0.018443357984398803,
          -0.022541977351694987,
          -0.02922712869042703,
          -0.040532857996569985,
          -0.05283086832060389,
          -0.0651886308288552,
          -0.07757146532710038,
          -0.09231479015982337,
          -0.11330024084145159,
          -0.13738796626599842,
          -0.1616943196631675,
          -0.18629592701233502,
          -0.2111637369464914,
          -0.23605929801704592,
          -0.26096788048120656,
          -0.28841039295680737,
          -0.3198545652815987,
          -0.35169961567608654,
          -0.38356452073035774,
          -0.41740705809401774,
          -0.4551396002363708,
          -0.49388848395165524,
          -0.5326359729558924,
          -0.5713626954655893,
          -0.6107141857426652,
          -0.6537040003635696,
          -0.699924449819556,
          -0.7461777115508664,
          -0.7923911826675223,
          -0.8391491328873937,
          -0.8889152144868075,
          -0.9411625278221327,
          -0.9934771828531552,
          -1.0482090568200537,
          -1.1067200261732488,
          -1.1658268771561293,
          -1.226306623597491,
          -1.2908781460792456,
          -1.3576354974307872,
          -1.4260484020623316,
          -1.5027405398639353,
          -1.5863092721141765,
          -1.66986510718615,
          -1.7540222898985187,
          -1.8454613264372106,
          -1.9477402174972889,
          -2.0535414716959433,
          -2.1642351246238247,
          -2.283660014746385,
          -2.407624872843601,
          -2.537005036506356,
          -2.678594849014307,
          -2.8292699795122354,
          -2.9848100041231325,
          -3.1474073341011715,
          -3.3162627050302436,
          -3.491738957177028,
          -3.6745118419081733,
          -3.8640261849400503,
          -4.060414782026733,
          -4.263453609212732,
          -4.47369621861069,
          -4.6905408238388455,
          -4.913786007063828,
          -5.142918890082558,
          4.178613234730092E-4,
          0.004642223168136084,
          0.011538106372940907,
          0.018510466652278675,
          0.025505735519542837,
          0.03252605509011865,
          0.03957315844741193,
          0.04939689982905038,
          0.06394082651400179,
          0.07904994081654315,
          0.0942129983429815,
          0.1121095737258401,
          0.13400854407877943,
          0.15601152604457402,
          0.1785385725392839,
          0.20592436014200383,
          0.23867756270971394,
          0.27248073508982507,
          0.30805875078155653,
          0.3456698789500299,
          0.3913908490704747,
          0.4446194290712224,
          0.49797870872771716,
          0.5527064028531699,
          0.6165736956512349,
          0.6889261789378778,
          0.7621229946797913,
          0.8412871400494629,
          0.9269463113832282,
          1.0175413600403456,
          1.116809894929704,
          1.2244082871617257,
          1.349087882552707,
          1.4856728192608029,
          1.6262855028500707,
          1.7831471218293524,
          1.9611761688808973,
          2.153372541285777,
          2.3634089176815976,
          2.6006760489055094,
          2.8634214979928525,
          3.137257728517522,
          3.4217898841114365,
          3.735356553990762,
          4.079308930993982,
          4.4506817442921625,
          4.848582775022206,
          5.2764576383268365,
          -4.2388312465993614E-4,
          -0.005203079193177992,
          -0.01773967147673833,
          -0.0345376264094811,
          -0.05143696824647926,
          -0.06835771249224039,
          -0.08529586829953904,
          -0.10224887984329101,
          -0.11921548441932096,
          -0.13619452660348763,
          -0.15318794085908805,
          -0.17199844792633406,
          -0.1954714438398396,
          -0.2205285528649785,
          -0.24561521373239867,
          -0.27072689977917386,
          -0.29810205803516193,
          -0.32875866475708887,
          -0.3596607642276909,
          -0.39289447988741755,
          -0.43056146665139744,
          -0.4696947593534001,
          -0.5101000952945648,
          -0.5536023185277551,
          -0.6000394483326007,
          -0.6514405579930235,
          -0.7095150178594586,
          -0.7743396999803371,
          -0.847996888507961,
          -0.9299817312320183,
          -1.022399283188984,
          -1.124265289825695,
          -1.2333212418176085,
          -1.353237829814988,
          -1.4841587394568927,
          -1.6232066719504363,
          -1.7724752035854536,
          -1.9307740422360842,
          -2.099860533704173,
          -2.2803972384182005,
          -2.471112917625654,
          -2.6725753867985307,
          -2.8825526327206745,
          -3.1026398678858365,
          -3.3338044294960167,
          -3.575530097713167,
          -3.8318471857872147,
          -4.113296981826374
         ],
         "z": [
          2.9503952623790632,
          2.9753648832158563,
          3.016349411671677,
          3.0470478711924223,
          3.0670411406929103,
          3.0763331756253787,
          3.0749318494780202,
          3.0803699760905965,
          3.099550965377083,
          3.1088203817326177,
          3.1182143441678773,
          3.1436616112507543,
          3.172137357751725,
          3.1907832199426123,
          3.216205799258113,
          3.2531054272389803,
          3.2808276224241424,
          3.310262644107843,
          3.3425283156237264,
          3.3804642399542093,
          3.429184341349244,
          3.4711422582133644,
          3.5201142850280616,
          3.584036226650294,
          3.663702832919103,
          3.7570926064499814,
          3.8516479238450487,
          3.9575062636924616,
          4.089276124477399,
          4.241238764943452,
          4.409722469453927,
          4.5981846897896315,
          4.800387169165152,
          5.009942421876249,
          5.24586914666232,
          5.509040022326485,
          5.795105468340332,
          6.0989800064487625,
          6.424556781451846,
          6.774891920348779,
          7.149749486807705,
          7.547618590855849,
          2.9499816514344763,
          2.9735701252893163,
          3.013711360885748,
          3.043962535871089,
          3.0637038315964555,
          3.0727818639623488,
          3.0711688737021765,
          3.0767340996165413,
          3.0966775225959093,
          3.1067857968646257,
          3.1062626188315328,
          3.1126363134683688,
          3.132866371913936,
          3.1428969206141097,
          3.148307118239008,
          3.169612617914056,
          3.2011371697666977,
          3.222350841762179,
          3.233652325875733,
          3.252915690709698,
          3.2838191793944427,
          3.3046851903858756,
          3.3215563729766937,
          3.338080815578564,
          3.363544899942779,
          3.401747461760277,
          3.4359557070674676,
          3.484805241824529,
          3.5457725204943427,
          3.596299323008338,
          3.637895386793317,
          3.6890872243529174,
          3.7516180203735536,
          3.807959015504157,
          3.8776267395125745,
          3.962944630212124,
          4.059311892588168,
          4.177743483030309,
          4.31104050182173,
          4.467081686622115,
          4.644310934127588,
          4.8389703319840445,
          5.057380258334215,
          5.296796973636273,
          5.5588077823113915,
          5.8416282964128765,
          6.152552061985833,
          6.490568840929754,
          6.854933209751499,
          7.2445102376794575,
          2.9506322753162655,
          2.974969083048076,
          3.0148447469162294,
          3.0444799601653316,
          3.063424186397832,
          3.071678673073742,
          3.074689692289133,
          3.095269004875622,
          3.129880663854408,
          3.1542769248844937,
          3.168083165664713,
          3.188919482192565,
          3.22241710763538,
          3.245546254651599,
          3.261918014663644,
          3.292777673696655,
          3.344165083981045,
          3.3930813740669663,
          3.435072770055592,
          3.4895694938157695,
          3.5572487513648388,
          3.614623531309114,
          3.6633361964486335,
          3.7226750671837205,
          3.8048973802395314,
          3.8931154277051943,
          3.981855755795261,
          4.073179855490275,
          4.180682995749618,
          4.318069199582575,
          4.469323312609833,
          4.616787920030012,
          4.7786606713197814,
          4.955335277371345,
          5.136186021649076,
          5.337346121437771,
          5.562084206710749,
          5.807660616684687,
          6.081742001304496,
          6.382700234765958,
          6.708469434174663,
          7.057573218150276,
          7.429557282324642,
          7.822404225840059,
          2.9499671990322205,
          2.973426687294576,
          3.0149533760853418,
          3.0474403347718515,
          3.0694272739381043,
          3.0807844641615874,
          3.0814890272746305,
          3.0899467603418835,
          3.1294833661504096,
          3.176187783143758,
          3.2125711185120163,
          3.238307510675443,
          3.253385867353864,
          3.264528637675434,
          3.2966534870956985,
          3.343648264364053,
          3.380480141568853,
          3.407799529019201,
          3.4411089397273273,
          3.4830735319713337,
          3.515211439026417,
          3.539572995460443,
          3.5774359984198933,
          3.628924469343197,
          3.6699990994646097,
          3.704164109568878,
          3.752779736219141,
          3.8170214648345895,
          3.8727510308813584,
          3.918743915534088,
          3.9737263408782306,
          4.047702233114525,
          4.117096544526976,
          4.180689398260439,
          4.252477260212357,
          4.339276675871325,
          4.427136399293692,
          4.51296552042198,
          4.614903193543529,
          4.743452925674452,
          4.902163132247221,
          5.091486085125189,
          5.308864330843728,
          5.5556042551416605,
          5.82940796248187,
          6.132592759739246,
          6.4632616922273325,
          6.818759413157791,
          7.197730772102239,
          7.5995893572469875,
          8.022290822181441,
          8.463506455693755,
          2.950065211564356,
          2.974716749297337,
          3.015826810297781,
          3.046845480206531,
          3.067223742214553,
          3.076915463021516,
          3.0802295805506135,
          3.100084782194152,
          3.134138764977107,
          3.158966805171159,
          3.174453073096077,
          3.1811402958834036,
          3.1987589758447337,
          3.229263258431979,
          3.249408695216852,
          3.264282189184828,
          3.296343077435788,
          3.341426639036382,
          3.376190272951414,
          3.400386480635685,
          3.429321549431938,
          3.4869005853391704,
          3.553909764145932,
          3.6104029973663714,
          3.6573461900629263,
          3.7083408226394075,
          3.765941436878696,
          3.826758253734667,
          3.907652072449441,
          4.013248411612581,
          4.154019893960034,
          4.328824720036571,
          4.537076753963521,
          4.778473721283852,
          5.0515645928571615,
          5.356072957897252,
          5.691477945691981,
          6.055788362854513,
          6.447183835048986,
          6.865078461065641,
          7.307438286491515,
          7.771654734419869,
          8.257124090253509,
          2.9498061345396827,
          2.9733724951025424,
          3.013187585792958,
          3.0428698086708255,
          3.0619322644913853,
          3.0703249387590597,
          3.085584581503535,
          3.113676026939918,
          3.1314755221679866,
          3.1523581136542553,
          3.184839367734858,
          3.2103021290636415,
          3.2432166118640935,
          3.299905304290125,
          3.3561312690779106,
          3.4020949886548686,
          3.455199278000036,
          3.5442629059978366,
          3.647262975418316,
          3.739634027898661,
          3.8211311247180797,
          3.8924042523730864,
          3.9710018915259724,
          4.07615182413637,
          4.197845283732715,
          4.338155928039014,
          4.490813828284901,
          4.65014563208409,
          4.83381417326046,
          5.050636279979322,
          5.3009273811115305,
          5.584426045793904,
          5.899570391574935,
          6.245967349166809,
          6.623137209749165,
          7.029797285248244,
          7.46376743950509,
          7.923566640887753,
          8.407898286355113,
          2.9503820282955737,
          2.975517355901762,
          3.01694764715107,
          3.048354381167821,
          3.0691049758005593,
          3.079184130701751,
          3.082216536591196,
          3.099505318244402,
          3.1314203700806122,
          3.1538926655424544,
          3.16580058256092,
          3.1829717363367322,
          3.222779912023041,
          3.2635260842088187,
          3.293707549109176,
          3.318021998087813,
          3.3586775094373067,
          3.4141216646733534,
          3.4600199677244428,
          3.4968963785959684,
          3.543622199336632,
          3.6065151125547046,
          3.6627222601843066,
          3.712872779829519,
          3.778230957510238,
          3.8629147287848165,
          3.9472644561181354,
          4.031612249111489,
          4.121999944572154,
          4.220095698480714,
          4.320680669674602,
          4.430032231557357,
          4.562224726093439,
          4.715825180439384,
          4.875178829545702,
          5.037909749624798,
          5.225887601157793,
          5.437274414312725,
          5.668736106182237,
          5.928703317338643,
          6.215906127290767,
          6.528825630457818,
          6.866977743370689,
          7.228511030004599,
          7.613626188124619,
          2.950294299111355,
          2.973632384514302,
          3.0120103720479197,
          3.040179075864211,
          3.0577805886303886,
          3.064765920657316,
          3.0610919308131366,
          3.0649457224777685,
          3.0882033550864656,
          3.1066750382809643,
          3.1146639103225815,
          3.1119606122410026,
          3.1162563504353233,
          3.1526836241076484,
          3.199579541772621,
          3.23723158015765,
          3.266444020739757,
          3.286982795122294,
          3.2969332699403937,
          3.296193068510577,
          3.3030066687877806,
          3.325672228695776,
          3.340112092865462,
          3.3439843589403297,
          3.3543090228206807,
          3.3860022105183663,
          3.4159778980591025,
          3.4353935303347987,
          3.4441054726658202,
          3.4475828760754363,
          3.4695436716343275,
          3.50627025596225,
          3.53276439102147,
          3.5485414576540846,
          3.5578119075715757,
          3.576121292091282,
          3.599668988599395,
          3.613223889690817,
          3.628812520969725,
          3.652523650946428,
          3.668668357834982,
          3.6807579728749324,
          3.6998774330434965,
          3.71753495534651,
          3.730820609617031,
          3.7616630540183222,
          3.8045356261273837,
          3.8370138429287737,
          3.8609776582187445,
          3.8952441687866037,
          3.9488510562831216,
          4.00151392173883,
          4.056772202207951,
          4.124242448768636,
          4.1928980270391385,
          4.265062795922941,
          4.357395972857403,
          4.4616783840449505,
          4.567934108466731,
          4.681649852215897,
          4.801259200068068,
          4.928804790987301,
          5.066818459128163,
          5.2155729722375135,
          5.37666327633831,
          5.5506235938741435,
          5.740299730316341,
          5.945516680655071,
          6.168029805446406,
          6.409016352964138,
          2.9508152736094537,
          2.9777855814597594,
          3.021357503373244,
          3.054743640970429,
          3.077425335168101,
          3.089411678883548,
          3.0907099053962224,
          3.09940818289524,
          3.1242617534485926,
          3.1412902753679823,
          3.1477923164301935,
          3.1608560631256,
          3.186143484444298,
          3.2011339898556614,
          3.2080025500098985,
          3.226484714860661,
          3.257794546470823,
          3.282493197251296,
          3.3031034094004257,
          3.320227467658036,
          3.3533950542704036,
          3.399917147887867,
          3.4360899101959865,
          3.465156810173405,
          3.506655089305434,
          3.558804692801815,
          3.602320641918248,
          3.6489419908640883,
          3.699702906232589,
          3.7506294459545764,
          3.8089287464004498,
          3.8734889186497052,
          3.9602203255124855,
          4.058583233933056,
          4.153758454699161,
          4.266176262434241,
          4.4024424626165155,
          4.549998748198497,
          4.713173362720208,
          4.903984051684779,
          5.1180113077351885,
          5.335815449803444,
          5.556567842016412,
          5.801705801992159,
          6.071875760913167,
          6.363489752857826,
          6.675142488476703,
          7.009594623812602,
          2.950311870577792,
          2.9736915911964674,
          3.0367306562980683,
          3.1154865832731256,
          3.1840709911389165,
          3.2419616767560573,
          3.289152632623029,
          3.3256439333938954,
          3.3514449796229018,
          3.366563010981724,
          3.371040815734121,
          3.3834079642035872,
          3.4227208319841202,
          3.463855911108241,
          3.494460393540447,
          3.5145174689173455,
          3.542056188893307,
          3.583347801968753,
          3.6156093899557953,
          3.652034843255474,
          3.70436341051483,
          3.754163368476869,
          3.7996316292444567,
          3.8492026786930738,
          3.9016151660062244,
          3.964814120013077,
          4.045260172554495,
          4.141934405471524,
          4.261731986473552,
          4.400428012070488,
          4.56288549247469,
          4.744041536664882,
          4.935284354879295,
          5.144822284187114,
          5.371374598616742,
          5.605866192951103,
          5.85130278194826,
          6.10356049170305,
          6.364222984085363,
          6.63312027105391,
          6.906487836314418,
          7.183968185455509,
          7.461259215309199,
          7.73920011265625,
          8.017719110093186,
          8.295216903421522,
          8.573974866888982,
          8.861222990354127
         ],
         "type": "scatter3d"
        },
        {
         "customdata": [
          [
           42,
           "Waypoint, Step: 42"
          ],
          [
           50,
           "Waypoint, Step: 50"
          ],
          [
           44,
           "Waypoint, Step: 44"
          ],
          [
           52,
           "Waypoint, Step: 52"
          ],
          [
           43,
           "Waypoint, Step: 43"
          ],
          [
           39,
           "Waypoint, Step: 39"
          ],
          [
           45,
           "Waypoint, Step: 45"
          ],
          [
           70,
           "Waypoint, Step: 70"
          ],
          [
           48,
           "Waypoint, Step: 48"
          ],
          [
           48,
           "Waypoint, Step: 48"
          ]
         ],
         "hovertemplate": "Episode: %{customdata[0]}<br>Step: %{customdata[1]}<br>X: %{x}<br>Y: %{y}<br>Z: %{z}<br>%{customdata[2]}<extra></extra>",
         "legendgroup": "Waypoint",
         "marker": {
          "color": [
           0,
           1,
           2,
           3,
           4,
           5,
           6,
           7,
           8,
           9
          ],
          "coloraxis": "coloraxis",
          "symbol": "diamond",
          "size": 5
         },
         "mode": "markers",
         "name": "Waypoint",
         "scene": "scene",
         "showlegend": true,
         "x": [
          -2.0013064262768947,
          -3.5790056743872727,
          2.7652784644975257,
          0.5385853771797282,
          0.6537777469905394,
          1.279921023586016,
          2.9718888852663783,
          -4.4181075566715435,
          -1.9753964326006284,
          0.1592064835960947
         ],
         "y": [
          2.6767835693374575,
          2.429846021759406,
          -1.536844585568762,
          -1.4695581591760198,
          1.01993647978914,
          -0.7029059565782289,
          -1.2005251551734892,
          -2.6013066426791918,
          4.568813035498801,
          -0.6990390044850086
         ],
         "z": [
          8.5,
          8.5,
          8.5,
          8.5,
          8.5,
          8.5,
          8.5,
          8.5,
          8.5,
          8.5
         ],
         "type": "scatter3d"
        }
       ],
       "layout": {
        "template": {
         "data": {
          "histogram2dcontour": [
           {
            "type": "histogram2dcontour",
            "colorbar": {
             "outlinewidth": 0,
             "ticks": ""
            },
            "colorscale": [
             [
              0.0,
              "#0d0887"
             ],
             [
              0.1111111111111111,
              "#46039f"
             ],
             [
              0.2222222222222222,
              "#7201a8"
             ],
             [
              0.3333333333333333,
              "#9c179e"
             ],
             [
              0.4444444444444444,
              "#bd3786"
             ],
             [
              0.5555555555555556,
              "#d8576b"
             ],
             [
              0.6666666666666666,
              "#ed7953"
             ],
             [
              0.7777777777777778,
              "#fb9f3a"
             ],
             [
              0.8888888888888888,
              "#fdca26"
             ],
             [
              1.0,
              "#f0f921"
             ]
            ]
           }
          ],
          "choropleth": [
           {
            "type": "choropleth",
            "colorbar": {
             "outlinewidth": 0,
             "ticks": ""
            }
           }
          ],
          "histogram2d": [
           {
            "type": "histogram2d",
            "colorbar": {
             "outlinewidth": 0,
             "ticks": ""
            },
            "colorscale": [
             [
              0.0,
              "#0d0887"
             ],
             [
              0.1111111111111111,
              "#46039f"
             ],
             [
              0.2222222222222222,
              "#7201a8"
             ],
             [
              0.3333333333333333,
              "#9c179e"
             ],
             [
              0.4444444444444444,
              "#bd3786"
             ],
             [
              0.5555555555555556,
              "#d8576b"
             ],
             [
              0.6666666666666666,
              "#ed7953"
             ],
             [
              0.7777777777777778,
              "#fb9f3a"
             ],
             [
              0.8888888888888888,
              "#fdca26"
             ],
             [
              1.0,
              "#f0f921"
             ]
            ]
           }
          ],
          "heatmap": [
           {
            "type": "heatmap",
            "colorbar": {
             "outlinewidth": 0,
             "ticks": ""
            },
            "colorscale": [
             [
              0.0,
              "#0d0887"
             ],
             [
              0.1111111111111111,
              "#46039f"
             ],
             [
              0.2222222222222222,
              "#7201a8"
             ],
             [
              0.3333333333333333,
              "#9c179e"
             ],
             [
              0.4444444444444444,
              "#bd3786"
             ],
             [
              0.5555555555555556,
              "#d8576b"
             ],
             [
              0.6666666666666666,
              "#ed7953"
             ],
             [
              0.7777777777777778,
              "#fb9f3a"
             ],
             [
              0.8888888888888888,
              "#fdca26"
             ],
             [
              1.0,
              "#f0f921"
             ]
            ]
           }
          ],
          "heatmapgl": [
           {
            "type": "heatmapgl",
            "colorbar": {
             "outlinewidth": 0,
             "ticks": ""
            },
            "colorscale": [
             [
              0.0,
              "#0d0887"
             ],
             [
              0.1111111111111111,
              "#46039f"
             ],
             [
              0.2222222222222222,
              "#7201a8"
             ],
             [
              0.3333333333333333,
              "#9c179e"
             ],
             [
              0.4444444444444444,
              "#bd3786"
             ],
             [
              0.5555555555555556,
              "#d8576b"
             ],
             [
              0.6666666666666666,
              "#ed7953"
             ],
             [
              0.7777777777777778,
              "#fb9f3a"
             ],
             [
              0.8888888888888888,
              "#fdca26"
             ],
             [
              1.0,
              "#f0f921"
             ]
            ]
           }
          ],
          "contourcarpet": [
           {
            "type": "contourcarpet",
            "colorbar": {
             "outlinewidth": 0,
             "ticks": ""
            }
           }
          ],
          "contour": [
           {
            "type": "contour",
            "colorbar": {
             "outlinewidth": 0,
             "ticks": ""
            },
            "colorscale": [
             [
              0.0,
              "#0d0887"
             ],
             [
              0.1111111111111111,
              "#46039f"
             ],
             [
              0.2222222222222222,
              "#7201a8"
             ],
             [
              0.3333333333333333,
              "#9c179e"
             ],
             [
              0.4444444444444444,
              "#bd3786"
             ],
             [
              0.5555555555555556,
              "#d8576b"
             ],
             [
              0.6666666666666666,
              "#ed7953"
             ],
             [
              0.7777777777777778,
              "#fb9f3a"
             ],
             [
              0.8888888888888888,
              "#fdca26"
             ],
             [
              1.0,
              "#f0f921"
             ]
            ]
           }
          ],
          "surface": [
           {
            "type": "surface",
            "colorbar": {
             "outlinewidth": 0,
             "ticks": ""
            },
            "colorscale": [
             [
              0.0,
              "#0d0887"
             ],
             [
              0.1111111111111111,
              "#46039f"
             ],
             [
              0.2222222222222222,
              "#7201a8"
             ],
             [
              0.3333333333333333,
              "#9c179e"
             ],
             [
              0.4444444444444444,
              "#bd3786"
             ],
             [
              0.5555555555555556,
              "#d8576b"
             ],
             [
              0.6666666666666666,
              "#ed7953"
             ],
             [
              0.7777777777777778,
              "#fb9f3a"
             ],
             [
              0.8888888888888888,
              "#fdca26"
             ],
             [
              1.0,
              "#f0f921"
             ]
            ]
           }
          ],
          "mesh3d": [
           {
            "type": "mesh3d",
            "colorbar": {
             "outlinewidth": 0,
             "ticks": ""
            }
           }
          ],
          "scatter": [
           {
            "marker": {
             "line": {
              "color": "#283442"
             }
            },
            "type": "scatter"
           }
          ],
          "parcoords": [
           {
            "type": "parcoords",
            "line": {
             "colorbar": {
              "outlinewidth": 0,
              "ticks": ""
             }
            }
           }
          ],
          "scatterpolargl": [
           {
            "type": "scatterpolargl",
            "marker": {
             "colorbar": {
              "outlinewidth": 0,
              "ticks": ""
             }
            }
           }
          ],
          "bar": [
           {
            "error_x": {
             "color": "#f2f5fa"
            },
            "error_y": {
             "color": "#f2f5fa"
            },
            "marker": {
             "line": {
              "color": "rgb(17,17,17)",
              "width": 0.5
             },
             "pattern": {
              "fillmode": "overlay",
              "size": 10,
              "solidity": 0.2
             }
            },
            "type": "bar"
           }
          ],
          "scattergeo": [
           {
            "type": "scattergeo",
            "marker": {
             "colorbar": {
              "outlinewidth": 0,
              "ticks": ""
             }
            }
           }
          ],
          "scatterpolar": [
           {
            "type": "scatterpolar",
            "marker": {
             "colorbar": {
              "outlinewidth": 0,
              "ticks": ""
             }
            }
           }
          ],
          "histogram": [
           {
            "marker": {
             "pattern": {
              "fillmode": "overlay",
              "size": 10,
              "solidity": 0.2
             }
            },
            "type": "histogram"
           }
          ],
          "scattergl": [
           {
            "marker": {
             "line": {
              "color": "#283442"
             }
            },
            "type": "scattergl"
           }
          ],
          "scatter3d": [
           {
            "type": "scatter3d",
            "line": {
             "colorbar": {
              "outlinewidth": 0,
              "ticks": ""
             }
            },
            "marker": {
             "colorbar": {
              "outlinewidth": 0,
              "ticks": ""
             }
            }
           }
          ],
          "scattermapbox": [
           {
            "type": "scattermapbox",
            "marker": {
             "colorbar": {
              "outlinewidth": 0,
              "ticks": ""
             }
            }
           }
          ],
          "scatterternary": [
           {
            "type": "scatterternary",
            "marker": {
             "colorbar": {
              "outlinewidth": 0,
              "ticks": ""
             }
            }
           }
          ],
          "scattercarpet": [
           {
            "type": "scattercarpet",
            "marker": {
             "colorbar": {
              "outlinewidth": 0,
              "ticks": ""
             }
            }
           }
          ],
          "carpet": [
           {
            "aaxis": {
             "endlinecolor": "#A2B1C6",
             "gridcolor": "#506784",
             "linecolor": "#506784",
             "minorgridcolor": "#506784",
             "startlinecolor": "#A2B1C6"
            },
            "baxis": {
             "endlinecolor": "#A2B1C6",
             "gridcolor": "#506784",
             "linecolor": "#506784",
             "minorgridcolor": "#506784",
             "startlinecolor": "#A2B1C6"
            },
            "type": "carpet"
           }
          ],
          "table": [
           {
            "cells": {
             "fill": {
              "color": "#506784"
             },
             "line": {
              "color": "rgb(17,17,17)"
             }
            },
            "header": {
             "fill": {
              "color": "#2a3f5f"
             },
             "line": {
              "color": "rgb(17,17,17)"
             }
            },
            "type": "table"
           }
          ],
          "barpolar": [
           {
            "marker": {
             "line": {
              "color": "rgb(17,17,17)",
              "width": 0.5
             },
             "pattern": {
              "fillmode": "overlay",
              "size": 10,
              "solidity": 0.2
             }
            },
            "type": "barpolar"
           }
          ],
          "pie": [
           {
            "automargin": true,
            "type": "pie"
           }
          ]
         },
         "layout": {
          "autotypenumbers": "strict",
          "colorway": [
           "#636efa",
           "#EF553B",
           "#00cc96",
           "#ab63fa",
           "#FFA15A",
           "#19d3f3",
           "#FF6692",
           "#B6E880",
           "#FF97FF",
           "#FECB52"
          ],
          "font": {
           "color": "#f2f5fa"
          },
          "hovermode": "closest",
          "hoverlabel": {
           "align": "left"
          },
          "paper_bgcolor": "rgb(17,17,17)",
          "plot_bgcolor": "rgb(17,17,17)",
          "polar": {
           "bgcolor": "rgb(17,17,17)",
           "angularaxis": {
            "gridcolor": "#506784",
            "linecolor": "#506784",
            "ticks": ""
           },
           "radialaxis": {
            "gridcolor": "#506784",
            "linecolor": "#506784",
            "ticks": ""
           }
          },
          "ternary": {
           "bgcolor": "rgb(17,17,17)",
           "aaxis": {
            "gridcolor": "#506784",
            "linecolor": "#506784",
            "ticks": ""
           },
           "baxis": {
            "gridcolor": "#506784",
            "linecolor": "#506784",
            "ticks": ""
           },
           "caxis": {
            "gridcolor": "#506784",
            "linecolor": "#506784",
            "ticks": ""
           }
          },
          "coloraxis": {
           "colorbar": {
            "outlinewidth": 0,
            "ticks": ""
           }
          },
          "colorscale": {
           "sequential": [
            [
             0.0,
             "#0d0887"
            ],
            [
             0.1111111111111111,
             "#46039f"
            ],
            [
             0.2222222222222222,
             "#7201a8"
            ],
            [
             0.3333333333333333,
             "#9c179e"
            ],
            [
             0.4444444444444444,
             "#bd3786"
            ],
            [
             0.5555555555555556,
             "#d8576b"
            ],
            [
             0.6666666666666666,
             "#ed7953"
            ],
            [
             0.7777777777777778,
             "#fb9f3a"
            ],
            [
             0.8888888888888888,
             "#fdca26"
            ],
            [
             1.0,
             "#f0f921"
            ]
           ],
           "sequentialminus": [
            [
             0.0,
             "#0d0887"
            ],
            [
             0.1111111111111111,
             "#46039f"
            ],
            [
             0.2222222222222222,
             "#7201a8"
            ],
            [
             0.3333333333333333,
             "#9c179e"
            ],
            [
             0.4444444444444444,
             "#bd3786"
            ],
            [
             0.5555555555555556,
             "#d8576b"
            ],
            [
             0.6666666666666666,
             "#ed7953"
            ],
            [
             0.7777777777777778,
             "#fb9f3a"
            ],
            [
             0.8888888888888888,
             "#fdca26"
            ],
            [
             1.0,
             "#f0f921"
            ]
           ],
           "diverging": [
            [
             0,
             "#8e0152"
            ],
            [
             0.1,
             "#c51b7d"
            ],
            [
             0.2,
             "#de77ae"
            ],
            [
             0.3,
             "#f1b6da"
            ],
            [
             0.4,
             "#fde0ef"
            ],
            [
             0.5,
             "#f7f7f7"
            ],
            [
             0.6,
             "#e6f5d0"
            ],
            [
             0.7,
             "#b8e186"
            ],
            [
             0.8,
             "#7fbc41"
            ],
            [
             0.9,
             "#4d9221"
            ],
            [
             1,
             "#276419"
            ]
           ]
          },
          "xaxis": {
           "gridcolor": "#283442",
           "linecolor": "#506784",
           "ticks": "",
           "title": {
            "standoff": 15
           },
           "zerolinecolor": "#283442",
           "automargin": true,
           "zerolinewidth": 2
          },
          "yaxis": {
           "gridcolor": "#283442",
           "linecolor": "#506784",
           "ticks": "",
           "title": {
            "standoff": 15
           },
           "zerolinecolor": "#283442",
           "automargin": true,
           "zerolinewidth": 2
          },
          "scene": {
           "xaxis": {
            "backgroundcolor": "rgb(17,17,17)",
            "gridcolor": "#506784",
            "linecolor": "#506784",
            "showbackground": true,
            "ticks": "",
            "zerolinecolor": "#C8D4E3",
            "gridwidth": 2
           },
           "yaxis": {
            "backgroundcolor": "rgb(17,17,17)",
            "gridcolor": "#506784",
            "linecolor": "#506784",
            "showbackground": true,
            "ticks": "",
            "zerolinecolor": "#C8D4E3",
            "gridwidth": 2
           },
           "zaxis": {
            "backgroundcolor": "rgb(17,17,17)",
            "gridcolor": "#506784",
            "linecolor": "#506784",
            "showbackground": true,
            "ticks": "",
            "zerolinecolor": "#C8D4E3",
            "gridwidth": 2
           }
          },
          "shapedefaults": {
           "line": {
            "color": "#f2f5fa"
           }
          },
          "annotationdefaults": {
           "arrowcolor": "#f2f5fa",
           "arrowhead": 0,
           "arrowwidth": 1
          },
          "geo": {
           "bgcolor": "rgb(17,17,17)",
           "landcolor": "rgb(17,17,17)",
           "subunitcolor": "#506784",
           "showland": true,
           "showlakes": true,
           "lakecolor": "rgb(17,17,17)"
          },
          "title": {
           "x": 0.05
          },
          "updatemenudefaults": {
           "bgcolor": "#506784",
           "borderwidth": 0
          },
          "sliderdefaults": {
           "bgcolor": "#C8D4E3",
           "borderwidth": 1,
           "bordercolor": "rgb(17,17,17)",
           "tickwidth": 0
          },
          "mapbox": {
           "style": "dark"
          }
         }
        },
        "scene": {
         "domain": {
          "x": [
           0.0,
           1.0
          ],
          "y": [
           0.0,
           1.0
          ]
         },
         "xaxis": {
          "title": {
           "text": "X"
          }
         },
         "yaxis": {
          "title": {
           "text": "Y"
          }
         },
         "zaxis": {
          "title": {
           "text": "Z"
          }
         }
        },
        "coloraxis": {
         "colorbar": {
          "title": {
           "text": "Episode"
          }
         },
         "colorscale": [
          [
           0.0,
           "#0d0887"
          ],
          [
           0.1111111111111111,
           "#46039f"
          ],
          [
           0.2222222222222222,
           "#7201a8"
          ],
          [
           0.3333333333333333,
           "#9c179e"
          ],
          [
           0.4444444444444444,
           "#bd3786"
          ],
          [
           0.5555555555555556,
           "#d8576b"
          ],
          [
           0.6666666666666666,
           "#ed7953"
          ],
          [
           0.7777777777777778,
           "#fb9f3a"
          ],
          [
           0.8888888888888888,
           "#fdca26"
          ],
          [
           1.0,
           "#f0f921"
          ]
         ]
        },
        "legend": {
         "title": {
          "text": "Type"
         },
         "tracegroupgap": 0
        },
        "title": {
         "text": "Trajectory and Waypoints per Episode"
        }
       },
       "config": {
        "plotlyServerURL": "https://plot.ly"
       }
      },
      "text/html": "<div>                            <div id=\"55a2a6d8-d991-4fd6-9d04-6dd6ffce0e66\" class=\"plotly-graph-div\" style=\"height:525px; width:100%;\"></div>            <script type=\"text/javascript\">                require([\"plotly\"], function(Plotly) {                    window.PLOTLYENV=window.PLOTLYENV || {};                                    if (document.getElementById(\"55a2a6d8-d991-4fd6-9d04-6dd6ffce0e66\")) {                    Plotly.newPlot(                        \"55a2a6d8-d991-4fd6-9d04-6dd6ffce0e66\",                        [{\"customdata\":[[0,\"Step: 0\"],[1,\"Step: 1\"],[2,\"Step: 2\"],[3,\"Step: 3\"],[4,\"Step: 4\"],[5,\"Step: 5\"],[6,\"Step: 6\"],[7,\"Step: 7\"],[8,\"Step: 8\"],[9,\"Step: 9\"],[10,\"Step: 10\"],[11,\"Step: 11\"],[12,\"Step: 12\"],[13,\"Step: 13\"],[14,\"Step: 14\"],[15,\"Step: 15\"],[16,\"Step: 16\"],[17,\"Step: 17\"],[18,\"Step: 18\"],[19,\"Step: 19\"],[20,\"Step: 20\"],[21,\"Step: 21\"],[22,\"Step: 22\"],[23,\"Step: 23\"],[24,\"Step: 24\"],[25,\"Step: 25\"],[26,\"Step: 26\"],[27,\"Step: 27\"],[28,\"Step: 28\"],[29,\"Step: 29\"],[30,\"Step: 30\"],[31,\"Step: 31\"],[32,\"Step: 32\"],[33,\"Step: 33\"],[34,\"Step: 34\"],[35,\"Step: 35\"],[36,\"Step: 36\"],[37,\"Step: 37\"],[38,\"Step: 38\"],[39,\"Step: 39\"],[40,\"Step: 40\"],[41,\"Step: 41\"],[0,\"Step: 0\"],[1,\"Step: 1\"],[2,\"Step: 2\"],[3,\"Step: 3\"],[4,\"Step: 4\"],[5,\"Step: 5\"],[6,\"Step: 6\"],[7,\"Step: 7\"],[8,\"Step: 8\"],[9,\"Step: 9\"],[10,\"Step: 10\"],[11,\"Step: 11\"],[12,\"Step: 12\"],[13,\"Step: 13\"],[14,\"Step: 14\"],[15,\"Step: 15\"],[16,\"Step: 16\"],[17,\"Step: 17\"],[18,\"Step: 18\"],[19,\"Step: 19\"],[20,\"Step: 20\"],[21,\"Step: 21\"],[22,\"Step: 22\"],[23,\"Step: 23\"],[24,\"Step: 24\"],[25,\"Step: 25\"],[26,\"Step: 26\"],[27,\"Step: 27\"],[28,\"Step: 28\"],[29,\"Step: 29\"],[30,\"Step: 30\"],[31,\"Step: 31\"],[32,\"Step: 32\"],[33,\"Step: 33\"],[34,\"Step: 34\"],[35,\"Step: 35\"],[36,\"Step: 36\"],[37,\"Step: 37\"],[38,\"Step: 38\"],[39,\"Step: 39\"],[40,\"Step: 40\"],[41,\"Step: 41\"],[42,\"Step: 42\"],[43,\"Step: 43\"],[44,\"Step: 44\"],[45,\"Step: 45\"],[46,\"Step: 46\"],[47,\"Step: 47\"],[48,\"Step: 48\"],[49,\"Step: 49\"],[0,\"Step: 0\"],[1,\"Step: 1\"],[2,\"Step: 2\"],[3,\"Step: 3\"],[4,\"Step: 4\"],[5,\"Step: 5\"],[6,\"Step: 6\"],[7,\"Step: 7\"],[8,\"Step: 8\"],[9,\"Step: 9\"],[10,\"Step: 10\"],[11,\"Step: 11\"],[12,\"Step: 12\"],[13,\"Step: 13\"],[14,\"Step: 14\"],[15,\"Step: 15\"],[16,\"Step: 16\"],[17,\"Step: 17\"],[18,\"Step: 18\"],[19,\"Step: 19\"],[20,\"Step: 20\"],[21,\"Step: 21\"],[22,\"Step: 22\"],[23,\"Step: 23\"],[24,\"Step: 24\"],[25,\"Step: 25\"],[26,\"Step: 26\"],[27,\"Step: 27\"],[28,\"Step: 28\"],[29,\"Step: 29\"],[30,\"Step: 30\"],[31,\"Step: 31\"],[32,\"Step: 32\"],[33,\"Step: 33\"],[34,\"Step: 34\"],[35,\"Step: 35\"],[36,\"Step: 36\"],[37,\"Step: 37\"],[38,\"Step: 38\"],[39,\"Step: 39\"],[40,\"Step: 40\"],[41,\"Step: 41\"],[42,\"Step: 42\"],[43,\"Step: 43\"],[0,\"Step: 0\"],[1,\"Step: 1\"],[2,\"Step: 2\"],[3,\"Step: 3\"],[4,\"Step: 4\"],[5,\"Step: 5\"],[6,\"Step: 6\"],[7,\"Step: 7\"],[8,\"Step: 8\"],[9,\"Step: 9\"],[10,\"Step: 10\"],[11,\"Step: 11\"],[12,\"Step: 12\"],[13,\"Step: 13\"],[14,\"Step: 14\"],[15,\"Step: 15\"],[16,\"Step: 16\"],[17,\"Step: 17\"],[18,\"Step: 18\"],[19,\"Step: 19\"],[20,\"Step: 20\"],[21,\"Step: 21\"],[22,\"Step: 22\"],[23,\"Step: 23\"],[24,\"Step: 24\"],[25,\"Step: 25\"],[26,\"Step: 26\"],[27,\"Step: 27\"],[28,\"Step: 28\"],[29,\"Step: 29\"],[30,\"Step: 30\"],[31,\"Step: 31\"],[32,\"Step: 32\"],[33,\"Step: 33\"],[34,\"Step: 34\"],[35,\"Step: 35\"],[36,\"Step: 36\"],[37,\"Step: 37\"],[38,\"Step: 38\"],[39,\"Step: 39\"],[40,\"Step: 40\"],[41,\"Step: 41\"],[42,\"Step: 42\"],[43,\"Step: 43\"],[44,\"Step: 44\"],[45,\"Step: 45\"],[46,\"Step: 46\"],[47,\"Step: 47\"],[48,\"Step: 48\"],[49,\"Step: 49\"],[50,\"Step: 50\"],[51,\"Step: 51\"],[0,\"Step: 0\"],[1,\"Step: 1\"],[2,\"Step: 2\"],[3,\"Step: 3\"],[4,\"Step: 4\"],[5,\"Step: 5\"],[6,\"Step: 6\"],[7,\"Step: 7\"],[8,\"Step: 8\"],[9,\"Step: 9\"],[10,\"Step: 10\"],[11,\"Step: 11\"],[12,\"Step: 12\"],[13,\"Step: 13\"],[14,\"Step: 14\"],[15,\"Step: 15\"],[16,\"Step: 16\"],[17,\"Step: 17\"],[18,\"Step: 18\"],[19,\"Step: 19\"],[20,\"Step: 20\"],[21,\"Step: 21\"],[22,\"Step: 22\"],[23,\"Step: 23\"],[24,\"Step: 24\"],[25,\"Step: 25\"],[26,\"Step: 26\"],[27,\"Step: 27\"],[28,\"Step: 28\"],[29,\"Step: 29\"],[30,\"Step: 30\"],[31,\"Step: 31\"],[32,\"Step: 32\"],[33,\"Step: 33\"],[34,\"Step: 34\"],[35,\"Step: 35\"],[36,\"Step: 36\"],[37,\"Step: 37\"],[38,\"Step: 38\"],[39,\"Step: 39\"],[40,\"Step: 40\"],[41,\"Step: 41\"],[42,\"Step: 42\"],[0,\"Step: 0\"],[1,\"Step: 1\"],[2,\"Step: 2\"],[3,\"Step: 3\"],[4,\"Step: 4\"],[5,\"Step: 5\"],[6,\"Step: 6\"],[7,\"Step: 7\"],[8,\"Step: 8\"],[9,\"Step: 9\"],[10,\"Step: 10\"],[11,\"Step: 11\"],[12,\"Step: 12\"],[13,\"Step: 13\"],[14,\"Step: 14\"],[15,\"Step: 15\"],[16,\"Step: 16\"],[17,\"Step: 17\"],[18,\"Step: 18\"],[19,\"Step: 19\"],[20,\"Step: 20\"],[21,\"Step: 21\"],[22,\"Step: 22\"],[23,\"Step: 23\"],[24,\"Step: 24\"],[25,\"Step: 25\"],[26,\"Step: 26\"],[27,\"Step: 27\"],[28,\"Step: 28\"],[29,\"Step: 29\"],[30,\"Step: 30\"],[31,\"Step: 31\"],[32,\"Step: 32\"],[33,\"Step: 33\"],[34,\"Step: 34\"],[35,\"Step: 35\"],[36,\"Step: 36\"],[37,\"Step: 37\"],[38,\"Step: 38\"],[0,\"Step: 0\"],[1,\"Step: 1\"],[2,\"Step: 2\"],[3,\"Step: 3\"],[4,\"Step: 4\"],[5,\"Step: 5\"],[6,\"Step: 6\"],[7,\"Step: 7\"],[8,\"Step: 8\"],[9,\"Step: 9\"],[10,\"Step: 10\"],[11,\"Step: 11\"],[12,\"Step: 12\"],[13,\"Step: 13\"],[14,\"Step: 14\"],[15,\"Step: 15\"],[16,\"Step: 16\"],[17,\"Step: 17\"],[18,\"Step: 18\"],[19,\"Step: 19\"],[20,\"Step: 20\"],[21,\"Step: 21\"],[22,\"Step: 22\"],[23,\"Step: 23\"],[24,\"Step: 24\"],[25,\"Step: 25\"],[26,\"Step: 26\"],[27,\"Step: 27\"],[28,\"Step: 28\"],[29,\"Step: 29\"],[30,\"Step: 30\"],[31,\"Step: 31\"],[32,\"Step: 32\"],[33,\"Step: 33\"],[34,\"Step: 34\"],[35,\"Step: 35\"],[36,\"Step: 36\"],[37,\"Step: 37\"],[38,\"Step: 38\"],[39,\"Step: 39\"],[40,\"Step: 40\"],[41,\"Step: 41\"],[42,\"Step: 42\"],[43,\"Step: 43\"],[44,\"Step: 44\"],[0,\"Step: 0\"],[1,\"Step: 1\"],[2,\"Step: 2\"],[3,\"Step: 3\"],[4,\"Step: 4\"],[5,\"Step: 5\"],[6,\"Step: 6\"],[7,\"Step: 7\"],[8,\"Step: 8\"],[9,\"Step: 9\"],[10,\"Step: 10\"],[11,\"Step: 11\"],[12,\"Step: 12\"],[13,\"Step: 13\"],[14,\"Step: 14\"],[15,\"Step: 15\"],[16,\"Step: 16\"],[17,\"Step: 17\"],[18,\"Step: 18\"],[19,\"Step: 19\"],[20,\"Step: 20\"],[21,\"Step: 21\"],[22,\"Step: 22\"],[23,\"Step: 23\"],[24,\"Step: 24\"],[25,\"Step: 25\"],[26,\"Step: 26\"],[27,\"Step: 27\"],[28,\"Step: 28\"],[29,\"Step: 29\"],[30,\"Step: 30\"],[31,\"Step: 31\"],[32,\"Step: 32\"],[33,\"Step: 33\"],[34,\"Step: 34\"],[35,\"Step: 35\"],[36,\"Step: 36\"],[37,\"Step: 37\"],[38,\"Step: 38\"],[39,\"Step: 39\"],[40,\"Step: 40\"],[41,\"Step: 41\"],[42,\"Step: 42\"],[43,\"Step: 43\"],[44,\"Step: 44\"],[45,\"Step: 45\"],[46,\"Step: 46\"],[47,\"Step: 47\"],[48,\"Step: 48\"],[49,\"Step: 49\"],[50,\"Step: 50\"],[51,\"Step: 51\"],[52,\"Step: 52\"],[53,\"Step: 53\"],[54,\"Step: 54\"],[55,\"Step: 55\"],[56,\"Step: 56\"],[57,\"Step: 57\"],[58,\"Step: 58\"],[59,\"Step: 59\"],[60,\"Step: 60\"],[61,\"Step: 61\"],[62,\"Step: 62\"],[63,\"Step: 63\"],[64,\"Step: 64\"],[65,\"Step: 65\"],[66,\"Step: 66\"],[67,\"Step: 67\"],[68,\"Step: 68\"],[69,\"Step: 69\"],[0,\"Step: 0\"],[1,\"Step: 1\"],[2,\"Step: 2\"],[3,\"Step: 3\"],[4,\"Step: 4\"],[5,\"Step: 5\"],[6,\"Step: 6\"],[7,\"Step: 7\"],[8,\"Step: 8\"],[9,\"Step: 9\"],[10,\"Step: 10\"],[11,\"Step: 11\"],[12,\"Step: 12\"],[13,\"Step: 13\"],[14,\"Step: 14\"],[15,\"Step: 15\"],[16,\"Step: 16\"],[17,\"Step: 17\"],[18,\"Step: 18\"],[19,\"Step: 19\"],[20,\"Step: 20\"],[21,\"Step: 21\"],[22,\"Step: 22\"],[23,\"Step: 23\"],[24,\"Step: 24\"],[25,\"Step: 25\"],[26,\"Step: 26\"],[27,\"Step: 27\"],[28,\"Step: 28\"],[29,\"Step: 29\"],[30,\"Step: 30\"],[31,\"Step: 31\"],[32,\"Step: 32\"],[33,\"Step: 33\"],[34,\"Step: 34\"],[35,\"Step: 35\"],[36,\"Step: 36\"],[37,\"Step: 37\"],[38,\"Step: 38\"],[39,\"Step: 39\"],[40,\"Step: 40\"],[41,\"Step: 41\"],[42,\"Step: 42\"],[43,\"Step: 43\"],[44,\"Step: 44\"],[45,\"Step: 45\"],[46,\"Step: 46\"],[47,\"Step: 47\"],[0,\"Step: 0\"],[1,\"Step: 1\"],[2,\"Step: 2\"],[3,\"Step: 3\"],[4,\"Step: 4\"],[5,\"Step: 5\"],[6,\"Step: 6\"],[7,\"Step: 7\"],[8,\"Step: 8\"],[9,\"Step: 9\"],[10,\"Step: 10\"],[11,\"Step: 11\"],[12,\"Step: 12\"],[13,\"Step: 13\"],[14,\"Step: 14\"],[15,\"Step: 15\"],[16,\"Step: 16\"],[17,\"Step: 17\"],[18,\"Step: 18\"],[19,\"Step: 19\"],[20,\"Step: 20\"],[21,\"Step: 21\"],[22,\"Step: 22\"],[23,\"Step: 23\"],[24,\"Step: 24\"],[25,\"Step: 25\"],[26,\"Step: 26\"],[27,\"Step: 27\"],[28,\"Step: 28\"],[29,\"Step: 29\"],[30,\"Step: 30\"],[31,\"Step: 31\"],[32,\"Step: 32\"],[33,\"Step: 33\"],[34,\"Step: 34\"],[35,\"Step: 35\"],[36,\"Step: 36\"],[37,\"Step: 37\"],[38,\"Step: 38\"],[39,\"Step: 39\"],[40,\"Step: 40\"],[41,\"Step: 41\"],[42,\"Step: 42\"],[43,\"Step: 43\"],[44,\"Step: 44\"],[45,\"Step: 45\"],[46,\"Step: 46\"],[47,\"Step: 47\"]],\"hovertemplate\":\"Episode: %{customdata[0]}\\u003cbr\\u003eStep: %{customdata[1]}\\u003cbr\\u003eX: %{x}\\u003cbr\\u003eY: %{y}\\u003cbr\\u003eZ: %{z}\\u003cbr\\u003e%{customdata[2]}\\u003cextra\\u003e\\u003c\\u002fextra\\u003e\",\"legendgroup\":\"Position\",\"marker\":{\"color\":[0,0,0,0,0,0,0,0,0,0,0,0,0,0,0,0,0,0,0,0,0,0,0,0,0,0,0,0,0,0,0,0,0,0,0,0,0,0,0,0,0,0,1,1,1,1,1,1,1,1,1,1,1,1,1,1,1,1,1,1,1,1,1,1,1,1,1,1,1,1,1,1,1,1,1,1,1,1,1,1,1,1,1,1,1,1,1,1,1,1,1,1,2,2,2,2,2,2,2,2,2,2,2,2,2,2,2,2,2,2,2,2,2,2,2,2,2,2,2,2,2,2,2,2,2,2,2,2,2,2,2,2,2,2,2,2,3,3,3,3,3,3,3,3,3,3,3,3,3,3,3,3,3,3,3,3,3,3,3,3,3,3,3,3,3,3,3,3,3,3,3,3,3,3,3,3,3,3,3,3,3,3,3,3,3,3,3,3,4,4,4,4,4,4,4,4,4,4,4,4,4,4,4,4,4,4,4,4,4,4,4,4,4,4,4,4,4,4,4,4,4,4,4,4,4,4,4,4,4,4,4,5,5,5,5,5,5,5,5,5,5,5,5,5,5,5,5,5,5,5,5,5,5,5,5,5,5,5,5,5,5,5,5,5,5,5,5,5,5,5,6,6,6,6,6,6,6,6,6,6,6,6,6,6,6,6,6,6,6,6,6,6,6,6,6,6,6,6,6,6,6,6,6,6,6,6,6,6,6,6,6,6,6,6,6,7,7,7,7,7,7,7,7,7,7,7,7,7,7,7,7,7,7,7,7,7,7,7,7,7,7,7,7,7,7,7,7,7,7,7,7,7,7,7,7,7,7,7,7,7,7,7,7,7,7,7,7,7,7,7,7,7,7,7,7,7,7,7,7,7,7,7,7,7,7,8,8,8,8,8,8,8,8,8,8,8,8,8,8,8,8,8,8,8,8,8,8,8,8,8,8,8,8,8,8,8,8,8,8,8,8,8,8,8,8,8,8,8,8,8,8,8,8,9,9,9,9,9,9,9,9,9,9,9,9,9,9,9,9,9,9,9,9,9,9,9,9,9,9,9,9,9,9,9,9,9,9,9,9,9,9,9,9,9,9,9,9,9,9,9,9],\"coloraxis\":\"coloraxis\",\"symbol\":\"circle\",\"size\":5},\"mode\":\"markers\",\"name\":\"Position\",\"scene\":\"scene\",\"showlegend\":true,\"x\":[-0.0002203465983364971,-0.0026973310686410055,-0.007435382969885225,-0.01224571459208035,-0.017085833855001304,-0.02196023915503254,-0.026873798187932552,-0.03573718140478406,-0.050406255966656634,-0.06532602462284895,-0.08313679564669309,-0.10824150581822826,-0.13723339020208447,-0.16650981322483896,-0.20075974295719126,-0.24150649817552822,-0.2827711134984943,-0.3282167279502519,-0.3783545115449741,-0.4348595523592474,-0.49990769866637935,-0.5668023487319294,-0.6422706598473301,-0.7304209873343634,-0.8316360741720494,-0.9448213019138337,-1.0638563386095594,-1.193518786127751,-1.3407978646603496,-1.5024869800403076,-1.67630615855671,-1.863227475632422,-2.06044540393657,-2.2647685827484016,-2.483813556677858,-2.7172342064010935,-2.962472299758475,-3.2166705353917955,-3.479455916492333,-3.7501304308305548,-4.026871519422448,-4.307699226465487,-0.00032246480675553744,-0.003854158355283152,-0.01014563069880822,-0.016556659335036368,-0.02301186915989729,-0.029493282378068815,-0.03599761210311295,-0.044798160821451806,-0.05723779742081782,-0.06986331324465611,-0.0825357304491714,-0.09876848664882824,-0.12031580983272831,-0.1420262128431644,-0.1654247387872432,-0.19636173001141854,-0.2334479733311246,-0.2706983467699009,-0.3082719329722439,-0.3528865477032721,-0.4060247091171728,-0.4594723491832364,-0.5159520602742901,-0.5772176991803181,-0.6477163310021705,-0.7293345391521909,-0.8140416392242789,-0.9104845433805366,-1.0176369315316942,-1.1248645473347079,-1.2328874136307009,-1.3511122163842817,-1.4805951262944201,-1.6124756686482302,-1.7579880908302687,-1.9186315992067073,-2.0914394869546924,-2.2825162531190974,-2.4873896288058805,-2.7102026662645344,-2.9499228447240924,-3.203677228545483,-3.4743845482071456,-3.760013152843,-4.061088040078349,-4.376066110675685,-4.708041560995653,-5.055959518490725,-5.418863020346635,-5.795056553951982,0.00037366818188783234,0.004045993040977223,0.010480081112140006,0.017004833876065717,0.02356364924096078,0.030159824097658466,0.03790062219757267,0.05193754278466706,0.07169354511854004,0.09161666384471001,0.11162221195984255,0.13714679037381083,0.17011107229360714,0.20323653874774683,0.23774767970044053,0.28133590066251524,0.3365813823009983,0.3949372397718828,0.45470988446761446,0.5233905234706474,0.6013648184893917,0.6795133378195574,0.7585522387802324,0.8472874089184291,0.9517164622802933,1.0638586846172884,1.1812687358395575,1.305142993147036,1.4425421769945928,1.6008798484477664,1.772112286741003,1.9469328851671799,2.135600271383937,2.338502646945503,2.5495039246690374,2.7782079644508912,3.027059543313957,3.2948253736671074,3.586738536937763,3.902447053433828,4.241371275000353,4.6032661330493365,4.9887940535666875,5.398014935294216,0.00012552416178642707,0.0013926596221827822,0.003993369899621873,0.006719735412845597,0.009475902265698097,0.012252343469057668,0.01504718844769451,0.019347254406006806,0.027297786518218316,0.036918750651587236,0.0465907916159388,0.05628151539332898,0.06598788300330698,0.07623890503924964,0.08925123679095469,0.10465182399779008,0.12011316907435275,0.13568158641263803,0.1527549256113906,0.1716931114708998,0.19072144001302513,0.2100031091930445,0.23154146803734452,0.25545188174909234,0.2793920558228788,0.30374550069978973,0.3309990865006099,0.3612673539634423,0.3917701572845879,0.4223516098838551,0.45505771032208414,0.491199169245238,0.5280336884701293,0.5653815142572771,0.605016286486163,0.6478980910151736,0.6922746174181654,0.7376152221150036,0.7858423137528522,0.8372771345066761,0.8909655411119408,0.9457425272740263,1.0005176314264403,1.0544830771536762,1.1064222185721757,1.1554068907572155,1.2005485770981421,1.2408716411790586,1.2757139371460078,1.3039576831438173,1.3248242058992068,1.3378392435058042,0.0002197067658840742,0.002535722586631484,0.00644333570394962,0.01039783284349102,0.014361878062572301,0.018331767093861247,0.022417215618419636,0.027579481761716228,0.033867244950374596,0.04028033702688021,0.04683044009198937,0.053610933277621065,0.06309297008107874,0.07575520832310412,0.08848739785888529,0.10198151103572323,0.11967475767816924,0.14102063658886935,0.16242721639939897,0.18385008183520926,0.20703911796800684,0.23542748892035514,0.2666124261761511,0.2978168637034152,0.3291803134736889,0.3629575617997019,0.39966648616547235,0.43908531699001135,0.4849748265327526,0.5395621463421039,0.6070419455066087,0.6889703760223744,0.7870564702531487,0.9027921782231062,1.0371179160345834,1.1915247390832104,1.3674672976882267,1.5655024649160212,1.7859985200825341,2.0304065661939843,2.299104731739727,2.5918938961088807,2.909853805277544,0.0003313765513170616,0.00391356004386865,0.01045216688499199,0.01710341828102341,0.023801492703640414,0.03054107582668791,0.040982478961941925,0.056629968853487755,0.07242081564343575,0.09202051677365088,0.11800221167121112,0.14510087267976018,0.1776698519926833,0.2210538283127777,0.26774315713629543,0.31460549568251683,0.36727326701013735,0.4357954042864925,0.5127376455045388,0.5897163128508901,0.6666347733821611,0.743683008663917,0.8266214766157229,0.9223938705722406,1.0277730890525543,1.1438088280422785,1.268452815206689,1.3995916850293455,1.5441445436889947,1.7051726058838812,1.8822570079022483,2.074808120313205,2.2826328156840847,2.505547485168844,2.7435918750931454,2.997158670853864,3.265237388750923,3.547935400750716,3.8463439545387526,0.00038930395638370354,0.004489081297082494,0.01172299551857741,0.019088330591389643,0.02649762293095504,0.03395232926115175,0.04228024339332694,0.05686117572661008,0.0780610609124267,0.09966094712220819,0.12134549629281362,0.14752036001686353,0.18363818958982148,0.2233529464698795,0.2631499594756016,0.30453992467850977,0.3551803362906168,0.4147117219929855,0.4746751339867847,0.5352701899840958,0.6039013517904388,0.6834498946438043,0.7646563631730495,0.8477188386346214,0.941796273775854,1.0490064929931258,1.160780760527883,1.2774112968525828,1.4020207704662586,1.5357241687043899,1.6760756255092966,1.8266663043293518,1.995324917672545,2.181745448591552,2.3772064260186174,2.5805115352742294,2.804873755329866,3.049133577336167,3.3114121377027366,3.597004716412425,3.9056045144131146,4.2370896348245655,4.591621054103011,4.968642961972212,5.369283596797194,-0.00037677465093062675,-0.004125117269274393,-0.009994300213750267,-0.015907818956697642,-0.021833137610043796,-0.027764154256220776,-0.03369715413827021,-0.03988059924523921,-0.04707465564056217,-0.054492990564947705,-0.06191550360081634,-0.06933704047532024,-0.07708419859166683,-0.08650683733728572,-0.09672054958329834,-0.10698948054587139,-0.11739116558813366,-0.12793606237911456,-0.1384977990757827,-0.1490692144299937,-0.16167655737938494,-0.17760193989879702,-0.1938614872329015,-0.2101427067850476,-0.22858394351411657,-0.25168626010976863,-0.276273112412529,-0.30089668351834814,-0.32553384612552705,-0.3513420066907357,-0.38370756687459007,-0.4220034860223572,-0.4604316935786939,-0.4988724658201714,-0.5385042902521876,-0.58392968661214,-0.634029659174661,-0.6843408350426899,-0.7384398161445133,-0.7982199610800184,-0.8589589917573276,-0.9218183204270868,-0.9905283515320567,-1.0622712870867803,-1.1359745615084669,-1.2188805178159332,-1.3093220879487417,-1.3997989575930643,-1.4908759004164418,-1.5886215543282785,-1.6958322341834056,-1.8060914589857808,-1.9209013239779429,-2.044006496954441,-2.1716480334831445,-2.3051227657827376,-2.4522591806264313,-2.6099775599818575,-2.77398483033691,-2.9476564737941646,-3.130797105165122,-3.325405959543644,-3.534025630984214,-3.758126119100939,-4.00030130926757,-4.262520276205432,-4.549154259211856,-4.861961556764849,-5.205152212521022,-5.583055556064021,-0.0001274678233136012,-0.001549161193885973,-0.004323656925747663,-0.007152910771068631,-0.01000209265891469,-0.012875184614917627,-0.01577579090500928,-0.021507153150488924,-0.031675220693841356,-0.04238213539974363,-0.05315187833147323,-0.06691543170344988,-0.08467416075131463,-0.10254120877952608,-0.12102534966578313,-0.14490847019497513,-0.17469184985423208,-0.20553140769135778,-0.23808046623846754,-0.2725166830100582,-0.3139018851444091,-0.36155391938258574,-0.40931389561021164,-0.4581077207850685,-0.5138063152953838,-0.5760965332547334,-0.6390893329501965,-0.7070533204967825,-0.7804724902252657,-0.8579061743769344,-0.9421526239458625,-1.0327670804522917,-1.1354575522017776,-1.2460501689723618,-1.3590859862912994,-1.4815326525650234,-1.6158309554869654,-1.757538006312812,-1.9074077073166233,-2.0686976823545757,-2.2394941704170086,-2.414041648979939,-2.591557340975908,-2.776907151559292,-2.9693589724333123,-3.1670945538049096,-3.3680776075147905,-3.5709587905551325,6.0100871015512595e-05,0.0007645604139092024,0.003626863035799868,0.008288752256254814,0.01302021458549583,0.017774821012567936,0.02255245964724799,0.027353212494655384,0.032178057029485035,0.037027641736331836,0.04190694783546739,0.0491478934833159,0.0612953883672286,0.0751457721382526,0.0890408963058767,0.10298039683067702,0.11965968632552362,0.14003521861254922,0.16067142264025536,0.18321563181924794,0.20920481034941474,0.23620328657283987,0.26381622777552904,0.29278201337424337,0.3228094160295253,0.3539587835078244,0.3860472805901598,0.4181593487402642,0.4494682391086429,0.4790283110481644,0.5054211089673418,0.5280174244959677,0.5467813508699482,0.5590353364771551,0.5641835298805878,0.5633615602355739,0.5547611277583808,0.5390615998655832,0.5147215036309596,0.4810381649934621,0.43894794368101875,0.38793740717805436,0.329680094852733,0.26296664767213,0.18702453276405082,0.10247613387412427,0.006341715682798399,-0.1092062386885667],\"y\":[0.000351185883458271,0.00391615967367672,0.009853798681816484,0.015852741806512367,0.0218704795783682,0.02790696888113933,0.033962364392233976,0.04190904278700723,0.05291948463140377,0.06406952986968552,0.07659873954798742,0.09306011305097821,0.11176735005528389,0.13065396335094595,0.15310522568260618,0.18016698786563892,0.20761831988734675,0.238325888660877,0.2726115342173871,0.31158896171509315,0.35687766856360204,0.4033787830189647,0.45553198314339594,0.516097970048082,0.5857931839290804,0.6644513857927843,0.7476910770731892,0.8399405347375768,0.9480694610280832,1.0708644610673874,1.2074854946100309,1.360821548329023,1.52786209336458,1.7053759302623892,1.9057895700989538,2.1311548910117732,2.3794626875510843,2.648268591099078,2.941459926505764,3.2627265806192054,3.6133839084717874,3.994173787708044,0.0002450011632906017,0.0028606086454193726,0.007096511580795096,0.011365147510628986,0.01563650324810555,0.0199078061981947,0.024178429770139086,0.028578562389589376,0.03348653136513685,0.038419846419371,0.04335064495056604,0.047998136831754405,0.05252862349802269,0.057067017622635774,0.061806037075508066,0.0677714307410319,0.07477347041527246,0.08179085270852031,0.0888205662492997,0.09632913997407763,0.10446035056899679,0.11259745229809705,0.1208865672145385,0.1294505953969757,0.13873003977281512,0.1491047878495733,0.1598768978227786,0.17296706647395738,0.1883806100430464,0.20380326415697078,0.2193962669914398,0.23739897463126364,0.2579470750162131,0.27896923775070254,0.3029505863352073,0.3304751416576983,0.3615379899005378,0.3986817372941486,0.44158671570043756,0.4932565887047447,0.554099665271341,0.6240299836769074,0.7063635470527773,0.8015360466058219,0.9114250383556508,1.0365350229777253,1.1819534597218169,1.3493036229905526,1.5402226272565964,1.7559723184676235,-0.00024516417855480145,-0.0026868925400525354,-0.006748327262456495,-0.010848634953294686,-0.01495809367087916,-0.019075019483561217,-0.023373452431711534,-0.028781859720847906,-0.035076676007789985,-0.04139288743271628,-0.04771725158337714,-0.05477793618754163,-0.06295592396801823,-0.07115643514147031,-0.0795475263338207,-0.08957850072841811,-0.10184267691923095,-0.11463100237170482,-0.1277470388812202,-0.14329043330107843,-0.161432195578495,-0.17962083434312487,-0.19801086313279698,-0.2187207301118662,-0.24311762468561796,-0.26950425768614494,-0.2974900633997142,-0.32771832353189956,-0.3629248835111835,-0.406080301827899,-0.4542757421231378,-0.5040993385050593,-0.5602010839086102,-0.6227815236037794,-0.6895368279850966,-0.7658169033525863,-0.8532411793706504,-0.9519113031408619,-1.065608038362804,-1.1949641187153983,-1.3403686829890697,-1.5022150856110221,-1.6811000821520816,-1.8767949931367138,-0.0003602563963633161,-0.0043847193640935336,-0.011865771964300898,-0.019588515332443466,-0.027351512609788346,-0.0351377683869114,-0.04294312451936964,-0.05256200100754133,-0.06801682794194845,-0.08611181045133896,-0.10427330266686916,-0.12245464012905576,-0.14065117519343787,-0.15948505298647817,-0.18202115697410298,-0.20768175976506079,-0.23342000396810267,-0.259319175609155,-0.28767435034939737,-0.31899674408421325,-0.3504760823903567,-0.38249805503075834,-0.419393235893025,-0.46144046163445485,-0.5035699915317906,-0.5466370520570933,-0.5962456855664925,-0.6529110705062633,-0.7102029189489062,-0.7677862637754517,-0.8314370111359186,-0.9043717163362894,-0.9792461857583025,-1.0557799020453955,-1.1390309208202503,-1.2317367753397883,-1.3289464946397922,-1.4296841166712555,-1.5419267870480748,-1.6707976142567136,-1.818864757047264,-1.9875898077856597,-2.1774175735870944,-2.3906925049972263,-2.627705410643976,-2.892117283082633,-3.185123847810823,-3.506776012477057,-3.8582868448754124,-4.2406647620566895,-4.653987952862269,-5.097731340029119,0.0003278502017343081,0.0038419138273009137,0.010328026068885077,0.016932324003391373,0.023580531397819567,0.03026785783048666,0.037888601554321215,0.05176567111489602,0.07164469026265165,0.09193273297115771,0.1126066138404148,0.13386463110475502,0.16165638332974305,0.19673581718230324,0.23197473339767744,0.2693165416823696,0.3176907113327043,0.37570699445163946,0.43391778249486185,0.4922069898588032,0.5568794360769916,0.6384505162581513,0.7287779269797776,0.8191559378026905,0.9099351299005332,1.0065819673877432,1.1101497901690398,1.2190414884929768,1.3396512107779204,1.4732019564098917,1.6229583759180861,1.787715949851998,1.9670320745769845,2.1602948630724965,2.3667545115635162,2.5867831990475882,2.820078225272588,3.066418552284336,3.3245271961873732,3.5941974812847057,3.8744337814476957,4.164924714054127,4.465837137040144,-0.0002130617039103393,-0.00243501961585647,-0.006202253863096369,-0.010009716622329393,-0.013824483694242589,-0.01764277135521865,-0.02176574001306914,-0.026533008352788857,-0.031325640753275145,-0.03711711124066199,-0.044718283728919374,-0.0526812651343808,-0.06285515011312877,-0.07785845952368019,-0.09442051401637347,-0.11107225289656861,-0.13077597081309023,-0.15900052231989123,-0.1917375251655065,-0.22450604251871015,-0.25725911177208627,-0.29007299527489255,-0.3252175767414644,-0.36526192883434705,-0.4091717911921071,-0.4579314709590778,-0.5108750974703928,-0.5674839119951516,-0.6322981318921181,-0.7086268832134969,-0.7979429908333447,-0.9014964750001822,-1.020235898924485,-1.1557974442441887,-1.3097018310171848,-1.4828530563664433,-1.6753772123807813,-1.8873915965768384,-2.118955547038985,-0.00019863850386855357,-0.002204080847716092,-0.005464613182737606,-0.00876493928963216,-0.012073853806388524,-0.015389337569649624,-0.018802217067191714,-0.023054273882737224,-0.02832553153040987,-0.03365253855685497,-0.03898431898262687,-0.044677274894386124,-0.051645739420020216,-0.059115923903528565,-0.06659354059516985,-0.07433279181542443,-0.08378853929081824,-0.09495332536155356,-0.1062203871441417,-0.11769697971267318,-0.13184537599873786,-0.1494511074181263,-0.16752350461421867,-0.18614605334066567,-0.2081715719177661,-0.23419675936029397,-0.2617440835721791,-0.2910667009001696,-0.3234000328296058,-0.3593256403509072,-0.39802367415975937,-0.44118166848436075,-0.49232300300415704,-0.5516422737781951,-0.6153720111232736,-0.6833296364701664,-0.7624203076194195,-0.8524553079667824,-0.9531291993569573,-1.0682523091703344,-1.1984191215605424,-1.3446025236964527,-1.5080412027479355,-1.6887128774075248,-1.8878334213477537,-0.00020817484966177306,-0.0024037474365374224,-0.006340237878885931,-0.010339249369336676,-0.014374562992841648,-0.018443357984398803,-0.022541977351694987,-0.02922712869042703,-0.040532857996569985,-0.05283086832060389,-0.0651886308288552,-0.07757146532710038,-0.09231479015982337,-0.11330024084145159,-0.13738796626599842,-0.1616943196631675,-0.18629592701233502,-0.2111637369464914,-0.23605929801704592,-0.26096788048120656,-0.28841039295680737,-0.3198545652815987,-0.35169961567608654,-0.38356452073035774,-0.41740705809401774,-0.4551396002363708,-0.49388848395165524,-0.5326359729558924,-0.5713626954655893,-0.6107141857426652,-0.6537040003635696,-0.699924449819556,-0.7461777115508664,-0.7923911826675223,-0.8391491328873937,-0.8889152144868075,-0.9411625278221327,-0.9934771828531552,-1.0482090568200537,-1.1067200261732488,-1.1658268771561293,-1.226306623597491,-1.2908781460792456,-1.3576354974307872,-1.4260484020623316,-1.5027405398639353,-1.5863092721141765,-1.66986510718615,-1.7540222898985187,-1.8454613264372106,-1.9477402174972889,-2.0535414716959433,-2.1642351246238247,-2.283660014746385,-2.407624872843601,-2.537005036506356,-2.678594849014307,-2.8292699795122354,-2.9848100041231325,-3.1474073341011715,-3.3162627050302436,-3.491738957177028,-3.6745118419081733,-3.8640261849400503,-4.060414782026733,-4.263453609212732,-4.47369621861069,-4.6905408238388455,-4.913786007063828,-5.142918890082558,0.0004178613234730092,0.004642223168136084,0.011538106372940907,0.018510466652278675,0.025505735519542837,0.03252605509011865,0.03957315844741193,0.04939689982905038,0.06394082651400179,0.07904994081654315,0.0942129983429815,0.1121095737258401,0.13400854407877943,0.15601152604457402,0.1785385725392839,0.20592436014200383,0.23867756270971394,0.27248073508982507,0.30805875078155653,0.3456698789500299,0.3913908490704747,0.4446194290712224,0.49797870872771716,0.5527064028531699,0.6165736956512349,0.6889261789378778,0.7621229946797913,0.8412871400494629,0.9269463113832282,1.0175413600403456,1.116809894929704,1.2244082871617257,1.349087882552707,1.4856728192608029,1.6262855028500707,1.7831471218293524,1.9611761688808973,2.153372541285777,2.3634089176815976,2.6006760489055094,2.8634214979928525,3.137257728517522,3.4217898841114365,3.735356553990762,4.079308930993982,4.4506817442921625,4.848582775022206,5.2764576383268365,-0.00042388312465993614,-0.005203079193177992,-0.01773967147673833,-0.0345376264094811,-0.05143696824647926,-0.06835771249224039,-0.08529586829953904,-0.10224887984329101,-0.11921548441932096,-0.13619452660348763,-0.15318794085908805,-0.17199844792633406,-0.1954714438398396,-0.2205285528649785,-0.24561521373239867,-0.27072689977917386,-0.29810205803516193,-0.32875866475708887,-0.3596607642276909,-0.39289447988741755,-0.43056146665139744,-0.4696947593534001,-0.5101000952945648,-0.5536023185277551,-0.6000394483326007,-0.6514405579930235,-0.7095150178594586,-0.7743396999803371,-0.847996888507961,-0.9299817312320183,-1.022399283188984,-1.124265289825695,-1.2333212418176085,-1.353237829814988,-1.4841587394568927,-1.6232066719504363,-1.7724752035854536,-1.9307740422360842,-2.099860533704173,-2.2803972384182005,-2.471112917625654,-2.6725753867985307,-2.8825526327206745,-3.1026398678858365,-3.3338044294960167,-3.575530097713167,-3.8318471857872147,-4.113296981826374],\"z\":[2.9503952623790632,2.9753648832158563,3.016349411671677,3.0470478711924223,3.0670411406929103,3.0763331756253787,3.0749318494780202,3.0803699760905965,3.099550965377083,3.1088203817326177,3.1182143441678773,3.1436616112507543,3.172137357751725,3.1907832199426123,3.216205799258113,3.2531054272389803,3.2808276224241424,3.310262644107843,3.3425283156237264,3.3804642399542093,3.429184341349244,3.4711422582133644,3.5201142850280616,3.584036226650294,3.663702832919103,3.7570926064499814,3.8516479238450487,3.9575062636924616,4.089276124477399,4.241238764943452,4.409722469453927,4.5981846897896315,4.800387169165152,5.009942421876249,5.24586914666232,5.509040022326485,5.795105468340332,6.0989800064487625,6.424556781451846,6.774891920348779,7.149749486807705,7.547618590855849,2.9499816514344763,2.9735701252893163,3.013711360885748,3.043962535871089,3.0637038315964555,3.0727818639623488,3.0711688737021765,3.0767340996165413,3.0966775225959093,3.1067857968646257,3.1062626188315328,3.1126363134683688,3.132866371913936,3.1428969206141097,3.148307118239008,3.169612617914056,3.2011371697666977,3.222350841762179,3.233652325875733,3.252915690709698,3.2838191793944427,3.3046851903858756,3.3215563729766937,3.338080815578564,3.363544899942779,3.401747461760277,3.4359557070674676,3.484805241824529,3.5457725204943427,3.596299323008338,3.637895386793317,3.6890872243529174,3.7516180203735536,3.807959015504157,3.8776267395125745,3.962944630212124,4.059311892588168,4.177743483030309,4.31104050182173,4.467081686622115,4.644310934127588,4.8389703319840445,5.057380258334215,5.296796973636273,5.5588077823113915,5.8416282964128765,6.152552061985833,6.490568840929754,6.854933209751499,7.2445102376794575,2.9506322753162655,2.974969083048076,3.0148447469162294,3.0444799601653316,3.063424186397832,3.071678673073742,3.074689692289133,3.095269004875622,3.129880663854408,3.1542769248844937,3.168083165664713,3.188919482192565,3.22241710763538,3.245546254651599,3.261918014663644,3.292777673696655,3.344165083981045,3.3930813740669663,3.435072770055592,3.4895694938157695,3.5572487513648388,3.614623531309114,3.6633361964486335,3.7226750671837205,3.8048973802395314,3.8931154277051943,3.981855755795261,4.073179855490275,4.180682995749618,4.318069199582575,4.469323312609833,4.616787920030012,4.7786606713197814,4.955335277371345,5.136186021649076,5.337346121437771,5.562084206710749,5.807660616684687,6.081742001304496,6.382700234765958,6.708469434174663,7.057573218150276,7.429557282324642,7.822404225840059,2.9499671990322205,2.973426687294576,3.0149533760853418,3.0474403347718515,3.0694272739381043,3.0807844641615874,3.0814890272746305,3.0899467603418835,3.1294833661504096,3.176187783143758,3.2125711185120163,3.238307510675443,3.253385867353864,3.264528637675434,3.2966534870956985,3.343648264364053,3.380480141568853,3.407799529019201,3.4411089397273273,3.4830735319713337,3.515211439026417,3.539572995460443,3.5774359984198933,3.628924469343197,3.6699990994646097,3.704164109568878,3.752779736219141,3.8170214648345895,3.8727510308813584,3.918743915534088,3.9737263408782306,4.047702233114525,4.117096544526976,4.180689398260439,4.252477260212357,4.339276675871325,4.427136399293692,4.51296552042198,4.614903193543529,4.743452925674452,4.902163132247221,5.091486085125189,5.308864330843728,5.5556042551416605,5.82940796248187,6.132592759739246,6.4632616922273325,6.818759413157791,7.197730772102239,7.5995893572469875,8.022290822181441,8.463506455693755,2.950065211564356,2.974716749297337,3.015826810297781,3.046845480206531,3.067223742214553,3.076915463021516,3.0802295805506135,3.100084782194152,3.134138764977107,3.158966805171159,3.174453073096077,3.1811402958834036,3.1987589758447337,3.229263258431979,3.249408695216852,3.264282189184828,3.296343077435788,3.341426639036382,3.376190272951414,3.400386480635685,3.429321549431938,3.4869005853391704,3.553909764145932,3.6104029973663714,3.6573461900629263,3.7083408226394075,3.765941436878696,3.826758253734667,3.907652072449441,4.013248411612581,4.154019893960034,4.328824720036571,4.537076753963521,4.778473721283852,5.0515645928571615,5.356072957897252,5.691477945691981,6.055788362854513,6.447183835048986,6.865078461065641,7.307438286491515,7.771654734419869,8.257124090253509,2.9498061345396827,2.9733724951025424,3.013187585792958,3.0428698086708255,3.0619322644913853,3.0703249387590597,3.085584581503535,3.113676026939918,3.1314755221679866,3.1523581136542553,3.184839367734858,3.2103021290636415,3.2432166118640935,3.299905304290125,3.3561312690779106,3.4020949886548686,3.455199278000036,3.5442629059978366,3.647262975418316,3.739634027898661,3.8211311247180797,3.8924042523730864,3.9710018915259724,4.07615182413637,4.197845283732715,4.338155928039014,4.490813828284901,4.65014563208409,4.83381417326046,5.050636279979322,5.3009273811115305,5.584426045793904,5.899570391574935,6.245967349166809,6.623137209749165,7.029797285248244,7.46376743950509,7.923566640887753,8.407898286355113,2.9503820282955737,2.975517355901762,3.01694764715107,3.048354381167821,3.0691049758005593,3.079184130701751,3.082216536591196,3.099505318244402,3.1314203700806122,3.1538926655424544,3.16580058256092,3.1829717363367322,3.222779912023041,3.2635260842088187,3.293707549109176,3.318021998087813,3.3586775094373067,3.4141216646733534,3.4600199677244428,3.4968963785959684,3.543622199336632,3.6065151125547046,3.6627222601843066,3.712872779829519,3.778230957510238,3.8629147287848165,3.9472644561181354,4.031612249111489,4.121999944572154,4.220095698480714,4.320680669674602,4.430032231557357,4.562224726093439,4.715825180439384,4.875178829545702,5.037909749624798,5.225887601157793,5.437274414312725,5.668736106182237,5.928703317338643,6.215906127290767,6.528825630457818,6.866977743370689,7.228511030004599,7.613626188124619,2.950294299111355,2.973632384514302,3.0120103720479197,3.040179075864211,3.0577805886303886,3.064765920657316,3.0610919308131366,3.0649457224777685,3.0882033550864656,3.1066750382809643,3.1146639103225815,3.1119606122410026,3.1162563504353233,3.1526836241076484,3.199579541772621,3.23723158015765,3.266444020739757,3.286982795122294,3.2969332699403937,3.296193068510577,3.3030066687877806,3.325672228695776,3.340112092865462,3.3439843589403297,3.3543090228206807,3.3860022105183663,3.4159778980591025,3.4353935303347987,3.4441054726658202,3.4475828760754363,3.4695436716343275,3.50627025596225,3.53276439102147,3.5485414576540846,3.5578119075715757,3.576121292091282,3.599668988599395,3.613223889690817,3.628812520969725,3.652523650946428,3.668668357834982,3.6807579728749324,3.6998774330434965,3.71753495534651,3.730820609617031,3.7616630540183222,3.8045356261273837,3.8370138429287737,3.8609776582187445,3.8952441687866037,3.9488510562831216,4.00151392173883,4.056772202207951,4.124242448768636,4.1928980270391385,4.265062795922941,4.357395972857403,4.4616783840449505,4.567934108466731,4.681649852215897,4.801259200068068,4.928804790987301,5.066818459128163,5.2155729722375135,5.37666327633831,5.5506235938741435,5.740299730316341,5.945516680655071,6.168029805446406,6.409016352964138,2.9508152736094537,2.9777855814597594,3.021357503373244,3.054743640970429,3.077425335168101,3.089411678883548,3.0907099053962224,3.09940818289524,3.1242617534485926,3.1412902753679823,3.1477923164301935,3.1608560631256,3.186143484444298,3.2011339898556614,3.2080025500098985,3.226484714860661,3.257794546470823,3.282493197251296,3.3031034094004257,3.320227467658036,3.3533950542704036,3.399917147887867,3.4360899101959865,3.465156810173405,3.506655089305434,3.558804692801815,3.602320641918248,3.6489419908640883,3.699702906232589,3.7506294459545764,3.8089287464004498,3.8734889186497052,3.9602203255124855,4.058583233933056,4.153758454699161,4.266176262434241,4.4024424626165155,4.549998748198497,4.713173362720208,4.903984051684779,5.1180113077351885,5.335815449803444,5.556567842016412,5.801705801992159,6.071875760913167,6.363489752857826,6.675142488476703,7.009594623812602,2.950311870577792,2.9736915911964674,3.0367306562980683,3.1154865832731256,3.1840709911389165,3.2419616767560573,3.289152632623029,3.3256439333938954,3.3514449796229018,3.366563010981724,3.371040815734121,3.3834079642035872,3.4227208319841202,3.463855911108241,3.494460393540447,3.5145174689173455,3.542056188893307,3.583347801968753,3.6156093899557953,3.652034843255474,3.70436341051483,3.754163368476869,3.7996316292444567,3.8492026786930738,3.9016151660062244,3.964814120013077,4.045260172554495,4.141934405471524,4.261731986473552,4.400428012070488,4.56288549247469,4.744041536664882,4.935284354879295,5.144822284187114,5.371374598616742,5.605866192951103,5.85130278194826,6.10356049170305,6.364222984085363,6.63312027105391,6.906487836314418,7.183968185455509,7.461259215309199,7.73920011265625,8.017719110093186,8.295216903421522,8.573974866888982,8.861222990354127],\"type\":\"scatter3d\"},{\"customdata\":[[42,\"Waypoint, Step: 42\"],[50,\"Waypoint, Step: 50\"],[44,\"Waypoint, Step: 44\"],[52,\"Waypoint, Step: 52\"],[43,\"Waypoint, Step: 43\"],[39,\"Waypoint, Step: 39\"],[45,\"Waypoint, Step: 45\"],[70,\"Waypoint, Step: 70\"],[48,\"Waypoint, Step: 48\"],[48,\"Waypoint, Step: 48\"]],\"hovertemplate\":\"Episode: %{customdata[0]}\\u003cbr\\u003eStep: %{customdata[1]}\\u003cbr\\u003eX: %{x}\\u003cbr\\u003eY: %{y}\\u003cbr\\u003eZ: %{z}\\u003cbr\\u003e%{customdata[2]}\\u003cextra\\u003e\\u003c\\u002fextra\\u003e\",\"legendgroup\":\"Waypoint\",\"marker\":{\"color\":[0,1,2,3,4,5,6,7,8,9],\"coloraxis\":\"coloraxis\",\"symbol\":\"diamond\",\"size\":5},\"mode\":\"markers\",\"name\":\"Waypoint\",\"scene\":\"scene\",\"showlegend\":true,\"x\":[-2.0013064262768947,-3.5790056743872727,2.7652784644975257,0.5385853771797282,0.6537777469905394,1.279921023586016,2.9718888852663783,-4.4181075566715435,-1.9753964326006284,0.1592064835960947],\"y\":[2.6767835693374575,2.429846021759406,-1.536844585568762,-1.4695581591760198,1.01993647978914,-0.7029059565782289,-1.2005251551734892,-2.6013066426791918,4.568813035498801,-0.6990390044850086],\"z\":[8.5,8.5,8.5,8.5,8.5,8.5,8.5,8.5,8.5,8.5],\"type\":\"scatter3d\"}],                        {\"template\":{\"data\":{\"histogram2dcontour\":[{\"type\":\"histogram2dcontour\",\"colorbar\":{\"outlinewidth\":0,\"ticks\":\"\"},\"colorscale\":[[0.0,\"#0d0887\"],[0.1111111111111111,\"#46039f\"],[0.2222222222222222,\"#7201a8\"],[0.3333333333333333,\"#9c179e\"],[0.4444444444444444,\"#bd3786\"],[0.5555555555555556,\"#d8576b\"],[0.6666666666666666,\"#ed7953\"],[0.7777777777777778,\"#fb9f3a\"],[0.8888888888888888,\"#fdca26\"],[1.0,\"#f0f921\"]]}],\"choropleth\":[{\"type\":\"choropleth\",\"colorbar\":{\"outlinewidth\":0,\"ticks\":\"\"}}],\"histogram2d\":[{\"type\":\"histogram2d\",\"colorbar\":{\"outlinewidth\":0,\"ticks\":\"\"},\"colorscale\":[[0.0,\"#0d0887\"],[0.1111111111111111,\"#46039f\"],[0.2222222222222222,\"#7201a8\"],[0.3333333333333333,\"#9c179e\"],[0.4444444444444444,\"#bd3786\"],[0.5555555555555556,\"#d8576b\"],[0.6666666666666666,\"#ed7953\"],[0.7777777777777778,\"#fb9f3a\"],[0.8888888888888888,\"#fdca26\"],[1.0,\"#f0f921\"]]}],\"heatmap\":[{\"type\":\"heatmap\",\"colorbar\":{\"outlinewidth\":0,\"ticks\":\"\"},\"colorscale\":[[0.0,\"#0d0887\"],[0.1111111111111111,\"#46039f\"],[0.2222222222222222,\"#7201a8\"],[0.3333333333333333,\"#9c179e\"],[0.4444444444444444,\"#bd3786\"],[0.5555555555555556,\"#d8576b\"],[0.6666666666666666,\"#ed7953\"],[0.7777777777777778,\"#fb9f3a\"],[0.8888888888888888,\"#fdca26\"],[1.0,\"#f0f921\"]]}],\"heatmapgl\":[{\"type\":\"heatmapgl\",\"colorbar\":{\"outlinewidth\":0,\"ticks\":\"\"},\"colorscale\":[[0.0,\"#0d0887\"],[0.1111111111111111,\"#46039f\"],[0.2222222222222222,\"#7201a8\"],[0.3333333333333333,\"#9c179e\"],[0.4444444444444444,\"#bd3786\"],[0.5555555555555556,\"#d8576b\"],[0.6666666666666666,\"#ed7953\"],[0.7777777777777778,\"#fb9f3a\"],[0.8888888888888888,\"#fdca26\"],[1.0,\"#f0f921\"]]}],\"contourcarpet\":[{\"type\":\"contourcarpet\",\"colorbar\":{\"outlinewidth\":0,\"ticks\":\"\"}}],\"contour\":[{\"type\":\"contour\",\"colorbar\":{\"outlinewidth\":0,\"ticks\":\"\"},\"colorscale\":[[0.0,\"#0d0887\"],[0.1111111111111111,\"#46039f\"],[0.2222222222222222,\"#7201a8\"],[0.3333333333333333,\"#9c179e\"],[0.4444444444444444,\"#bd3786\"],[0.5555555555555556,\"#d8576b\"],[0.6666666666666666,\"#ed7953\"],[0.7777777777777778,\"#fb9f3a\"],[0.8888888888888888,\"#fdca26\"],[1.0,\"#f0f921\"]]}],\"surface\":[{\"type\":\"surface\",\"colorbar\":{\"outlinewidth\":0,\"ticks\":\"\"},\"colorscale\":[[0.0,\"#0d0887\"],[0.1111111111111111,\"#46039f\"],[0.2222222222222222,\"#7201a8\"],[0.3333333333333333,\"#9c179e\"],[0.4444444444444444,\"#bd3786\"],[0.5555555555555556,\"#d8576b\"],[0.6666666666666666,\"#ed7953\"],[0.7777777777777778,\"#fb9f3a\"],[0.8888888888888888,\"#fdca26\"],[1.0,\"#f0f921\"]]}],\"mesh3d\":[{\"type\":\"mesh3d\",\"colorbar\":{\"outlinewidth\":0,\"ticks\":\"\"}}],\"scatter\":[{\"marker\":{\"line\":{\"color\":\"#283442\"}},\"type\":\"scatter\"}],\"parcoords\":[{\"type\":\"parcoords\",\"line\":{\"colorbar\":{\"outlinewidth\":0,\"ticks\":\"\"}}}],\"scatterpolargl\":[{\"type\":\"scatterpolargl\",\"marker\":{\"colorbar\":{\"outlinewidth\":0,\"ticks\":\"\"}}}],\"bar\":[{\"error_x\":{\"color\":\"#f2f5fa\"},\"error_y\":{\"color\":\"#f2f5fa\"},\"marker\":{\"line\":{\"color\":\"rgb(17,17,17)\",\"width\":0.5},\"pattern\":{\"fillmode\":\"overlay\",\"size\":10,\"solidity\":0.2}},\"type\":\"bar\"}],\"scattergeo\":[{\"type\":\"scattergeo\",\"marker\":{\"colorbar\":{\"outlinewidth\":0,\"ticks\":\"\"}}}],\"scatterpolar\":[{\"type\":\"scatterpolar\",\"marker\":{\"colorbar\":{\"outlinewidth\":0,\"ticks\":\"\"}}}],\"histogram\":[{\"marker\":{\"pattern\":{\"fillmode\":\"overlay\",\"size\":10,\"solidity\":0.2}},\"type\":\"histogram\"}],\"scattergl\":[{\"marker\":{\"line\":{\"color\":\"#283442\"}},\"type\":\"scattergl\"}],\"scatter3d\":[{\"type\":\"scatter3d\",\"line\":{\"colorbar\":{\"outlinewidth\":0,\"ticks\":\"\"}},\"marker\":{\"colorbar\":{\"outlinewidth\":0,\"ticks\":\"\"}}}],\"scattermapbox\":[{\"type\":\"scattermapbox\",\"marker\":{\"colorbar\":{\"outlinewidth\":0,\"ticks\":\"\"}}}],\"scatterternary\":[{\"type\":\"scatterternary\",\"marker\":{\"colorbar\":{\"outlinewidth\":0,\"ticks\":\"\"}}}],\"scattercarpet\":[{\"type\":\"scattercarpet\",\"marker\":{\"colorbar\":{\"outlinewidth\":0,\"ticks\":\"\"}}}],\"carpet\":[{\"aaxis\":{\"endlinecolor\":\"#A2B1C6\",\"gridcolor\":\"#506784\",\"linecolor\":\"#506784\",\"minorgridcolor\":\"#506784\",\"startlinecolor\":\"#A2B1C6\"},\"baxis\":{\"endlinecolor\":\"#A2B1C6\",\"gridcolor\":\"#506784\",\"linecolor\":\"#506784\",\"minorgridcolor\":\"#506784\",\"startlinecolor\":\"#A2B1C6\"},\"type\":\"carpet\"}],\"table\":[{\"cells\":{\"fill\":{\"color\":\"#506784\"},\"line\":{\"color\":\"rgb(17,17,17)\"}},\"header\":{\"fill\":{\"color\":\"#2a3f5f\"},\"line\":{\"color\":\"rgb(17,17,17)\"}},\"type\":\"table\"}],\"barpolar\":[{\"marker\":{\"line\":{\"color\":\"rgb(17,17,17)\",\"width\":0.5},\"pattern\":{\"fillmode\":\"overlay\",\"size\":10,\"solidity\":0.2}},\"type\":\"barpolar\"}],\"pie\":[{\"automargin\":true,\"type\":\"pie\"}]},\"layout\":{\"autotypenumbers\":\"strict\",\"colorway\":[\"#636efa\",\"#EF553B\",\"#00cc96\",\"#ab63fa\",\"#FFA15A\",\"#19d3f3\",\"#FF6692\",\"#B6E880\",\"#FF97FF\",\"#FECB52\"],\"font\":{\"color\":\"#f2f5fa\"},\"hovermode\":\"closest\",\"hoverlabel\":{\"align\":\"left\"},\"paper_bgcolor\":\"rgb(17,17,17)\",\"plot_bgcolor\":\"rgb(17,17,17)\",\"polar\":{\"bgcolor\":\"rgb(17,17,17)\",\"angularaxis\":{\"gridcolor\":\"#506784\",\"linecolor\":\"#506784\",\"ticks\":\"\"},\"radialaxis\":{\"gridcolor\":\"#506784\",\"linecolor\":\"#506784\",\"ticks\":\"\"}},\"ternary\":{\"bgcolor\":\"rgb(17,17,17)\",\"aaxis\":{\"gridcolor\":\"#506784\",\"linecolor\":\"#506784\",\"ticks\":\"\"},\"baxis\":{\"gridcolor\":\"#506784\",\"linecolor\":\"#506784\",\"ticks\":\"\"},\"caxis\":{\"gridcolor\":\"#506784\",\"linecolor\":\"#506784\",\"ticks\":\"\"}},\"coloraxis\":{\"colorbar\":{\"outlinewidth\":0,\"ticks\":\"\"}},\"colorscale\":{\"sequential\":[[0.0,\"#0d0887\"],[0.1111111111111111,\"#46039f\"],[0.2222222222222222,\"#7201a8\"],[0.3333333333333333,\"#9c179e\"],[0.4444444444444444,\"#bd3786\"],[0.5555555555555556,\"#d8576b\"],[0.6666666666666666,\"#ed7953\"],[0.7777777777777778,\"#fb9f3a\"],[0.8888888888888888,\"#fdca26\"],[1.0,\"#f0f921\"]],\"sequentialminus\":[[0.0,\"#0d0887\"],[0.1111111111111111,\"#46039f\"],[0.2222222222222222,\"#7201a8\"],[0.3333333333333333,\"#9c179e\"],[0.4444444444444444,\"#bd3786\"],[0.5555555555555556,\"#d8576b\"],[0.6666666666666666,\"#ed7953\"],[0.7777777777777778,\"#fb9f3a\"],[0.8888888888888888,\"#fdca26\"],[1.0,\"#f0f921\"]],\"diverging\":[[0,\"#8e0152\"],[0.1,\"#c51b7d\"],[0.2,\"#de77ae\"],[0.3,\"#f1b6da\"],[0.4,\"#fde0ef\"],[0.5,\"#f7f7f7\"],[0.6,\"#e6f5d0\"],[0.7,\"#b8e186\"],[0.8,\"#7fbc41\"],[0.9,\"#4d9221\"],[1,\"#276419\"]]},\"xaxis\":{\"gridcolor\":\"#283442\",\"linecolor\":\"#506784\",\"ticks\":\"\",\"title\":{\"standoff\":15},\"zerolinecolor\":\"#283442\",\"automargin\":true,\"zerolinewidth\":2},\"yaxis\":{\"gridcolor\":\"#283442\",\"linecolor\":\"#506784\",\"ticks\":\"\",\"title\":{\"standoff\":15},\"zerolinecolor\":\"#283442\",\"automargin\":true,\"zerolinewidth\":2},\"scene\":{\"xaxis\":{\"backgroundcolor\":\"rgb(17,17,17)\",\"gridcolor\":\"#506784\",\"linecolor\":\"#506784\",\"showbackground\":true,\"ticks\":\"\",\"zerolinecolor\":\"#C8D4E3\",\"gridwidth\":2},\"yaxis\":{\"backgroundcolor\":\"rgb(17,17,17)\",\"gridcolor\":\"#506784\",\"linecolor\":\"#506784\",\"showbackground\":true,\"ticks\":\"\",\"zerolinecolor\":\"#C8D4E3\",\"gridwidth\":2},\"zaxis\":{\"backgroundcolor\":\"rgb(17,17,17)\",\"gridcolor\":\"#506784\",\"linecolor\":\"#506784\",\"showbackground\":true,\"ticks\":\"\",\"zerolinecolor\":\"#C8D4E3\",\"gridwidth\":2}},\"shapedefaults\":{\"line\":{\"color\":\"#f2f5fa\"}},\"annotationdefaults\":{\"arrowcolor\":\"#f2f5fa\",\"arrowhead\":0,\"arrowwidth\":1},\"geo\":{\"bgcolor\":\"rgb(17,17,17)\",\"landcolor\":\"rgb(17,17,17)\",\"subunitcolor\":\"#506784\",\"showland\":true,\"showlakes\":true,\"lakecolor\":\"rgb(17,17,17)\"},\"title\":{\"x\":0.05},\"updatemenudefaults\":{\"bgcolor\":\"#506784\",\"borderwidth\":0},\"sliderdefaults\":{\"bgcolor\":\"#C8D4E3\",\"borderwidth\":1,\"bordercolor\":\"rgb(17,17,17)\",\"tickwidth\":0},\"mapbox\":{\"style\":\"dark\"}}},\"scene\":{\"domain\":{\"x\":[0.0,1.0],\"y\":[0.0,1.0]},\"xaxis\":{\"title\":{\"text\":\"X\"}},\"yaxis\":{\"title\":{\"text\":\"Y\"}},\"zaxis\":{\"title\":{\"text\":\"Z\"}}},\"coloraxis\":{\"colorbar\":{\"title\":{\"text\":\"Episode\"}},\"colorscale\":[[0.0,\"#0d0887\"],[0.1111111111111111,\"#46039f\"],[0.2222222222222222,\"#7201a8\"],[0.3333333333333333,\"#9c179e\"],[0.4444444444444444,\"#bd3786\"],[0.5555555555555556,\"#d8576b\"],[0.6666666666666666,\"#ed7953\"],[0.7777777777777778,\"#fb9f3a\"],[0.8888888888888888,\"#fdca26\"],[1.0,\"#f0f921\"]]},\"legend\":{\"title\":{\"text\":\"Type\"},\"tracegroupgap\":0},\"title\":{\"text\":\"Trajectory and Waypoints per Episode\"}},                        {\"responsive\": true}                    ).then(function(){\n                            \nvar gd = document.getElementById('55a2a6d8-d991-4fd6-9d04-6dd6ffce0e66');\nvar x = new MutationObserver(function (mutations, observer) {{\n        var display = window.getComputedStyle(gd).display;\n        if (!display || display === 'none') {{\n            console.log([gd, 'removed!']);\n            Plotly.purge(gd);\n            observer.disconnect();\n        }}\n}});\n\n// Listen for the removal of the full notebook cells\nvar notebookContainer = gd.closest('#notebook-container');\nif (notebookContainer) {{\n    x.observe(notebookContainer, {childList: true});\n}}\n\n// Listen for the clearing of the current output cell\nvar outputEl = gd.closest('.output');\nif (outputEl) {{\n    x.observe(outputEl, {childList: true});\n}}\n\n                        })                };                });            </script>        </div>"
     },
     "metadata": {},
     "output_type": "display_data"
    }
   ],
   "source": [
    "# Visualizing 'n_eval_eps' episodes as sampled from the trained model\n",
    "visualize_plotly_model(result, model, env, num_eval_eps)"
   ],
   "metadata": {
    "collapsed": false,
    "ExecuteTime": {
     "end_time": "2024-11-18T16:09:51.170202Z",
     "start_time": "2024-11-18T16:09:51.110167Z"
    }
   },
   "id": "13b9997d5328602d",
   "execution_count": 15
  },
  {
   "cell_type": "markdown",
   "source": [
    "# Trajectory with vector field"
   ],
   "metadata": {
    "collapsed": false
   },
   "id": "83b24a81fa21e6f8"
  },
  {
   "cell_type": "code",
   "outputs": [
    {
     "data": {
      "application/vnd.plotly.v1+json": {
       "data": [
        {
         "anchor": "tip",
         "colorbar": {
          "thickness": 40,
          "ticklen": 4
         },
         "colorscale": [
          [
           0.0,
           "rgb(3, 5, 18)"
          ],
          [
           0.11,
           "rgb(27, 26, 54)"
          ],
          [
           0.22,
           "rgb(48, 46, 95)"
          ],
          [
           0.33,
           "rgb(60, 66, 136)"
          ],
          [
           0.44,
           "rgb(62, 93, 168)"
          ],
          [
           0.56,
           "rgb(66, 122, 183)"
          ],
          [
           0.67,
           "rgb(82, 149, 192)"
          ],
          [
           0.78,
           "rgb(106, 177, 203)"
          ],
          [
           0.89,
           "rgb(140, 203, 219)"
          ],
          [
           1.0,
           "rgb(188, 227, 235)"
          ]
         ],
         "sizemode": "absolute",
         "sizeref": 0.2,
         "u": [
          2.348017133362616E-4,
          0.0013883257439517085,
          0.0016538107895380898,
          0.001667782623754329,
          0.001678529375597558,
          0.0016886794018765097,
          0.003517267155363629,
          0.003939629166769834,
          0.00395206872600086,
          0.0058286497992475345,
          0.006688159730293783,
          0.006795377104204997,
          0.009435747783409026,
          0.01146434958611614,
          0.01168486143680364,
          0.011739217243155409,
          0.014522437031197266,
          0.018682691699078546,
          0.01925474886676881,
          0.01923842695561473,
          0.019224814102490106,
          0.019295398551661513,
          0.022066692025655033,
          0.024912889428613583,
          0.027179349578222434,
          0.03019983068279286,
          0.03152654936443278,
          0.03373303271236061,
          0.03768797777738886,
          0.04176153284719164,
          0.04575965643980262,
          0.04958649899926293,
          0.0533404298911182,
          0.05713870151744205,
          0.06099082631553099,
          0.06475049585451709,
          0.06837305206710287,
          0.07210434562171697,
          0.07611167698765886
         ],
         "v": [
          -1.5383563604430984E-4,
          -8.210433811854138E-4,
          -9.497109164462673E-4,
          -9.528249273658869E-4,
          -9.541149133330176E-4,
          -9.54788621399149E-4,
          -0.0011325073631553023,
          -0.00119652746491003,
          -0.0011990907529375767,
          -0.0017015613269472235,
          -0.001961427855759333,
          -0.0019981279519084086,
          -0.0030913345917224083,
          -0.004041343599751182,
          -0.004146823731151092,
          -0.004175415048824085,
          -0.005639848303749112,
          -0.007890947969627277,
          -0.008195181640083954,
          -0.008190323260327564,
          -0.008187302106047734,
          -0.008217460212528283,
          -0.009301275185723656,
          -0.010383445444697603,
          -0.011337029022399359,
          -0.012759040011489031,
          -0.013427759782244142,
          -0.014711065768372333,
          -0.01722019221954252,
          -0.020227385391554775,
          -0.023637439294236673,
          -0.0272766875186099,
          -0.03115929120462213,
          -0.03555586825601864,
          -0.04030218965715937,
          -0.04505477572643901,
          -0.04995653189040761,
          -0.05483539695259654,
          -0.059716767852609376
         ],
         "w": [
          -5.04765356010406E-4,
          0.00973886592086215,
          0.009066523420778072,
          0.006429351775267822,
          0.0037665930754635646,
          0.0010964761077607577,
          0.00698972052234037,
          0.006119104815316856,
          0.003446161041772644,
          0.007517985518465942,
          0.007764613074910276,
          0.0054185834405338085,
          0.011450817340520114,
          0.015091533611275132,
          0.01308117189176583,
          0.010554097714887689,
          0.016354100102432323,
          0.025809174431255855,
          0.024798464042485868,
          0.022069947943875068,
          0.019359634006366644,
          0.016929367269757467,
          0.022604908996609385,
          0.028034427154164376,
          0.031759888419140125,
          0.03728956996451682,
          0.038134778421618165,
          0.0413405250065928,
          0.04899210595262282,
          0.05726656481288295,
          0.0657589734825823,
          0.07393934086864551,
          0.08162983127817647,
          0.0895230249856569,
          0.09720362703755736,
          0.10420453448769695,
          0.11098920095831488,
          0.11729720526356768,
          0.12329688412933848
         ],
         "x": [
          3.313765513170616E-4,
          0.00391356004386865,
          0.01045216688499199,
          0.01710341828102341,
          0.023801492703640414,
          0.03054107582668791,
          0.040982478961941925,
          0.056629968853487755,
          0.07242081564343575,
          0.09202051677365088,
          0.11800221167121112,
          0.14510087267976018,
          0.1776698519926833,
          0.2210538283127777,
          0.26774315713629543,
          0.31460549568251683,
          0.36727326701013735,
          0.4357954042864925,
          0.5127376455045388,
          0.5897163128508901,
          0.6666347733821611,
          0.743683008663917,
          0.8266214766157229,
          0.9223938705722406,
          1.0277730890525543,
          1.1438088280422785,
          1.268452815206689,
          1.3995916850293455,
          1.5441445436889947,
          1.7051726058838812,
          1.8822570079022483,
          2.074808120313205,
          2.2826328156840847,
          2.505547485168844,
          2.7435918750931454,
          2.997158670853864,
          3.265237388750923,
          3.547935400750716,
          3.8463439545387526
         ],
         "y": [
          -2.130617039103393E-4,
          -0.00243501961585647,
          -0.006202253863096369,
          -0.010009716622329393,
          -0.013824483694242589,
          -0.01764277135521865,
          -0.02176574001306914,
          -0.026533008352788857,
          -0.031325640753275145,
          -0.03711711124066199,
          -0.044718283728919374,
          -0.0526812651343808,
          -0.06285515011312877,
          -0.07785845952368019,
          -0.09442051401637347,
          -0.11107225289656861,
          -0.13077597081309023,
          -0.15900052231989123,
          -0.1917375251655065,
          -0.22450604251871015,
          -0.25725911177208627,
          -0.29007299527489255,
          -0.3252175767414644,
          -0.36526192883434705,
          -0.4091717911921071,
          -0.4579314709590778,
          -0.5108750974703928,
          -0.5674839119951516,
          -0.6322981318921181,
          -0.7086268832134969,
          -0.7979429908333447,
          -0.9014964750001822,
          -1.020235898924485,
          -1.1557974442441887,
          -1.3097018310171848,
          -1.4828530563664433,
          -1.6753772123807813,
          -1.8873915965768384,
          -2.118955547038985
         ],
         "z": [
          2.9498061345396827,
          2.9733724951025424,
          3.013187585792958,
          3.0428698086708255,
          3.0619322644913853,
          3.0703249387590597,
          3.085584581503535,
          3.113676026939918,
          3.1314755221679866,
          3.1523581136542553,
          3.184839367734858,
          3.2103021290636415,
          3.2432166118640935,
          3.299905304290125,
          3.3561312690779106,
          3.4020949886548686,
          3.455199278000036,
          3.5442629059978366,
          3.647262975418316,
          3.739634027898661,
          3.8211311247180797,
          3.8924042523730864,
          3.9710018915259724,
          4.07615182413637,
          4.197845283732715,
          4.338155928039014,
          4.490813828284901,
          4.65014563208409,
          4.83381417326046,
          5.050636279979322,
          5.3009273811115305,
          5.584426045793904,
          5.899570391574935,
          6.245967349166809,
          6.623137209749165,
          7.029797285248244,
          7.46376743950509,
          7.923566640887753,
          8.407898286355113
         ],
         "type": "cone"
        },
        {
         "marker": {
          "color": "red",
          "opacity": 0.8,
          "size": 10
         },
         "mode": "markers",
         "x": [
          1.279921023586016
         ],
         "y": [
          -0.7029059565782289
         ],
         "z": [
          8.5
         ],
         "type": "scatter3d"
        }
       ],
       "layout": {
        "autosize": false,
        "height": 750,
        "scene": {
         "aspectratio": {
          "x": 1,
          "y": 1,
          "z": 0.8
         },
         "camera": {
          "eye": {
           "x": 1.2,
           "y": 1.2,
           "z": 0.6
          }
         },
         "xaxis": {
          "backgroundcolor": "rgb(235, 235, 235)",
          "gridcolor": "rgb(255, 255, 255)",
          "showbackground": true,
          "zerolinecolor": "rgb(255, 255, 255)"
         },
         "yaxis": {
          "backgroundcolor": "rgb(235, 235, 235)",
          "gridcolor": "rgb(255, 255, 255)",
          "showbackground": true,
          "zerolinecolor": "rgb(255, 255, 255)"
         },
         "zaxis": {
          "backgroundcolor": "rgb(235, 235, 235)",
          "gridcolor": "rgb(255, 255, 255)",
          "showbackground": true,
          "zerolinecolor": "rgb(255, 255, 255)"
         }
        },
        "width": 900,
        "template": {
         "data": {
          "histogram2dcontour": [
           {
            "type": "histogram2dcontour",
            "colorbar": {
             "outlinewidth": 0,
             "ticks": ""
            },
            "colorscale": [
             [
              0.0,
              "#0d0887"
             ],
             [
              0.1111111111111111,
              "#46039f"
             ],
             [
              0.2222222222222222,
              "#7201a8"
             ],
             [
              0.3333333333333333,
              "#9c179e"
             ],
             [
              0.4444444444444444,
              "#bd3786"
             ],
             [
              0.5555555555555556,
              "#d8576b"
             ],
             [
              0.6666666666666666,
              "#ed7953"
             ],
             [
              0.7777777777777778,
              "#fb9f3a"
             ],
             [
              0.8888888888888888,
              "#fdca26"
             ],
             [
              1.0,
              "#f0f921"
             ]
            ]
           }
          ],
          "choropleth": [
           {
            "type": "choropleth",
            "colorbar": {
             "outlinewidth": 0,
             "ticks": ""
            }
           }
          ],
          "histogram2d": [
           {
            "type": "histogram2d",
            "colorbar": {
             "outlinewidth": 0,
             "ticks": ""
            },
            "colorscale": [
             [
              0.0,
              "#0d0887"
             ],
             [
              0.1111111111111111,
              "#46039f"
             ],
             [
              0.2222222222222222,
              "#7201a8"
             ],
             [
              0.3333333333333333,
              "#9c179e"
             ],
             [
              0.4444444444444444,
              "#bd3786"
             ],
             [
              0.5555555555555556,
              "#d8576b"
             ],
             [
              0.6666666666666666,
              "#ed7953"
             ],
             [
              0.7777777777777778,
              "#fb9f3a"
             ],
             [
              0.8888888888888888,
              "#fdca26"
             ],
             [
              1.0,
              "#f0f921"
             ]
            ]
           }
          ],
          "heatmap": [
           {
            "type": "heatmap",
            "colorbar": {
             "outlinewidth": 0,
             "ticks": ""
            },
            "colorscale": [
             [
              0.0,
              "#0d0887"
             ],
             [
              0.1111111111111111,
              "#46039f"
             ],
             [
              0.2222222222222222,
              "#7201a8"
             ],
             [
              0.3333333333333333,
              "#9c179e"
             ],
             [
              0.4444444444444444,
              "#bd3786"
             ],
             [
              0.5555555555555556,
              "#d8576b"
             ],
             [
              0.6666666666666666,
              "#ed7953"
             ],
             [
              0.7777777777777778,
              "#fb9f3a"
             ],
             [
              0.8888888888888888,
              "#fdca26"
             ],
             [
              1.0,
              "#f0f921"
             ]
            ]
           }
          ],
          "heatmapgl": [
           {
            "type": "heatmapgl",
            "colorbar": {
             "outlinewidth": 0,
             "ticks": ""
            },
            "colorscale": [
             [
              0.0,
              "#0d0887"
             ],
             [
              0.1111111111111111,
              "#46039f"
             ],
             [
              0.2222222222222222,
              "#7201a8"
             ],
             [
              0.3333333333333333,
              "#9c179e"
             ],
             [
              0.4444444444444444,
              "#bd3786"
             ],
             [
              0.5555555555555556,
              "#d8576b"
             ],
             [
              0.6666666666666666,
              "#ed7953"
             ],
             [
              0.7777777777777778,
              "#fb9f3a"
             ],
             [
              0.8888888888888888,
              "#fdca26"
             ],
             [
              1.0,
              "#f0f921"
             ]
            ]
           }
          ],
          "contourcarpet": [
           {
            "type": "contourcarpet",
            "colorbar": {
             "outlinewidth": 0,
             "ticks": ""
            }
           }
          ],
          "contour": [
           {
            "type": "contour",
            "colorbar": {
             "outlinewidth": 0,
             "ticks": ""
            },
            "colorscale": [
             [
              0.0,
              "#0d0887"
             ],
             [
              0.1111111111111111,
              "#46039f"
             ],
             [
              0.2222222222222222,
              "#7201a8"
             ],
             [
              0.3333333333333333,
              "#9c179e"
             ],
             [
              0.4444444444444444,
              "#bd3786"
             ],
             [
              0.5555555555555556,
              "#d8576b"
             ],
             [
              0.6666666666666666,
              "#ed7953"
             ],
             [
              0.7777777777777778,
              "#fb9f3a"
             ],
             [
              0.8888888888888888,
              "#fdca26"
             ],
             [
              1.0,
              "#f0f921"
             ]
            ]
           }
          ],
          "surface": [
           {
            "type": "surface",
            "colorbar": {
             "outlinewidth": 0,
             "ticks": ""
            },
            "colorscale": [
             [
              0.0,
              "#0d0887"
             ],
             [
              0.1111111111111111,
              "#46039f"
             ],
             [
              0.2222222222222222,
              "#7201a8"
             ],
             [
              0.3333333333333333,
              "#9c179e"
             ],
             [
              0.4444444444444444,
              "#bd3786"
             ],
             [
              0.5555555555555556,
              "#d8576b"
             ],
             [
              0.6666666666666666,
              "#ed7953"
             ],
             [
              0.7777777777777778,
              "#fb9f3a"
             ],
             [
              0.8888888888888888,
              "#fdca26"
             ],
             [
              1.0,
              "#f0f921"
             ]
            ]
           }
          ],
          "mesh3d": [
           {
            "type": "mesh3d",
            "colorbar": {
             "outlinewidth": 0,
             "ticks": ""
            }
           }
          ],
          "scatter": [
           {
            "marker": {
             "line": {
              "color": "#283442"
             }
            },
            "type": "scatter"
           }
          ],
          "parcoords": [
           {
            "type": "parcoords",
            "line": {
             "colorbar": {
              "outlinewidth": 0,
              "ticks": ""
             }
            }
           }
          ],
          "scatterpolargl": [
           {
            "type": "scatterpolargl",
            "marker": {
             "colorbar": {
              "outlinewidth": 0,
              "ticks": ""
             }
            }
           }
          ],
          "bar": [
           {
            "error_x": {
             "color": "#f2f5fa"
            },
            "error_y": {
             "color": "#f2f5fa"
            },
            "marker": {
             "line": {
              "color": "rgb(17,17,17)",
              "width": 0.5
             },
             "pattern": {
              "fillmode": "overlay",
              "size": 10,
              "solidity": 0.2
             }
            },
            "type": "bar"
           }
          ],
          "scattergeo": [
           {
            "type": "scattergeo",
            "marker": {
             "colorbar": {
              "outlinewidth": 0,
              "ticks": ""
             }
            }
           }
          ],
          "scatterpolar": [
           {
            "type": "scatterpolar",
            "marker": {
             "colorbar": {
              "outlinewidth": 0,
              "ticks": ""
             }
            }
           }
          ],
          "histogram": [
           {
            "marker": {
             "pattern": {
              "fillmode": "overlay",
              "size": 10,
              "solidity": 0.2
             }
            },
            "type": "histogram"
           }
          ],
          "scattergl": [
           {
            "marker": {
             "line": {
              "color": "#283442"
             }
            },
            "type": "scattergl"
           }
          ],
          "scatter3d": [
           {
            "type": "scatter3d",
            "line": {
             "colorbar": {
              "outlinewidth": 0,
              "ticks": ""
             }
            },
            "marker": {
             "colorbar": {
              "outlinewidth": 0,
              "ticks": ""
             }
            }
           }
          ],
          "scattermapbox": [
           {
            "type": "scattermapbox",
            "marker": {
             "colorbar": {
              "outlinewidth": 0,
              "ticks": ""
             }
            }
           }
          ],
          "scatterternary": [
           {
            "type": "scatterternary",
            "marker": {
             "colorbar": {
              "outlinewidth": 0,
              "ticks": ""
             }
            }
           }
          ],
          "scattercarpet": [
           {
            "type": "scattercarpet",
            "marker": {
             "colorbar": {
              "outlinewidth": 0,
              "ticks": ""
             }
            }
           }
          ],
          "carpet": [
           {
            "aaxis": {
             "endlinecolor": "#A2B1C6",
             "gridcolor": "#506784",
             "linecolor": "#506784",
             "minorgridcolor": "#506784",
             "startlinecolor": "#A2B1C6"
            },
            "baxis": {
             "endlinecolor": "#A2B1C6",
             "gridcolor": "#506784",
             "linecolor": "#506784",
             "minorgridcolor": "#506784",
             "startlinecolor": "#A2B1C6"
            },
            "type": "carpet"
           }
          ],
          "table": [
           {
            "cells": {
             "fill": {
              "color": "#506784"
             },
             "line": {
              "color": "rgb(17,17,17)"
             }
            },
            "header": {
             "fill": {
              "color": "#2a3f5f"
             },
             "line": {
              "color": "rgb(17,17,17)"
             }
            },
            "type": "table"
           }
          ],
          "barpolar": [
           {
            "marker": {
             "line": {
              "color": "rgb(17,17,17)",
              "width": 0.5
             },
             "pattern": {
              "fillmode": "overlay",
              "size": 10,
              "solidity": 0.2
             }
            },
            "type": "barpolar"
           }
          ],
          "pie": [
           {
            "automargin": true,
            "type": "pie"
           }
          ]
         },
         "layout": {
          "autotypenumbers": "strict",
          "colorway": [
           "#636efa",
           "#EF553B",
           "#00cc96",
           "#ab63fa",
           "#FFA15A",
           "#19d3f3",
           "#FF6692",
           "#B6E880",
           "#FF97FF",
           "#FECB52"
          ],
          "font": {
           "color": "#f2f5fa"
          },
          "hovermode": "closest",
          "hoverlabel": {
           "align": "left"
          },
          "paper_bgcolor": "rgb(17,17,17)",
          "plot_bgcolor": "rgb(17,17,17)",
          "polar": {
           "bgcolor": "rgb(17,17,17)",
           "angularaxis": {
            "gridcolor": "#506784",
            "linecolor": "#506784",
            "ticks": ""
           },
           "radialaxis": {
            "gridcolor": "#506784",
            "linecolor": "#506784",
            "ticks": ""
           }
          },
          "ternary": {
           "bgcolor": "rgb(17,17,17)",
           "aaxis": {
            "gridcolor": "#506784",
            "linecolor": "#506784",
            "ticks": ""
           },
           "baxis": {
            "gridcolor": "#506784",
            "linecolor": "#506784",
            "ticks": ""
           },
           "caxis": {
            "gridcolor": "#506784",
            "linecolor": "#506784",
            "ticks": ""
           }
          },
          "coloraxis": {
           "colorbar": {
            "outlinewidth": 0,
            "ticks": ""
           }
          },
          "colorscale": {
           "sequential": [
            [
             0.0,
             "#0d0887"
            ],
            [
             0.1111111111111111,
             "#46039f"
            ],
            [
             0.2222222222222222,
             "#7201a8"
            ],
            [
             0.3333333333333333,
             "#9c179e"
            ],
            [
             0.4444444444444444,
             "#bd3786"
            ],
            [
             0.5555555555555556,
             "#d8576b"
            ],
            [
             0.6666666666666666,
             "#ed7953"
            ],
            [
             0.7777777777777778,
             "#fb9f3a"
            ],
            [
             0.8888888888888888,
             "#fdca26"
            ],
            [
             1.0,
             "#f0f921"
            ]
           ],
           "sequentialminus": [
            [
             0.0,
             "#0d0887"
            ],
            [
             0.1111111111111111,
             "#46039f"
            ],
            [
             0.2222222222222222,
             "#7201a8"
            ],
            [
             0.3333333333333333,
             "#9c179e"
            ],
            [
             0.4444444444444444,
             "#bd3786"
            ],
            [
             0.5555555555555556,
             "#d8576b"
            ],
            [
             0.6666666666666666,
             "#ed7953"
            ],
            [
             0.7777777777777778,
             "#fb9f3a"
            ],
            [
             0.8888888888888888,
             "#fdca26"
            ],
            [
             1.0,
             "#f0f921"
            ]
           ],
           "diverging": [
            [
             0,
             "#8e0152"
            ],
            [
             0.1,
             "#c51b7d"
            ],
            [
             0.2,
             "#de77ae"
            ],
            [
             0.3,
             "#f1b6da"
            ],
            [
             0.4,
             "#fde0ef"
            ],
            [
             0.5,
             "#f7f7f7"
            ],
            [
             0.6,
             "#e6f5d0"
            ],
            [
             0.7,
             "#b8e186"
            ],
            [
             0.8,
             "#7fbc41"
            ],
            [
             0.9,
             "#4d9221"
            ],
            [
             1,
             "#276419"
            ]
           ]
          },
          "xaxis": {
           "gridcolor": "#283442",
           "linecolor": "#506784",
           "ticks": "",
           "title": {
            "standoff": 15
           },
           "zerolinecolor": "#283442",
           "automargin": true,
           "zerolinewidth": 2
          },
          "yaxis": {
           "gridcolor": "#283442",
           "linecolor": "#506784",
           "ticks": "",
           "title": {
            "standoff": 15
           },
           "zerolinecolor": "#283442",
           "automargin": true,
           "zerolinewidth": 2
          },
          "scene": {
           "xaxis": {
            "backgroundcolor": "rgb(17,17,17)",
            "gridcolor": "#506784",
            "linecolor": "#506784",
            "showbackground": true,
            "ticks": "",
            "zerolinecolor": "#C8D4E3",
            "gridwidth": 2
           },
           "yaxis": {
            "backgroundcolor": "rgb(17,17,17)",
            "gridcolor": "#506784",
            "linecolor": "#506784",
            "showbackground": true,
            "ticks": "",
            "zerolinecolor": "#C8D4E3",
            "gridwidth": 2
           },
           "zaxis": {
            "backgroundcolor": "rgb(17,17,17)",
            "gridcolor": "#506784",
            "linecolor": "#506784",
            "showbackground": true,
            "ticks": "",
            "zerolinecolor": "#C8D4E3",
            "gridwidth": 2
           }
          },
          "shapedefaults": {
           "line": {
            "color": "#f2f5fa"
           }
          },
          "annotationdefaults": {
           "arrowcolor": "#f2f5fa",
           "arrowhead": 0,
           "arrowwidth": 1
          },
          "geo": {
           "bgcolor": "rgb(17,17,17)",
           "landcolor": "rgb(17,17,17)",
           "subunitcolor": "#506784",
           "showland": true,
           "showlakes": true,
           "lakecolor": "rgb(17,17,17)"
          },
          "title": {
           "x": 0.05
          },
          "updatemenudefaults": {
           "bgcolor": "#506784",
           "borderwidth": 0
          },
          "sliderdefaults": {
           "bgcolor": "#C8D4E3",
           "borderwidth": 1,
           "bordercolor": "rgb(17,17,17)",
           "tickwidth": 0
          },
          "mapbox": {
           "style": "dark"
          }
         }
        }
       },
       "config": {
        "plotlyServerURL": "https://plot.ly"
       }
      },
      "text/html": "<div>                            <div id=\"eafb027d-7c60-43d0-a511-a2553cfbfdc2\" class=\"plotly-graph-div\" style=\"height:750px; width:900px;\"></div>            <script type=\"text/javascript\">                require([\"plotly\"], function(Plotly) {                    window.PLOTLYENV=window.PLOTLYENV || {};                                    if (document.getElementById(\"eafb027d-7c60-43d0-a511-a2553cfbfdc2\")) {                    Plotly.newPlot(                        \"eafb027d-7c60-43d0-a511-a2553cfbfdc2\",                        [{\"anchor\":\"tip\",\"colorbar\":{\"thickness\":40,\"ticklen\":4},\"colorscale\":[[0.0,\"rgb(3, 5, 18)\"],[0.11,\"rgb(27, 26, 54)\"],[0.22,\"rgb(48, 46, 95)\"],[0.33,\"rgb(60, 66, 136)\"],[0.44,\"rgb(62, 93, 168)\"],[0.56,\"rgb(66, 122, 183)\"],[0.67,\"rgb(82, 149, 192)\"],[0.78,\"rgb(106, 177, 203)\"],[0.89,\"rgb(140, 203, 219)\"],[1.0,\"rgb(188, 227, 235)\"]],\"sizemode\":\"absolute\",\"sizeref\":0.2,\"u\":[0.0002348017133362616,0.0013883257439517085,0.0016538107895380898,0.001667782623754329,0.001678529375597558,0.0016886794018765097,0.003517267155363629,0.003939629166769834,0.00395206872600086,0.0058286497992475345,0.006688159730293783,0.006795377104204997,0.009435747783409026,0.01146434958611614,0.01168486143680364,0.011739217243155409,0.014522437031197266,0.018682691699078546,0.01925474886676881,0.01923842695561473,0.019224814102490106,0.019295398551661513,0.022066692025655033,0.024912889428613583,0.027179349578222434,0.03019983068279286,0.03152654936443278,0.03373303271236061,0.03768797777738886,0.04176153284719164,0.04575965643980262,0.04958649899926293,0.0533404298911182,0.05713870151744205,0.06099082631553099,0.06475049585451709,0.06837305206710287,0.07210434562171697,0.07611167698765886],\"v\":[-0.00015383563604430984,-0.0008210433811854138,-0.0009497109164462673,-0.0009528249273658869,-0.0009541149133330176,-0.000954788621399149,-0.0011325073631553023,-0.00119652746491003,-0.0011990907529375767,-0.0017015613269472235,-0.001961427855759333,-0.0019981279519084086,-0.0030913345917224083,-0.004041343599751182,-0.004146823731151092,-0.004175415048824085,-0.005639848303749112,-0.007890947969627277,-0.008195181640083954,-0.008190323260327564,-0.008187302106047734,-0.008217460212528283,-0.009301275185723656,-0.010383445444697603,-0.011337029022399359,-0.012759040011489031,-0.013427759782244142,-0.014711065768372333,-0.01722019221954252,-0.020227385391554775,-0.023637439294236673,-0.0272766875186099,-0.03115929120462213,-0.03555586825601864,-0.04030218965715937,-0.04505477572643901,-0.04995653189040761,-0.05483539695259654,-0.059716767852609376],\"w\":[-0.000504765356010406,0.00973886592086215,0.009066523420778072,0.006429351775267822,0.0037665930754635646,0.0010964761077607577,0.00698972052234037,0.006119104815316856,0.003446161041772644,0.007517985518465942,0.007764613074910276,0.0054185834405338085,0.011450817340520114,0.015091533611275132,0.01308117189176583,0.010554097714887689,0.016354100102432323,0.025809174431255855,0.024798464042485868,0.022069947943875068,0.019359634006366644,0.016929367269757467,0.022604908996609385,0.028034427154164376,0.031759888419140125,0.03728956996451682,0.038134778421618165,0.0413405250065928,0.04899210595262282,0.05726656481288295,0.0657589734825823,0.07393934086864551,0.08162983127817647,0.0895230249856569,0.09720362703755736,0.10420453448769695,0.11098920095831488,0.11729720526356768,0.12329688412933848],\"x\":[0.0003313765513170616,0.00391356004386865,0.01045216688499199,0.01710341828102341,0.023801492703640414,0.03054107582668791,0.040982478961941925,0.056629968853487755,0.07242081564343575,0.09202051677365088,0.11800221167121112,0.14510087267976018,0.1776698519926833,0.2210538283127777,0.26774315713629543,0.31460549568251683,0.36727326701013735,0.4357954042864925,0.5127376455045388,0.5897163128508901,0.6666347733821611,0.743683008663917,0.8266214766157229,0.9223938705722406,1.0277730890525543,1.1438088280422785,1.268452815206689,1.3995916850293455,1.5441445436889947,1.7051726058838812,1.8822570079022483,2.074808120313205,2.2826328156840847,2.505547485168844,2.7435918750931454,2.997158670853864,3.265237388750923,3.547935400750716,3.8463439545387526],\"y\":[-0.0002130617039103393,-0.00243501961585647,-0.006202253863096369,-0.010009716622329393,-0.013824483694242589,-0.01764277135521865,-0.02176574001306914,-0.026533008352788857,-0.031325640753275145,-0.03711711124066199,-0.044718283728919374,-0.0526812651343808,-0.06285515011312877,-0.07785845952368019,-0.09442051401637347,-0.11107225289656861,-0.13077597081309023,-0.15900052231989123,-0.1917375251655065,-0.22450604251871015,-0.25725911177208627,-0.29007299527489255,-0.3252175767414644,-0.36526192883434705,-0.4091717911921071,-0.4579314709590778,-0.5108750974703928,-0.5674839119951516,-0.6322981318921181,-0.7086268832134969,-0.7979429908333447,-0.9014964750001822,-1.020235898924485,-1.1557974442441887,-1.3097018310171848,-1.4828530563664433,-1.6753772123807813,-1.8873915965768384,-2.118955547038985],\"z\":[2.9498061345396827,2.9733724951025424,3.013187585792958,3.0428698086708255,3.0619322644913853,3.0703249387590597,3.085584581503535,3.113676026939918,3.1314755221679866,3.1523581136542553,3.184839367734858,3.2103021290636415,3.2432166118640935,3.299905304290125,3.3561312690779106,3.4020949886548686,3.455199278000036,3.5442629059978366,3.647262975418316,3.739634027898661,3.8211311247180797,3.8924042523730864,3.9710018915259724,4.07615182413637,4.197845283732715,4.338155928039014,4.490813828284901,4.65014563208409,4.83381417326046,5.050636279979322,5.3009273811115305,5.584426045793904,5.899570391574935,6.245967349166809,6.623137209749165,7.029797285248244,7.46376743950509,7.923566640887753,8.407898286355113],\"type\":\"cone\"},{\"marker\":{\"color\":\"red\",\"opacity\":0.8,\"size\":10},\"mode\":\"markers\",\"x\":[1.279921023586016],\"y\":[-0.7029059565782289],\"z\":[8.5],\"type\":\"scatter3d\"}],                        {\"autosize\":false,\"height\":750,\"scene\":{\"aspectratio\":{\"x\":1,\"y\":1,\"z\":0.8},\"camera\":{\"eye\":{\"x\":1.2,\"y\":1.2,\"z\":0.6}},\"xaxis\":{\"backgroundcolor\":\"rgb(235, 235, 235)\",\"gridcolor\":\"rgb(255, 255, 255)\",\"showbackground\":true,\"zerolinecolor\":\"rgb(255, 255, 255)\"},\"yaxis\":{\"backgroundcolor\":\"rgb(235, 235, 235)\",\"gridcolor\":\"rgb(255, 255, 255)\",\"showbackground\":true,\"zerolinecolor\":\"rgb(255, 255, 255)\"},\"zaxis\":{\"backgroundcolor\":\"rgb(235, 235, 235)\",\"gridcolor\":\"rgb(255, 255, 255)\",\"showbackground\":true,\"zerolinecolor\":\"rgb(255, 255, 255)\"}},\"width\":900,\"template\":{\"data\":{\"histogram2dcontour\":[{\"type\":\"histogram2dcontour\",\"colorbar\":{\"outlinewidth\":0,\"ticks\":\"\"},\"colorscale\":[[0.0,\"#0d0887\"],[0.1111111111111111,\"#46039f\"],[0.2222222222222222,\"#7201a8\"],[0.3333333333333333,\"#9c179e\"],[0.4444444444444444,\"#bd3786\"],[0.5555555555555556,\"#d8576b\"],[0.6666666666666666,\"#ed7953\"],[0.7777777777777778,\"#fb9f3a\"],[0.8888888888888888,\"#fdca26\"],[1.0,\"#f0f921\"]]}],\"choropleth\":[{\"type\":\"choropleth\",\"colorbar\":{\"outlinewidth\":0,\"ticks\":\"\"}}],\"histogram2d\":[{\"type\":\"histogram2d\",\"colorbar\":{\"outlinewidth\":0,\"ticks\":\"\"},\"colorscale\":[[0.0,\"#0d0887\"],[0.1111111111111111,\"#46039f\"],[0.2222222222222222,\"#7201a8\"],[0.3333333333333333,\"#9c179e\"],[0.4444444444444444,\"#bd3786\"],[0.5555555555555556,\"#d8576b\"],[0.6666666666666666,\"#ed7953\"],[0.7777777777777778,\"#fb9f3a\"],[0.8888888888888888,\"#fdca26\"],[1.0,\"#f0f921\"]]}],\"heatmap\":[{\"type\":\"heatmap\",\"colorbar\":{\"outlinewidth\":0,\"ticks\":\"\"},\"colorscale\":[[0.0,\"#0d0887\"],[0.1111111111111111,\"#46039f\"],[0.2222222222222222,\"#7201a8\"],[0.3333333333333333,\"#9c179e\"],[0.4444444444444444,\"#bd3786\"],[0.5555555555555556,\"#d8576b\"],[0.6666666666666666,\"#ed7953\"],[0.7777777777777778,\"#fb9f3a\"],[0.8888888888888888,\"#fdca26\"],[1.0,\"#f0f921\"]]}],\"heatmapgl\":[{\"type\":\"heatmapgl\",\"colorbar\":{\"outlinewidth\":0,\"ticks\":\"\"},\"colorscale\":[[0.0,\"#0d0887\"],[0.1111111111111111,\"#46039f\"],[0.2222222222222222,\"#7201a8\"],[0.3333333333333333,\"#9c179e\"],[0.4444444444444444,\"#bd3786\"],[0.5555555555555556,\"#d8576b\"],[0.6666666666666666,\"#ed7953\"],[0.7777777777777778,\"#fb9f3a\"],[0.8888888888888888,\"#fdca26\"],[1.0,\"#f0f921\"]]}],\"contourcarpet\":[{\"type\":\"contourcarpet\",\"colorbar\":{\"outlinewidth\":0,\"ticks\":\"\"}}],\"contour\":[{\"type\":\"contour\",\"colorbar\":{\"outlinewidth\":0,\"ticks\":\"\"},\"colorscale\":[[0.0,\"#0d0887\"],[0.1111111111111111,\"#46039f\"],[0.2222222222222222,\"#7201a8\"],[0.3333333333333333,\"#9c179e\"],[0.4444444444444444,\"#bd3786\"],[0.5555555555555556,\"#d8576b\"],[0.6666666666666666,\"#ed7953\"],[0.7777777777777778,\"#fb9f3a\"],[0.8888888888888888,\"#fdca26\"],[1.0,\"#f0f921\"]]}],\"surface\":[{\"type\":\"surface\",\"colorbar\":{\"outlinewidth\":0,\"ticks\":\"\"},\"colorscale\":[[0.0,\"#0d0887\"],[0.1111111111111111,\"#46039f\"],[0.2222222222222222,\"#7201a8\"],[0.3333333333333333,\"#9c179e\"],[0.4444444444444444,\"#bd3786\"],[0.5555555555555556,\"#d8576b\"],[0.6666666666666666,\"#ed7953\"],[0.7777777777777778,\"#fb9f3a\"],[0.8888888888888888,\"#fdca26\"],[1.0,\"#f0f921\"]]}],\"mesh3d\":[{\"type\":\"mesh3d\",\"colorbar\":{\"outlinewidth\":0,\"ticks\":\"\"}}],\"scatter\":[{\"marker\":{\"line\":{\"color\":\"#283442\"}},\"type\":\"scatter\"}],\"parcoords\":[{\"type\":\"parcoords\",\"line\":{\"colorbar\":{\"outlinewidth\":0,\"ticks\":\"\"}}}],\"scatterpolargl\":[{\"type\":\"scatterpolargl\",\"marker\":{\"colorbar\":{\"outlinewidth\":0,\"ticks\":\"\"}}}],\"bar\":[{\"error_x\":{\"color\":\"#f2f5fa\"},\"error_y\":{\"color\":\"#f2f5fa\"},\"marker\":{\"line\":{\"color\":\"rgb(17,17,17)\",\"width\":0.5},\"pattern\":{\"fillmode\":\"overlay\",\"size\":10,\"solidity\":0.2}},\"type\":\"bar\"}],\"scattergeo\":[{\"type\":\"scattergeo\",\"marker\":{\"colorbar\":{\"outlinewidth\":0,\"ticks\":\"\"}}}],\"scatterpolar\":[{\"type\":\"scatterpolar\",\"marker\":{\"colorbar\":{\"outlinewidth\":0,\"ticks\":\"\"}}}],\"histogram\":[{\"marker\":{\"pattern\":{\"fillmode\":\"overlay\",\"size\":10,\"solidity\":0.2}},\"type\":\"histogram\"}],\"scattergl\":[{\"marker\":{\"line\":{\"color\":\"#283442\"}},\"type\":\"scattergl\"}],\"scatter3d\":[{\"type\":\"scatter3d\",\"line\":{\"colorbar\":{\"outlinewidth\":0,\"ticks\":\"\"}},\"marker\":{\"colorbar\":{\"outlinewidth\":0,\"ticks\":\"\"}}}],\"scattermapbox\":[{\"type\":\"scattermapbox\",\"marker\":{\"colorbar\":{\"outlinewidth\":0,\"ticks\":\"\"}}}],\"scatterternary\":[{\"type\":\"scatterternary\",\"marker\":{\"colorbar\":{\"outlinewidth\":0,\"ticks\":\"\"}}}],\"scattercarpet\":[{\"type\":\"scattercarpet\",\"marker\":{\"colorbar\":{\"outlinewidth\":0,\"ticks\":\"\"}}}],\"carpet\":[{\"aaxis\":{\"endlinecolor\":\"#A2B1C6\",\"gridcolor\":\"#506784\",\"linecolor\":\"#506784\",\"minorgridcolor\":\"#506784\",\"startlinecolor\":\"#A2B1C6\"},\"baxis\":{\"endlinecolor\":\"#A2B1C6\",\"gridcolor\":\"#506784\",\"linecolor\":\"#506784\",\"minorgridcolor\":\"#506784\",\"startlinecolor\":\"#A2B1C6\"},\"type\":\"carpet\"}],\"table\":[{\"cells\":{\"fill\":{\"color\":\"#506784\"},\"line\":{\"color\":\"rgb(17,17,17)\"}},\"header\":{\"fill\":{\"color\":\"#2a3f5f\"},\"line\":{\"color\":\"rgb(17,17,17)\"}},\"type\":\"table\"}],\"barpolar\":[{\"marker\":{\"line\":{\"color\":\"rgb(17,17,17)\",\"width\":0.5},\"pattern\":{\"fillmode\":\"overlay\",\"size\":10,\"solidity\":0.2}},\"type\":\"barpolar\"}],\"pie\":[{\"automargin\":true,\"type\":\"pie\"}]},\"layout\":{\"autotypenumbers\":\"strict\",\"colorway\":[\"#636efa\",\"#EF553B\",\"#00cc96\",\"#ab63fa\",\"#FFA15A\",\"#19d3f3\",\"#FF6692\",\"#B6E880\",\"#FF97FF\",\"#FECB52\"],\"font\":{\"color\":\"#f2f5fa\"},\"hovermode\":\"closest\",\"hoverlabel\":{\"align\":\"left\"},\"paper_bgcolor\":\"rgb(17,17,17)\",\"plot_bgcolor\":\"rgb(17,17,17)\",\"polar\":{\"bgcolor\":\"rgb(17,17,17)\",\"angularaxis\":{\"gridcolor\":\"#506784\",\"linecolor\":\"#506784\",\"ticks\":\"\"},\"radialaxis\":{\"gridcolor\":\"#506784\",\"linecolor\":\"#506784\",\"ticks\":\"\"}},\"ternary\":{\"bgcolor\":\"rgb(17,17,17)\",\"aaxis\":{\"gridcolor\":\"#506784\",\"linecolor\":\"#506784\",\"ticks\":\"\"},\"baxis\":{\"gridcolor\":\"#506784\",\"linecolor\":\"#506784\",\"ticks\":\"\"},\"caxis\":{\"gridcolor\":\"#506784\",\"linecolor\":\"#506784\",\"ticks\":\"\"}},\"coloraxis\":{\"colorbar\":{\"outlinewidth\":0,\"ticks\":\"\"}},\"colorscale\":{\"sequential\":[[0.0,\"#0d0887\"],[0.1111111111111111,\"#46039f\"],[0.2222222222222222,\"#7201a8\"],[0.3333333333333333,\"#9c179e\"],[0.4444444444444444,\"#bd3786\"],[0.5555555555555556,\"#d8576b\"],[0.6666666666666666,\"#ed7953\"],[0.7777777777777778,\"#fb9f3a\"],[0.8888888888888888,\"#fdca26\"],[1.0,\"#f0f921\"]],\"sequentialminus\":[[0.0,\"#0d0887\"],[0.1111111111111111,\"#46039f\"],[0.2222222222222222,\"#7201a8\"],[0.3333333333333333,\"#9c179e\"],[0.4444444444444444,\"#bd3786\"],[0.5555555555555556,\"#d8576b\"],[0.6666666666666666,\"#ed7953\"],[0.7777777777777778,\"#fb9f3a\"],[0.8888888888888888,\"#fdca26\"],[1.0,\"#f0f921\"]],\"diverging\":[[0,\"#8e0152\"],[0.1,\"#c51b7d\"],[0.2,\"#de77ae\"],[0.3,\"#f1b6da\"],[0.4,\"#fde0ef\"],[0.5,\"#f7f7f7\"],[0.6,\"#e6f5d0\"],[0.7,\"#b8e186\"],[0.8,\"#7fbc41\"],[0.9,\"#4d9221\"],[1,\"#276419\"]]},\"xaxis\":{\"gridcolor\":\"#283442\",\"linecolor\":\"#506784\",\"ticks\":\"\",\"title\":{\"standoff\":15},\"zerolinecolor\":\"#283442\",\"automargin\":true,\"zerolinewidth\":2},\"yaxis\":{\"gridcolor\":\"#283442\",\"linecolor\":\"#506784\",\"ticks\":\"\",\"title\":{\"standoff\":15},\"zerolinecolor\":\"#283442\",\"automargin\":true,\"zerolinewidth\":2},\"scene\":{\"xaxis\":{\"backgroundcolor\":\"rgb(17,17,17)\",\"gridcolor\":\"#506784\",\"linecolor\":\"#506784\",\"showbackground\":true,\"ticks\":\"\",\"zerolinecolor\":\"#C8D4E3\",\"gridwidth\":2},\"yaxis\":{\"backgroundcolor\":\"rgb(17,17,17)\",\"gridcolor\":\"#506784\",\"linecolor\":\"#506784\",\"showbackground\":true,\"ticks\":\"\",\"zerolinecolor\":\"#C8D4E3\",\"gridwidth\":2},\"zaxis\":{\"backgroundcolor\":\"rgb(17,17,17)\",\"gridcolor\":\"#506784\",\"linecolor\":\"#506784\",\"showbackground\":true,\"ticks\":\"\",\"zerolinecolor\":\"#C8D4E3\",\"gridwidth\":2}},\"shapedefaults\":{\"line\":{\"color\":\"#f2f5fa\"}},\"annotationdefaults\":{\"arrowcolor\":\"#f2f5fa\",\"arrowhead\":0,\"arrowwidth\":1},\"geo\":{\"bgcolor\":\"rgb(17,17,17)\",\"landcolor\":\"rgb(17,17,17)\",\"subunitcolor\":\"#506784\",\"showland\":true,\"showlakes\":true,\"lakecolor\":\"rgb(17,17,17)\"},\"title\":{\"x\":0.05},\"updatemenudefaults\":{\"bgcolor\":\"#506784\",\"borderwidth\":0},\"sliderdefaults\":{\"bgcolor\":\"#C8D4E3\",\"borderwidth\":1,\"bordercolor\":\"rgb(17,17,17)\",\"tickwidth\":0},\"mapbox\":{\"style\":\"dark\"}}}},                        {\"responsive\": true}                    ).then(function(){\n                            \nvar gd = document.getElementById('eafb027d-7c60-43d0-a511-a2553cfbfdc2');\nvar x = new MutationObserver(function (mutations, observer) {{\n        var display = window.getComputedStyle(gd).display;\n        if (!display || display === 'none') {{\n            console.log([gd, 'removed!']);\n            Plotly.purge(gd);\n            observer.disconnect();\n        }}\n}});\n\n// Listen for the removal of the full notebook cells\nvar notebookContainer = gd.closest('#notebook-container');\nif (notebookContainer) {{\n    x.observe(notebookContainer, {childList: true});\n}}\n\n// Listen for the clearing of the current output cell\nvar outputEl = gd.closest('.output');\nif (outputEl) {{\n    x.observe(outputEl, {childList: true});\n}}\n\n                        })                };                });            </script>        </div>"
     },
     "metadata": {},
     "output_type": "display_data"
    }
   ],
   "source": [
    "ep_idx = 5\n",
    "linear_positions = result[\"linear_position\"][ep_idx]\n",
    "linear_velocities = result[\"linear_velocity\"][ep_idx]\n",
    "target_vector = result[\"waypoints\"][ep_idx]\n",
    "plotly_vector_field(linear_positions, linear_velocities, target_vector, size=0.2)"
   ],
   "metadata": {
    "collapsed": false,
    "ExecuteTime": {
     "end_time": "2024-11-18T16:13:41.967452Z",
     "start_time": "2024-11-18T16:13:41.906205Z"
    }
   },
   "id": "b2a95df97a68de2a",
   "execution_count": 27
  },
  {
   "cell_type": "markdown",
   "source": [
    "# Smoothness of control inputs"
   ],
   "metadata": {
    "collapsed": false
   },
   "id": "97abdcada713f5b0"
  },
  {
   "cell_type": "code",
   "outputs": [
    {
     "name": "stderr",
     "output_type": "stream",
     "text": [
      "/Users/felixunterleiter/Documents/GitHub/pyflyt_experience/Evaluation/vis_model.py:126: UserWarning:\n",
      "\n",
      "No artists with labels found to put in legend.  Note that artists whose label start with an underscore are ignored when legend() is called with no argument.\n",
      "\n"
     ]
    },
    {
     "data": {
      "text/plain": "<Figure size 800x600 with 1 Axes>",
      "image/png": "[encoded data removed]"
     },
     "metadata": {},
     "output_type": "display_data"
    }
   ],
   "source": [
    "smoothness_result = {\n",
    "    \"smoothness\": result[\"smoothness\"]\n",
    "}\n",
    "plot_eval(smoothness_result, average=True)"
   ],
   "metadata": {
    "collapsed": false,
    "ExecuteTime": {
     "end_time": "2024-11-18T16:09:51.331883Z",
     "start_time": "2024-11-18T16:09:51.181828Z"
    }
   },
   "id": "6837fad84a66bcf2",
   "execution_count": 17
  },
  {
   "cell_type": "markdown",
   "source": [
    "# Azimuth and Elevation Angles"
   ],
   "metadata": {
    "collapsed": false
   },
   "id": "5888810287a4f241"
  },
  {
   "cell_type": "code",
   "outputs": [
    {
     "data": {
      "text/plain": "<Figure size 1000x800 with 1 Axes>",
      "image/png": "[encoded data removed]"
     },
     "metadata": {},
     "output_type": "display_data"
    }
   ],
   "source": [
    "pitch, yaw, roll = [[np.array([a[0]]) for a in result[\"angular_position\"][0]]], [[np.array([a[1]]) for a in result[\"angular_position\"][0]]], [[np.array([a[2]]) for a in result[\"angular_position\"][0]]]\n",
    "\n",
    "angles_result = {\n",
    "    # \"azimuth\": result[\"azimuth_angle\"],\n",
    "    # \"elevation\": result[\"elevation_angle\"],\n",
    "    \"pitch\": result[\"pitch\"],\n",
    "    \"roll\": result[\"roll\"],\n",
    "    \"yaw\": result[\"yaw\"],\n",
    "    # \"thrust\": result[\"thrust\"]\n",
    "}\n",
    "\n",
    "plot_multiple_eval(angles_result, average=False)"
   ],
   "metadata": {
    "collapsed": false,
    "ExecuteTime": {
     "end_time": "2024-11-18T16:11:52.976707Z",
     "start_time": "2024-11-18T16:11:52.687159Z"
    }
   },
   "id": "f9f9ce3574a480cd",
   "execution_count": 23
  },
  {
   "cell_type": "markdown",
   "source": [
    "# Translation Accuracy"
   ],
   "metadata": {
    "collapsed": false
   },
   "id": "3566d3ffbc3d3309"
  },
  {
   "cell_type": "markdown",
   "source": [
    "The translation accuracy describes the absolute difference between the sampled action and its effect on the angular position of the UAV."
   ],
   "metadata": {
    "collapsed": false
   },
   "id": "27ae567d2b39988a"
  },
  {
   "cell_type": "code",
   "outputs": [
    {
     "data": {
      "text/plain": "<Figure size 1000x800 with 1 Axes>",
      "image/png": "[encoded data removed]"
     },
     "metadata": {},
     "output_type": "display_data"
    }
   ],
   "source": [
    "pitch_transl, yaw_transl, roll_transl = [], [], []\n",
    "\n",
    "for ep in result[\"translation_accuracy\"]:\n",
    "    pitch_transl.append([np.array([a[0]]) for a in ep])\n",
    "    yaw_transl.append([np.array([a[1]]) for a in ep])\n",
    "    roll_transl.append([np.array([a[2]]) for a in ep])\n",
    "    \n",
    "translation_result = {\n",
    "    \"pitch_translation\": pitch_transl,\n",
    "    \"yaw_translation\": yaw_transl,\n",
    "    \"roll_translation\": roll_transl\n",
    "}\n",
    "\n",
    "plot_multiple_eval(translation_result, average=False)"
   ],
   "metadata": {
    "collapsed": false,
    "ExecuteTime": {
     "end_time": "2024-11-18T16:09:51.821205Z",
     "start_time": "2024-11-18T16:09:51.500115Z"
    }
   },
   "id": "74959a72f13adfe4",
   "execution_count": 19
  },
  {
   "cell_type": "markdown",
   "source": [
    "# Angular Positions over time"
   ],
   "metadata": {
    "collapsed": false
   },
   "id": "7ff20f28921a9217"
  },
  {
   "cell_type": "code",
   "outputs": [
    {
     "name": "stdout",
     "output_type": "stream",
     "text": [
      "Max Pitch: 0.8799984351545296, Max Roll: 0.9275107143396802, Max Yaw: 3.1415301220341196\n",
      "Min Pitch: 0.001993230034401808, Min Roll: 3.589149765697043e-05, Min Yaw: 0.0105317908191825\n"
     ]
    }
   ],
   "source": [
    "abs_max_pitch, abs_max_roll, abs_max_yaw = -np.inf, -np.inf, -np.inf\n",
    "abs_min_pitch, abs_min_roll, abs_min_yaw = np.inf, np.inf, np.inf\n",
    "\n",
    "for ep in result[\"angular_position\"]:\n",
    "    # Plot the maximum angular position for each episode\n",
    "    max_pitch, max_roll, max_yaw = np.max(np.abs(ep), axis=0)\n",
    "    min_pitch, min_roll, min_yaw = np.min(np.abs(ep), axis=0)\n",
    "    if max_pitch > abs_max_pitch:\n",
    "        abs_max_pitch = max_pitch\n",
    "    if max_roll > abs_max_roll:\n",
    "        abs_max_roll = max_roll\n",
    "    if max_yaw > abs_max_yaw:\n",
    "        abs_max_yaw = max_yaw\n",
    "        \n",
    "    if min_pitch < abs_min_pitch:\n",
    "        abs_min_pitch = min_pitch\n",
    "    if min_roll < abs_min_roll:\n",
    "        abs_min_roll = min_roll\n",
    "    if min_yaw < abs_min_yaw:\n",
    "        abs_min_yaw = min_yaw\n",
    "    \n",
    "print(f\"Max Pitch: {abs_max_pitch}, Max Roll: {abs_max_roll}, Max Yaw: {abs_max_yaw}\")\n",
    "print(f\"Min Pitch: {abs_min_pitch}, Min Roll: {abs_min_roll}, Min Yaw: {abs_min_yaw}\")"
   ],
   "metadata": {
    "collapsed": false,
    "ExecuteTime": {
     "end_time": "2024-11-18T16:09:52.026050Z",
     "start_time": "2024-11-18T16:09:51.819692Z"
    }
   },
   "id": "44765c1de3195b4d",
   "execution_count": 20
  },
  {
   "cell_type": "markdown",
   "source": [
    "# Experimentation"
   ],
   "metadata": {
    "collapsed": false
   },
   "id": "de813d209575c6d1"
  },
  {
   "cell_type": "code",
   "outputs": [
    {
     "name": "stdout",
     "output_type": "stream",
     "text": [
      "\u001B[A                             \u001B[A\n",
      "\u001B[A                             \u001B[A\n",
      "Target vector: [-3.36439714e-03 -6.05263682e-02  8.50000000e+00]\n",
      "Action: [-0.83070214  1.09685168  2.54025059  0.57715687]\n",
      "(t=0): velocity: [0.80906111 0.58772453]; LOS: [-0.05663851 -0.99839475]; azimuth: [2.25570864]; elevation: [-3.13072069]\n",
      "Action: [-1.76597824  1.05239927  3.08418987  0.57812232]\n",
      "(t=1): velocity: [0.78000796 0.6257696 ]; LOS: [-0.07050316 -0.99751156]; azimuth: [2.31747582]; elevation: [-2.53536853]\n",
      "Action: [ 2.79503723  1.92421004 -0.52880711  0.64509445]\n",
      "(t=2): velocity: [0.79332155 0.60880285]; LOS: [-0.11222114 -0.99368326]; azimuth: [2.33780503]; elevation: [-0.22766041]\n",
      "Action: [-2.11015029 -1.76399597 -2.96685671  0.59662042]\n",
      "(t=3): velocity: [0.8856212  0.46440833]; LOS: [-0.19673388 -0.98045692]; azimuth: [2.25178832]; elevation: [-0.2148118]\n",
      "Action: [-0.05473251  2.78301222  3.05930785  0.76745447]\n",
      "(t=4): velocity: [0.85082334 0.52545185]; LOS: [-0.30202826 -0.95329897]; azimuth: [2.43086198]; elevation: [-0.17820052]\n",
      "Action: [-0.33152522  2.57050107 -1.02973039  0.3011325 ]\n",
      "(t=5): velocity: [0.85782045 0.51394948]; LOS: [-0.40881572 -0.91261696]; azimuth: [2.5317349]; elevation: [-0.20394973]\n",
      "Action: [-0.24649554  2.1048146   1.30063035  0.11343915]\n",
      "(t=6): velocity: [0.86128986 0.50811394]; LOS: [-0.49229673 -0.87042744]; azimuth: [2.61851631]; elevation: [-0.2425755]\n",
      "Action: [-2.51306118  0.17103076 -0.36694395  0.392408  ]\n",
      "(t=7): velocity: [0.86939471 0.49411825]; LOS: [-0.5596024  -0.82876122]; azimuth: [2.68152262]; elevation: [-0.29512365]\n",
      "Action: [-2.97441368  0.81173988 -2.32168695  0.18918435]\n",
      "(t=8): velocity: [0.86618315 0.49972668]; LOS: [-0.61419083 -0.78915754]; azimuth: [2.75543973]; elevation: [-0.35307617]\n",
      "Action: [-0.80185714 -0.20229002 -2.4732134   0.33701813]\n",
      "(t=9): velocity: [0.85275494 0.52231122]; LOS: [-0.6549674  -0.75565714]; azimuth: [2.83449481]; elevation: [-0.42028859]\n",
      "Action: [ 1.66292342 -0.73146526  0.78703795  0.57723867]\n",
      "(t=10): velocity: [0.81849177 0.57451826]; LOS: [-0.68568309 -0.7279002 ]; azimuth: [2.9383535]; elevation: [-0.45261494]\n",
      "Action: [-1.28839704 -1.41511937  1.09257634  0.3697027 ]\n",
      "(t=11): velocity: [0.80699317 0.59056076]; LOS: [-0.70806994 -0.70614231]; azimuth: [2.98931107]; elevation: [-0.49085898]\n",
      "Action: [ 0.96267188  2.68969824 -0.8264055   0.08338721]\n",
      "(t=12): velocity: [0.80122943 0.59835725]; LOS: [-0.72322913 -0.69060816]; azimuth: [3.0207123]; elevation: [-0.55750696]\n",
      "Action: [-0.14660267 -1.38236005 -0.54453686  0.129791  ]\n",
      "(t=13): velocity: [0.7998372  0.60021701]; LOS: [-0.7340933  -0.67904862]; azimuth: [3.03889919]; elevation: [-0.64991309]\n",
      "Action: [-2.9864522   2.92927542  0.315903    0.27569539]\n",
      "(t=14): velocity: [0.79646099 0.60468991]; LOS: [-0.74224621 -0.67012728]; azimuth: [3.05658888]; elevation: [-0.73880718]\n",
      "Action: [-2.70972948 -0.59288455  1.90799005  0.15458487]\n",
      "(t=15): velocity: [0.79328371 0.60885217]; LOS: [-0.74841686 -0.66322862]; azimuth: [3.07108101]; elevation: [-0.85908208]\n",
      "Action: [-0.90238507  0.98973766  2.99670598  0.2184341 ]\n",
      "(t=16): velocity: [0.78797839 0.6157029 ]; LOS: [-0.75298513 -0.65803753]; azimuth: [3.08666081]; elevation: [-1.00317304]\n",
      "Action: [ 1.94607292 -1.59735183 -2.24011311  0.78187404]\n",
      "(t=17): velocity: [0.75028632 0.66111303]; LOS: [-0.75436642 -0.65645358]; azimuth: [-3.13539928]; elevation: [-0.89104811]\n",
      "Action: [-0.16780506  2.24799345  2.2208343   0.52493913]\n",
      "(t=18): velocity: [0.73356662 0.67961755]; LOS: [-0.75218918 -0.65894722]; azimuth: [-3.11376977]; elevation: [-0.85632423]\n",
      "Action: [-2.12302353  0.78734816 -2.01512691  0.38768961]\n",
      "(t=19): velocity: [0.72890408 0.68461584]; LOS: [-0.74942633 -0.66208774]; azimuth: [-3.11111726]; elevation: [-0.90075569]\n",
      "Action: [-1.45919981  2.09501859  1.06941867  0.60365901]\n",
      "(t=20): velocity: [0.71763771 0.69641663]; LOS: [-0.7459334  -0.66602054]; azimuth: [-3.10006174]; elevation: [-0.91679277]\n",
      "Action: [-0.62837601  0.32096653  3.08654483  0.53055541]\n",
      "(t=21): velocity: [0.70945754 0.70474818]; LOS: [-0.74159386 -0.67084913]; azimuth: [-3.09487772]; elevation: [-0.950171]\n",
      "Action: [1.68993058 0.1698051  1.98216794 0.0915068 ]\n",
      "(t=22): velocity: [0.70797685 0.70623564]; LOS: [-0.73754652 -0.67529633]; azimuth: [-3.09879212]; elevation: [-1.03058544]\n",
      "Action: [2.53503205 0.18974439 1.92418428 0.29010958]\n",
      "(t=23): velocity: [0.70770598 0.70650707]; LOS: [-0.73428319 -0.67884328]; azimuth: [-3.10322843]; elevation: [-1.11451293]\n",
      "Action: [ 1.89481095 -2.0708749  -1.95944749  0.34268473]\n",
      "(t=24): velocity: [0.70988517 0.70431744]; LOS: [-0.73168928 -0.68163832]; azimuth: [-3.11013088]; elevation: [-1.1830973]\n",
      "Action: [-1.64477711  1.53969927 -1.90444242  0.29179384]\n",
      "(t=25): velocity: [0.71210932 0.7020686 ]; LOS: [-0.72972431 -0.68374149]; azimuth: [-3.11617208]; elevation: [-1.25565959]\n",
      "Action: [-2.75679087  1.10226556 -1.2572522   0.55726985]\n",
      "(t=26): velocity: [0.71464839 0.69948386]; LOS: [-0.7282452  -0.68531667]; azimuth: [-3.12195608]; elevation: [-1.29051407]\n",
      "Action: [ 1.65681952 -0.15495088 -0.23904959  0.43500895]\n",
      "(t=27): velocity: [0.7146712  0.69946056]; LOS: [-0.72697041 -0.68666879]; azimuth: [-3.123847]; elevation: [-1.33601806]\n",
      "Action: [-2.02474814 -1.03023724  0.05158914  0.4366887 ]\n",
      "(t=28): velocity: [0.71538135 0.69873423]; LOS: [-0.72592834 -0.68777034]; azimuth: [-3.12637915]; elevation: [-1.38707793]\n",
      "Action: [-1.846743   -0.44710702 -2.94426763  0.42706224]\n",
      "(t=29): velocity: [0.71228286 0.70189253]; LOS: [-0.7248595  -0.68889673]; azimuth: [-3.12350753]; elevation: [-1.43838865]\n",
      "Action: [ 0.66371084  2.20488864 -3.0098344   0.25565948]\n",
      "(t=30): velocity: [0.71008836 0.70411258]; LOS: [-0.72369005 -0.69012514]; azimuth: [-3.12208197]; elevation: [-1.51657843]\n",
      "Action: [-2.28155259 -0.26194663 -0.65264745  0.62075475]\n",
      "(t=31): velocity: [0.70612852 0.70808369]; LOS: [-0.72243888 -0.69143479]; azimuth: [-3.11828518]; elevation: [-1.54661506]\n",
      "Action: [2.20857746 1.21941716 3.13964435 0.39797081]\n",
      "(t=32): velocity: [0.70144655 0.71272206]; LOS: [-0.72085691 -0.69308392]; azimuth: [-3.11397985]; elevation: [-1.59439154]\n",
      "Action: [ 2.26437176 -0.7691625   2.76376022  0.39945708]\n",
      "(t=33): velocity: [0.70111472 0.71304849]; LOS: [-0.71933882 -0.69465939]; azimuth: [-3.11570223]; elevation: [-1.66034877]\n",
      "Action: [ 1.93142526  0.00266288 -0.73479304  0.65987097]\n",
      "(t=34): velocity: [0.70478063 0.70942531]; LOS: [-0.71809442 -0.69594569]; azimuth: [-3.12264621]; elevation: [-1.67855342]\n",
      "Action: [-0.9687877  -2.39011287  0.36897729  0.57191511]\n",
      "(t=35): velocity: [0.70930751 0.70489918]; LOS: [-0.71733918 -0.69672412]; azimuth: [-3.13013226]; elevation: [-1.70615604]\n",
      "Action: [ 0.65846811  0.09327711 -0.0660542   0.54688415]\n",
      "(t=36): velocity: [0.71001155 0.70419003]; LOS: [-0.71676873 -0.69731097]; azimuth: [-3.13194996]; elevation: [-1.74293694]\n",
      "Action: [1.844973   0.0973648  1.52133407 0.14044177]\n",
      "(t=37): velocity: [0.71037136 0.70382706]; LOS: [-0.71631007 -0.69778211]; azimuth: [-3.13311857]; elevation: [-1.82406468]\n",
      "Action: [-0.54564896 -1.20503669 -2.76284112  0.28099593]\n",
      "(t=38): velocity: [0.71135    0.70283794]; LOS: [-0.71595384 -0.69814762]; azimuth: [-3.13502039]; elevation: [-1.89956047]\n",
      "Action: [-2.64716199 -3.06431071 -0.52590282  0.63025447]\n",
      "(t=39): velocity: [0.711331   0.70285718]; LOS: [-0.71568518 -0.69842302]; azimuth: [-3.13537809]; elevation: [-1.92268077]\n",
      "Action: [-1.55903001 -2.95352852 -0.41426009  0.69249636]\n",
      "(t=40): velocity: [0.70225169 0.71192876]; LOS: [-0.71508305 -0.6990395 ]; azimuth: [-3.12340514]; elevation: [-1.91616364]\n",
      "Action: [ 2.83101786  1.41415336 -2.2636313   0.58654101]\n",
      "(t=41): velocity: [0.69321146 0.72073426]; LOS: [-0.7138805  -0.70026754]; azimuth: [-3.11250391]; elevation: [-1.93423179]\n",
      "Action: [-0.6033545  -1.03410219 -2.49082261  0.38115932]\n",
      "(t=42): velocity: [0.69097802 0.72287576]; LOS: [-0.71253746 -0.70163407]; azimuth: [-3.1113257]; elevation: [-1.98761483]\n",
      "Action: [2.10933353 1.38294295 1.00093569 0.54603957]\n",
      "(t=43): velocity: [0.68722168 0.72644777]; LOS: [-0.71114349 -0.7030469 ]; azimuth: [-3.10812687]; elevation: [-2.02316059]\n",
      "Action: [ 2.42816016 -0.36576597  2.29733036  0.45816485]\n",
      "(t=44): velocity: [0.68637171 0.7272509 ]; LOS: [-0.70976103 -0.70444253]; azimuth: [-3.10892192]; elevation: [-2.06572246]\n",
      "Action: [2.08456079 0.52454105 2.16968007 0.46403452]\n",
      "(t=45): velocity: [0.68722538 0.72644427]; LOS: [-0.70851759 -0.70569315]; azimuth: [-3.11185997]; elevation: [-2.10907706]\n",
      "Action: [ 1.76538411 -2.80599714  1.63422916  0.55189256]\n",
      "(t=46): velocity: [0.690087   0.72372642]; LOS: [-0.70750213 -0.70671122]; azimuth: [-3.11724449]; elevation: [-2.13753883]\n",
      "Action: [ 1.86646713 -1.63137335  0.71152348  0.51948464]\n",
      "(t=47): velocity: [0.69240227 0.72151167]; LOS: [-0.70669791 -0.70751541]; azimuth: [-3.1215858]; elevation: [-2.16286814]\n",
      "Action: [ 2.42463336  2.41010455 -3.03910965  0.01635899]\n",
      "(t=48): velocity: [0.69329846 0.72065057]; LOS: [-0.70604234 -0.70816962]; azimuth: [-3.12375481]; elevation: [-2.21954743]\n",
      "Action: [ 0.13617472 -2.49906268 -1.2127577   0.52539827]\n",
      "(t=49): velocity: [0.69386431 0.72010577]; LOS: [-0.70589778 -0.70831372]; azimuth: [-3.1247444]; elevation: [-2.23293454]\n"
     ]
    }
   ],
   "source": [
    "env_id = \"SingleWaypointQuadXEnv-v0\"\n",
    "env = gym.make(env_id, render_mode=None)\n",
    "\n",
    "term, trunc = False, False\n",
    "obs, info = env.reset()\n",
    "target_vector = env.unwrapped.waypoints.targets[0]\n",
    "print(f'Target vector: {target_vector}')\n",
    "\n",
    "linear_positions = []\n",
    "linear_velocities = []  # in unit-length\n",
    "t = 0\n",
    "sign = 1\n",
    "\n",
    "while not (term or trunc):\n",
    "    action = env.action_space.sample()\n",
    "    print(f'Action: {action}')\n",
    "    obs, reward, term, trunc, info = env.step(action)\n",
    "    linear_positions.append(info[\"linear_position\"])\n",
    "    # linear_velocities.append(info[\"linear_velocity\"]/np.linalg.norm(info[\"linear_velocity\"]))\n",
    "    lin_vel = info[\"linear_velocity\"]\n",
    "    # lin_vel[2] = 0.0\n",
    "    linear_velocities.append(lin_vel)\n",
    "    lin_vel_xy_proj = info[\"linear_velocity\"][:2]/np.linalg.norm(info[\"linear_velocity\"][:2])\n",
    "    LOS_vector = target_vector - info[\"linear_position\"]\n",
    "    LOS_xy_proj = LOS_vector[:2]/np.linalg.norm(LOS_vector[:2])\n",
    "    print(f'(t={t}): velocity: {lin_vel_xy_proj}; LOS: {LOS_xy_proj}; azimuth: {obs[\"azimuth_angle\"]}; elevation: {obs[\"elevation_angle\"]}')\n",
    "    # print(f'(t={t}): Current angular position: {info[\"angular_position\"]}')\n",
    "    # print(f'(t={t}): Current angular velocity: {obs[\"ang_vel\"]}')\n",
    "    # if np.abs(info[\"angular_position\"][0]) >= 1.0*np.pi:\n",
    "    #     print(\"---- Angular position exceeded threshold ----\")\n",
    "    #     sign *= -1\n",
    "    t += 1"
   ],
   "metadata": {
    "collapsed": false,
    "ExecuteTime": {
     "end_time": "2024-11-18T16:09:52.110817Z",
     "start_time": "2024-11-18T16:09:51.885985Z"
    }
   },
   "id": "d135b11206152777",
   "execution_count": 21
  }
 ],
 "metadata": {
  "kernelspec": {
   "display_name": "Python 3",
   "language": "python",
   "name": "python3"
  },
  "language_info": {
   "codemirror_mode": {
    "name": "ipython",
    "version": 2
   },
   "file_extension": ".py",
   "mimetype": "text/x-python",
   "name": "python",
   "nbconvert_exporter": "python",
   "pygments_lexer": "ipython2",
   "version": "2.7.6"
  }
 },
 "nbformat": 4,
 "nbformat_minor": 5
}
